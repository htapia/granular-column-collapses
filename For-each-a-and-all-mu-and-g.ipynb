{
 "metadata": {
  "name": ""
 },
 "nbformat": 3,
 "nbformat_minor": 0,
 "worksheets": [
  {
   "cells": [
    {
     "cell_type": "markdown",
     "metadata": {},
     "source": [
      "##Analysis of final distances for fixed $a$\n",
      "###Changing $\\mu$ or $g$ \n",
      "We basically put everything together when we analyze fixing $a$."
     ]
    },
    {
     "cell_type": "code",
     "collapsed": false,
     "input": [
      "import importipynb\n",
      "import numpy as np\n",
      "\n",
      "import pandas as pd\n",
      "import matplotlib.pyplot as plt\n",
      "\n",
      "%load_ext autoreload\n",
      "%autoreload 2\n",
      "# import matplotlib.tri as tri\n",
      "# from scipy.spatial import Voronoi, voronoi_plot_2d\n",
      "\n",
      "import collapse_nb as col"
     ],
     "language": "python",
     "metadata": {},
     "outputs": [
      {
       "html": [
        "\n",
        "<style type='text/css'>\n",
        ".hll { background-color: #ffffcc }\n",
        ".c { color: #408080; font-style: italic } /* Comment */\n",
        ".err { border: 1px solid #FF0000 } /* Error */\n",
        ".k { color: #008000; font-weight: bold } /* Keyword */\n",
        ".o { color: #666666 } /* Operator */\n",
        ".cm { color: #408080; font-style: italic } /* Comment.Multiline */\n",
        ".cp { color: #BC7A00 } /* Comment.Preproc */\n",
        ".c1 { color: #408080; font-style: italic } /* Comment.Single */\n",
        ".cs { color: #408080; font-style: italic } /* Comment.Special */\n",
        ".gd { color: #A00000 } /* Generic.Deleted */\n",
        ".ge { font-style: italic } /* Generic.Emph */\n",
        ".gr { color: #FF0000 } /* Generic.Error */\n",
        ".gh { color: #000080; font-weight: bold } /* Generic.Heading */\n",
        ".gi { color: #00A000 } /* Generic.Inserted */\n",
        ".go { color: #888888 } /* Generic.Output */\n",
        ".gp { color: #000080; font-weight: bold } /* Generic.Prompt */\n",
        ".gs { font-weight: bold } /* Generic.Strong */\n",
        ".gu { color: #800080; font-weight: bold } /* Generic.Subheading */\n",
        ".gt { color: #0044DD } /* Generic.Traceback */\n",
        ".kc { color: #008000; font-weight: bold } /* Keyword.Constant */\n",
        ".kd { color: #008000; font-weight: bold } /* Keyword.Declaration */\n",
        ".kn { color: #008000; font-weight: bold } /* Keyword.Namespace */\n",
        ".kp { color: #008000 } /* Keyword.Pseudo */\n",
        ".kr { color: #008000; font-weight: bold } /* Keyword.Reserved */\n",
        ".kt { color: #B00040 } /* Keyword.Type */\n",
        ".m { color: #666666 } /* Literal.Number */\n",
        ".s { color: #BA2121 } /* Literal.String */\n",
        ".na { color: #7D9029 } /* Name.Attribute */\n",
        ".nb { color: #008000 } /* Name.Builtin */\n",
        ".nc { color: #0000FF; font-weight: bold } /* Name.Class */\n",
        ".no { color: #880000 } /* Name.Constant */\n",
        ".nd { color: #AA22FF } /* Name.Decorator */\n",
        ".ni { color: #999999; font-weight: bold } /* Name.Entity */\n",
        ".ne { color: #D2413A; font-weight: bold } /* Name.Exception */\n",
        ".nf { color: #0000FF } /* Name.Function */\n",
        ".nl { color: #A0A000 } /* Name.Label */\n",
        ".nn { color: #0000FF; font-weight: bold } /* Name.Namespace */\n",
        ".nt { color: #008000; font-weight: bold } /* Name.Tag */\n",
        ".nv { color: #19177C } /* Name.Variable */\n",
        ".ow { color: #AA22FF; font-weight: bold } /* Operator.Word */\n",
        ".w { color: #bbbbbb } /* Text.Whitespace */\n",
        ".mf { color: #666666 } /* Literal.Number.Float */\n",
        ".mh { color: #666666 } /* Literal.Number.Hex */\n",
        ".mi { color: #666666 } /* Literal.Number.Integer */\n",
        ".mo { color: #666666 } /* Literal.Number.Oct */\n",
        ".sb { color: #BA2121 } /* Literal.String.Backtick */\n",
        ".sc { color: #BA2121 } /* Literal.String.Char */\n",
        ".sd { color: #BA2121; font-style: italic } /* Literal.String.Doc */\n",
        ".s2 { color: #BA2121 } /* Literal.String.Double */\n",
        ".se { color: #BB6622; font-weight: bold } /* Literal.String.Escape */\n",
        ".sh { color: #BA2121 } /* Literal.String.Heredoc */\n",
        ".si { color: #BB6688; font-weight: bold } /* Literal.String.Interpol */\n",
        ".sx { color: #008000 } /* Literal.String.Other */\n",
        ".sr { color: #BB6688 } /* Literal.String.Regex */\n",
        ".s1 { color: #BA2121 } /* Literal.String.Single */\n",
        ".ss { color: #19177C } /* Literal.String.Symbol */\n",
        ".bp { color: #008000 } /* Name.Builtin.Pseudo */\n",
        ".vc { color: #19177C } /* Name.Variable.Class */\n",
        ".vg { color: #19177C } /* Name.Variable.Global */\n",
        ".vi { color: #19177C } /* Name.Variable.Instance */\n",
        ".il { color: #666666 } /* Literal.Number.Integer.Long */\n",
        "</style>\n"
       ],
       "metadata": {},
       "output_type": "display_data",
       "text": [
        "<IPython.core.display.HTML at 0x3ab1810>"
       ]
      },
      {
       "output_type": "stream",
       "stream": "stdout",
       "text": [
        "importing IPython notebook from collapse_nb.ipynb\n"
       ]
      }
     ],
     "prompt_number": 1
    },
    {
     "cell_type": "code",
     "collapsed": false,
     "input": [
      "# friction and gravity values\n",
      "mus = np.arange(0.5,1.0,0.1)\n",
      "gis = np.array([0.1, 0.2, 0.3, 0.4, 0.5, 1.0, 10.0])\n",
      "\n",
      "# here select a\n",
      "A = 1.4\n",
      "data_dic = {}\n",
      "\n",
      "for m in mus:\n",
      "    data_sr = pd.Series([col.Collapsebin(A, g, m) for g in gis], \n",
      "                         index=gis)\n",
      "    data_sr.name = 'A=%s, mu=%s' % (A, m)\n",
      "    data_dic[m] = data_sr\n",
      "    \n",
      "data_df = pd.DataFrame(data_dic)\n",
      "\n",
      "# data.name = data_name"
     ],
     "language": "python",
     "metadata": {},
     "outputs": [
      {
       "output_type": "stream",
       "stream": "stdout",
       "text": [
        "\n",
        "Starting...\n",
        "log_run_liggghts_collapseColumn_DEM_a1.4_g_0.1_mu_0.5\n"
       ]
      },
      {
       "output_type": "stream",
       "stream": "stdout",
       "text": [
        "reading dump file...\n",
        "270000"
       ]
      },
      {
       "output_type": "stream",
       "stream": "stdout",
       "text": [
        "\n",
        "1 snapshots selected out of 1\n",
        "assigned columns: id type x y z ix iy iz vx vy vz fx fy fz omegax omegay omegaz radius \n",
        "dump is already unscaled\n",
        "\n",
        "Initial mean Kinetic   Energy 0.000000 [J]: \n",
        "Initial mean Potential Energy 0.000012 [J]: \n",
        "Files seem to exist in /home/htapia/projects/liggghts/column2D/A_1.4_grav_0.1_mu_0.5/\n"
       ]
      },
      {
       "output_type": "stream",
       "stream": "stdout",
       "text": [
        "\n",
        "self.H0           : 0.424650"
       ]
      },
      {
       "output_type": "stream",
       "stream": "stdout",
       "text": [
        "\n",
        "self.h_max_prof[0]: 0.424510\n",
        "self.L0           : 0.275338\n",
        "self.r_max_prof   : 0.275300\n",
        "self.A            : 1.400000 (from input)\n",
        "self.aParam       : 1.542285, 1.542285 (from =H0/L0)\n",
        "self.aParamFunc   : 1.541777 (from h_max_prof[0]/L0 )\n",
        "self.aParamFunc   : 1.541991 (from h_max_prof[0]/self.r_max_prof )\n",
        "\n",
        "Starting...\n",
        "log_run_liggghts_collapseColumn_DEM_a1.4_g_0.2_mu_0.5\n"
       ]
      },
      {
       "output_type": "stream",
       "stream": "stdout",
       "text": [
        "reading dump file...\n",
        "390000"
       ]
      },
      {
       "output_type": "stream",
       "stream": "stdout",
       "text": [
        "\n",
        "1 snapshots selected out of 1\n",
        "assigned columns: id type x y z ix iy iz vx vy vz fx fy fz omegax omegay omegaz radius \n",
        "dump is already unscaled\n",
        "\n",
        "Initial mean Kinetic   Energy 0.000000 [J]: \n",
        "Initial mean Potential Energy 0.000023 [J]: \n",
        "Files seem to exist in /home/htapia/projects/liggghts/column2D/A_1.4_grav_0.2_mu_0.5/\n"
       ]
      },
      {
       "output_type": "stream",
       "stream": "stdout",
       "text": [
        "\n",
        "self.H0           : 0.425262"
       ]
      },
      {
       "output_type": "stream",
       "stream": "stdout",
       "text": [
        "\n",
        "self.h_max_prof[0]: 0.425210\n",
        "self.L0           : 0.275364\n",
        "self.r_max_prof   : 0.275330\n",
        "self.A            : 1.400000 (from input)\n",
        "self.aParam       : 1.544366, 1.544366 (from =H0/L0)\n",
        "self.aParamFunc   : 1.544177 (from h_max_prof[0]/L0 )\n",
        "self.aParamFunc   : 1.544365 (from h_max_prof[0]/self.r_max_prof )\n",
        "\n",
        "Starting...\n",
        "log_run_liggghts_collapseColumn_DEM_a1.4_g_0.3_mu_0.5\n"
       ]
      },
      {
       "output_type": "stream",
       "stream": "stdout",
       "text": [
        "reading dump file...\n",
        "225000"
       ]
      },
      {
       "output_type": "stream",
       "stream": "stdout",
       "text": [
        "\n",
        "1 snapshots selected out of 1\n",
        "assigned columns: id type x y z ix iy iz vx vy vz fx fy fz omegax omegay omegaz radius \n",
        "dump is already unscaled\n",
        "\n",
        "Initial mean Kinetic   Energy -0.000000 [J]: \n",
        "Initial mean Potential Energy 0.000035 [J]: \n",
        "Files seem to exist in /home/htapia/projects/liggghts/column2D/A_1.4_grav_0.3_mu_0.5/\n"
       ]
      },
      {
       "output_type": "stream",
       "stream": "stdout",
       "text": [
        "\n",
        "self.H0           : 0.423235"
       ]
      },
      {
       "output_type": "stream",
       "stream": "stdout",
       "text": [
        "\n",
        "self.h_max_prof[0]: 0.423170\n",
        "self.L0           : 0.275352\n",
        "self.r_max_prof   : 0.275350\n",
        "self.A            : 1.400000 (from input)\n",
        "self.aParam       : 1.537068, 1.537068 (from =H0/L0)\n",
        "self.aParamFunc   : 1.536831 (from h_max_prof[0]/L0 )\n",
        "self.aParamFunc   : 1.536844 (from h_max_prof[0]/self.r_max_prof )\n",
        "\n",
        "Starting...\n",
        "log_run_liggghts_collapseColumn_DEM_a1.4_g_0.4_mu_0.5\n"
       ]
      },
      {
       "output_type": "stream",
       "stream": "stdout",
       "text": [
        "reading dump file...\n",
        "165000"
       ]
      },
      {
       "output_type": "stream",
       "stream": "stdout",
       "text": [
        "\n",
        "1 snapshots selected out of 1\n",
        "assigned columns: id type x y z ix iy iz vx vy vz fx fy fz omegax omegay omegaz radius \n",
        "dump is already unscaled\n",
        "\n",
        "Initial mean Kinetic   Energy 0.000000 [J]: \n",
        "Initial mean Potential Energy 0.000046 [J]: \n",
        "Files seem to exist in /home/htapia/projects/liggghts/column2D/A_1.4_grav_0.4_mu_0.5/\n"
       ]
      },
      {
       "output_type": "stream",
       "stream": "stdout",
       "text": [
        "\n",
        "self.H0           : 0.421642"
       ]
      },
      {
       "output_type": "stream",
       "stream": "stdout",
       "text": [
        "\n",
        "self.h_max_prof[0]: 0.421560\n",
        "self.L0           : 0.275393\n",
        "self.r_max_prof   : 0.275350\n",
        "self.A            : 1.400000 (from input)\n",
        "self.aParam       : 1.531058, 1.531058 (from =H0/L0)\n",
        "self.aParamFunc   : 1.530760 (from h_max_prof[0]/L0 )\n",
        "self.aParamFunc   : 1.530997 (from h_max_prof[0]/self.r_max_prof )\n",
        "\n",
        "Starting...\n",
        "log_run_liggghts_collapseColumn_DEM_a1.4_g_0.5_mu_0.5\n"
       ]
      },
      {
       "output_type": "stream",
       "stream": "stdout",
       "text": [
        "reading dump file...\n",
        "405000"
       ]
      },
      {
       "output_type": "stream",
       "stream": "stdout",
       "text": [
        "\n",
        "1 snapshots selected out of 1\n",
        "assigned columns: id type x y z ix iy iz vx vy vz fx fy fz omegax omegay omegaz radius \n",
        "dump is already unscaled\n",
        "\n",
        "Initial mean Kinetic   Energy -0.000000 [J]: \n",
        "Initial mean Potential Energy 0.000057 [J]: \n",
        "Files seem to exist in /home/htapia/projects/liggghts/column2D/A_1.4_grav_0.5_mu_0.5/\n"
       ]
      },
      {
       "output_type": "stream",
       "stream": "stdout",
       "text": [
        "\n",
        "self.H0           : 0.419903"
       ]
      },
      {
       "output_type": "stream",
       "stream": "stdout",
       "text": [
        "\n",
        "self.h_max_prof[0]: 0.419810\n",
        "self.L0           : 0.275445\n",
        "self.r_max_prof   : 0.275380\n",
        "self.A            : 1.400000 (from input)\n",
        "self.aParam       : 1.524457, 1.524457 (from =H0/L0)\n",
        "self.aParamFunc   : 1.524118 (from h_max_prof[0]/L0 )\n",
        "self.aParamFunc   : 1.524475 (from h_max_prof[0]/self.r_max_prof )\n",
        "\n",
        "Starting...\n",
        "log_run_liggghts_collapseColumn_DEM_a1.4_g_1.0_mu_0.5\n"
       ]
      },
      {
       "output_type": "stream",
       "stream": "stdout",
       "text": [
        "reading dump file...\n",
        "405000"
       ]
      },
      {
       "output_type": "stream",
       "stream": "stdout",
       "text": [
        "\n",
        "1 snapshots selected out of 1\n",
        "assigned columns: id type x y z ix iy iz vx vy vz fx fy fz omegax omegay omegaz radius \n",
        "dump is already unscaled\n",
        "\n",
        "Initial mean Kinetic   Energy -0.000000 [J]: \n",
        "Initial mean Potential Energy 0.000113 [J]: \n",
        "Files seem to exist in /home/htapia/projects/liggghts/column2D/A_1.4_grav_1.0_mu_0.5/\n",
        "\n",
        "self.H0           : 0.416064"
       ]
      },
      {
       "output_type": "stream",
       "stream": "stdout",
       "text": [
        "\n",
        "self.h_max_prof[0]: 0.415930\n",
        "self.L0           : 0.275499\n",
        "self.r_max_prof   : 0.275400\n",
        "self.A            : 1.400000 (from input)\n",
        "self.aParam       : 1.510221, 1.510221 (from =H0/L0)\n",
        "self.aParamFunc   : 1.509736 (from h_max_prof[0]/L0 )\n",
        "self.aParamFunc   : 1.510276 (from h_max_prof[0]/self.r_max_prof )\n",
        "\n",
        "Starting...\n",
        "log_run_liggghts_collapseColumn_DEM_a1.4_g_10.0_mu_0.5\n"
       ]
      },
      {
       "output_type": "stream",
       "stream": "stdout",
       "text": [
        "reading dump file...\n",
        "525000"
       ]
      },
      {
       "output_type": "stream",
       "stream": "stdout",
       "text": [
        "\n",
        "1 snapshots selected out of 1\n",
        "assigned columns: id type x y z ix iy iz vx vy vz fx fy fz omegax omegay omegaz radius \n",
        "dump is already unscaled\n",
        "\n",
        "Initial mean Kinetic   Energy 0.000000 [J]: \n",
        "Initial mean Potential Energy 0.001011 [J]: \n",
        "Files seem to exist in /home/htapia/projects/liggghts/column2D/A_1.4_grav_10.0_mu_0.5/\n",
        "\n",
        "self.H0           : 0.381150"
       ]
      },
      {
       "output_type": "stream",
       "stream": "stdout",
       "text": [
        "\n",
        "self.h_max_prof[0]: 0.380590\n",
        "self.L0           : 0.276139\n",
        "self.r_max_prof   : 0.275750\n",
        "self.A            : 1.400000 (from input)\n",
        "self.aParam       : 1.380286, 1.380286 (from =H0/L0)\n",
        "self.aParamFunc   : 1.378257 (from h_max_prof[0]/L0 )\n",
        "self.aParamFunc   : 1.380199 (from h_max_prof[0]/self.r_max_prof )\n",
        "\n",
        "Starting...\n",
        "log_run_liggghts_collapseColumn_DEM_a1.4_g_0.1_mu_0.6\n"
       ]
      },
      {
       "output_type": "stream",
       "stream": "stdout",
       "text": [
        "reading dump file...\n",
        "210000"
       ]
      },
      {
       "output_type": "stream",
       "stream": "stdout",
       "text": [
        "\n",
        "1 snapshots selected out of 1\n",
        "assigned columns: id type x y z ix iy iz vx vy vz fx fy fz omegax omegay omegaz radius \n",
        "dump is already unscaled\n",
        "\n",
        "Initial mean Kinetic   Energy -0.000000 [J]: \n",
        "Initial mean Potential Energy 0.000012 [J]: \n",
        "Files seem to exist in /home/htapia/projects/liggghts/column2D/A_1.4_grav_0.1_mu_0.6/\n"
       ]
      },
      {
       "output_type": "stream",
       "stream": "stdout",
       "text": [
        "\n",
        " File collapse210000.csv seems to not exist\n",
        "Enter will create profiles in csv format"
       ]
      },
      {
       "output_type": "stream",
       "stream": "stdout",
       "text": [
        "\n",
        "Please wait while profiles are created from VTKs...\n"
       ]
      },
      {
       "output_type": "stream",
       "stream": "stdout",
       "text": [
        "Done creating profiles from VTKs\n",
        "self.H0           : 0.427849"
       ]
      },
      {
       "output_type": "stream",
       "stream": "stdout",
       "text": [
        "\n",
        "self.h_max_prof[0]: 0.427080\n",
        "self.L0           : 0.275328\n",
        "self.r_max_prof   : 0.275310\n",
        "self.A            : 1.400000 (from input)\n",
        "self.aParam       : 1.553962, 1.553962 (from =H0/L0)\n",
        "self.aParamFunc   : 1.551168 (from h_max_prof[0]/L0 )\n",
        "self.aParamFunc   : 1.551269 (from h_max_prof[0]/self.r_max_prof )\n",
        "\n",
        "Starting...\n",
        "log_run_liggghts_collapseColumn_DEM_a1.4_g_0.2_mu_0.6\n"
       ]
      },
      {
       "output_type": "stream",
       "stream": "stdout",
       "text": [
        "reading dump file...\n",
        "345000"
       ]
      },
      {
       "output_type": "stream",
       "stream": "stdout",
       "text": [
        "\n",
        "1 snapshots selected out of 1\n",
        "assigned columns: id type x y z ix iy iz vx vy vz fx fy fz omegax omegay omegaz radius \n",
        "dump is already unscaled\n",
        "\n",
        "Initial mean Kinetic   Energy 0.000000 [J]: \n",
        "Initial mean Potential Energy 0.000023 [J]: \n",
        "Files seem to exist in /home/htapia/projects/liggghts/column2D/A_1.4_grav_0.2_mu_0.6/\n"
       ]
      },
      {
       "output_type": "stream",
       "stream": "stdout",
       "text": [
        "\n",
        " File collapse345000.csv seems to not exist\n",
        "Enter will create profiles in csv format"
       ]
      },
      {
       "output_type": "stream",
       "stream": "stdout",
       "text": [
        "\n",
        "Please wait while profiles are created from VTKs...\n"
       ]
      },
      {
       "output_type": "stream",
       "stream": "stdout",
       "text": [
        "Done creating profiles from VTKs\n",
        "self.H0           : 0.426853"
       ]
      },
      {
       "output_type": "stream",
       "stream": "stdout",
       "text": [
        "\n",
        "self.h_max_prof[0]: 0.425850\n",
        "self.L0           : 0.275347\n",
        "self.r_max_prof   : 0.275320\n",
        "self.A            : 1.400000 (from input)\n",
        "self.aParam       : 1.550237, 1.550237 (from =H0/L0)\n",
        "self.aParamFunc   : 1.546595 (from h_max_prof[0]/L0 )\n",
        "self.aParamFunc   : 1.546746 (from h_max_prof[0]/self.r_max_prof )\n",
        "\n",
        "Starting...\n",
        "log_run_liggghts_collapseColumn_DEM_a1.4_g_0.3_mu_0.6\n"
       ]
      },
      {
       "output_type": "stream",
       "stream": "stdout",
       "text": [
        "reading dump file...\n",
        "150000"
       ]
      },
      {
       "output_type": "stream",
       "stream": "stdout",
       "text": [
        "\n",
        "1 snapshots selected out of 1\n",
        "assigned columns: id type x y z ix iy iz vx vy vz fx fy fz omegax omegay omegaz radius \n",
        "dump is already unscaled\n",
        "\n",
        "Initial mean Kinetic   Energy 0.000000 [J]: \n",
        "Initial mean Potential Energy 0.000035 [J]: \n",
        "Files seem to exist in /home/htapia/projects/liggghts/column2D/A_1.4_grav_0.3_mu_0.6/\n",
        "\n",
        " File collapse150000.csv seems to not exist\n",
        "Enter will create profiles in csv format"
       ]
      },
      {
       "output_type": "stream",
       "stream": "stdout",
       "text": [
        "\n",
        "Please wait while profiles are created from VTKs...\n"
       ]
      },
      {
       "output_type": "stream",
       "stream": "stdout",
       "text": [
        "Done creating profiles from VTKs\n",
        "self.H0           : 0.425915"
       ]
      },
      {
       "output_type": "stream",
       "stream": "stdout",
       "text": [
        "\n",
        "self.h_max_prof[0]: 0.425840\n",
        "self.L0           : 0.275396\n",
        "self.r_max_prof   : 0.275340\n",
        "self.A            : 1.400000 (from input)\n",
        "self.aParam       : 1.546555, 1.546555 (from =H0/L0)\n",
        "self.aParamFunc   : 1.546283 (from h_max_prof[0]/L0 )\n",
        "self.aParamFunc   : 1.546597 (from h_max_prof[0]/self.r_max_prof )\n",
        "\n",
        "Starting...\n",
        "log_run_liggghts_collapseColumn_DEM_a1.4_g_0.4_mu_0.6\n"
       ]
      },
      {
       "output_type": "stream",
       "stream": "stdout",
       "text": [
        "reading dump file...\n",
        "270000"
       ]
      },
      {
       "output_type": "stream",
       "stream": "stdout",
       "text": [
        "\n",
        "1 snapshots selected out of 1\n",
        "assigned columns: id type x y z ix iy iz vx vy vz fx fy fz omegax omegay omegaz radius \n",
        "dump is already unscaled\n",
        "\n",
        "Initial mean Kinetic   Energy -0.000000 [J]: \n",
        "Initial mean Potential Energy 0.000046 [J]: \n",
        "Files seem to exist in /home/htapia/projects/liggghts/column2D/A_1.4_grav_0.4_mu_0.6/\n",
        "\n",
        " File collapse270000.csv seems to not exist\n",
        "Enter will create profiles in csv format"
       ]
      },
      {
       "output_type": "stream",
       "stream": "stdout",
       "text": [
        "\n",
        "Please wait while profiles are created from VTKs...\n"
       ]
      },
      {
       "output_type": "stream",
       "stream": "stdout",
       "text": [
        "Done creating profiles from VTKs\n",
        "self.H0           : 0.426500"
       ]
      },
      {
       "output_type": "stream",
       "stream": "stdout",
       "text": [
        "\n",
        "self.h_max_prof[0]: 0.425190\n",
        "self.L0           : 0.275400\n",
        "self.r_max_prof   : 0.275360\n",
        "self.A            : 1.400000 (from input)\n",
        "self.aParam       : 1.548657, 1.548657 (from =H0/L0)\n",
        "self.aParamFunc   : 1.543902 (from h_max_prof[0]/L0 )\n",
        "self.aParamFunc   : 1.544124 (from h_max_prof[0]/self.r_max_prof )\n",
        "\n",
        "Starting...\n",
        "log_run_liggghts_collapseColumn_DEM_a1.4_g_0.5_mu_0.6\n"
       ]
      },
      {
       "output_type": "stream",
       "stream": "stdout",
       "text": [
        "reading dump file...\n",
        "435000"
       ]
      },
      {
       "output_type": "stream",
       "stream": "stdout",
       "text": [
        "\n",
        "1 snapshots selected out of 1\n",
        "assigned columns: id type x y z ix iy iz vx vy vz fx fy fz omegax omegay omegaz radius \n",
        "dump is already unscaled\n",
        "\n",
        "Initial mean Kinetic   Energy 0.000000 [J]: \n",
        "Initial mean Potential Energy 0.000058 [J]: \n",
        "Files seem to exist in /home/htapia/projects/liggghts/column2D/A_1.4_grav_0.5_mu_0.6/\n"
       ]
      },
      {
       "output_type": "stream",
       "stream": "stdout",
       "text": [
        "\n",
        " File collapse435000.csv seems to not exist\n",
        "Enter will create profiles in csv format"
       ]
      },
      {
       "output_type": "stream",
       "stream": "stdout",
       "text": [
        "\n",
        "Please wait while profiles are created from VTKs...\n"
       ]
      },
      {
       "output_type": "stream",
       "stream": "stdout",
       "text": [
        "Done creating profiles from VTKs\n",
        "self.H0           : 0.424456"
       ]
      },
      {
       "output_type": "stream",
       "stream": "stdout",
       "text": [
        "\n",
        "self.h_max_prof[0]: 0.424330\n",
        "self.L0           : 0.275420\n",
        "self.r_max_prof   : 0.275360\n",
        "self.A            : 1.400000 (from input)\n",
        "self.aParam       : 1.541124, 1.541124 (from =H0/L0)\n",
        "self.aParamFunc   : 1.540666 (from h_max_prof[0]/L0 )\n",
        "self.aParamFunc   : 1.541001 (from h_max_prof[0]/self.r_max_prof )\n",
        "\n",
        "Starting...\n",
        "log_run_liggghts_collapseColumn_DEM_a1.4_g_1.0_mu_0.6\n"
       ]
      },
      {
       "output_type": "stream",
       "stream": "stdout",
       "text": [
        "reading dump file...\n",
        "345000"
       ]
      },
      {
       "output_type": "stream",
       "stream": "stdout",
       "text": [
        "\n",
        "1 snapshots selected out of 1\n",
        "assigned columns: id type x y z ix iy iz vx vy vz fx fy fz omegax omegay omegaz radius \n",
        "dump is already unscaled\n",
        "\n",
        "Initial mean Kinetic   Energy -0.000000 [J]: \n",
        "Initial mean Potential Energy 0.000114 [J]: \n",
        "Files seem to exist in /home/htapia/projects/liggghts/column2D/A_1.4_grav_1.0_mu_0.6/\n",
        "\n",
        " File collapse345000.csv seems to not exist\n",
        "Enter will create profiles in csv format"
       ]
      },
      {
       "output_type": "stream",
       "stream": "stdout",
       "text": [
        "\n",
        "Please wait while profiles are created from VTKs...\n"
       ]
      },
      {
       "output_type": "stream",
       "stream": "stdout",
       "text": [
        "Done creating profiles from VTKs\n",
        "self.H0           : 0.418800"
       ]
      },
      {
       "output_type": "stream",
       "stream": "stdout",
       "text": [
        "\n",
        "self.h_max_prof[0]: 0.418610\n",
        "self.L0           : 0.275524\n",
        "self.r_max_prof   : 0.275400\n",
        "self.A            : 1.400000 (from input)\n",
        "self.aParam       : 1.520010, 1.520010 (from =H0/L0)\n",
        "self.aParamFunc   : 1.519322 (from h_max_prof[0]/L0 )\n",
        "self.aParamFunc   : 1.520007 (from h_max_prof[0]/self.r_max_prof )\n",
        "\n",
        "Starting...\n",
        "log_run_liggghts_collapseColumn_DEM_a1.4_g_10.0_mu_0.6\n"
       ]
      },
      {
       "output_type": "stream",
       "stream": "stdout",
       "text": [
        "reading dump file...\n",
        "615000"
       ]
      },
      {
       "output_type": "stream",
       "stream": "stdout",
       "text": [
        "\n",
        "1 snapshots selected out of 1\n",
        "assigned columns: id type x y z ix iy iz vx vy vz fx fy fz omegax omegay omegaz radius \n",
        "dump is already unscaled\n",
        "\n",
        "Initial mean Kinetic   Energy -0.000000 [J]: \n",
        "Initial mean Potential Energy 0.001013 [J]: \n",
        "Files seem to exist in /home/htapia/projects/liggghts/column2D/A_1.4_grav_10.0_mu_0.6/\n",
        "\n",
        " File collapse615000.csv seems to not exist\n",
        "Enter will create profiles in csv format"
       ]
      },
      {
       "output_type": "stream",
       "stream": "stdout",
       "text": [
        "\n",
        "Please wait while profiles are created from VTKs...\n"
       ]
      },
      {
       "output_type": "stream",
       "stream": "stdout",
       "text": [
        "Done creating profiles from VTKs\n",
        "self.H0           : 0.382161\n",
        "self.h_max_prof[0]: 0.381560\n",
        "self.L0           : 0.276256\n",
        "self.r_max_prof   : 0.275710\n",
        "self.A            : 1.400000 (from input)\n",
        "self.aParam       : 1.383357, 1.383357 (from =H0/L0)\n",
        "self.aParamFunc   : 1.381183 (from h_max_prof[0]/L0 )\n",
        "self.aParamFunc   : 1.383918 (from h_max_prof[0]/self.r_max_prof )\n",
        "\n",
        "Starting...\n",
        "log_run_liggghts_collapseColumn_DEM_a1.4_g_0.1_mu_0.7\n"
       ]
      },
      {
       "output_type": "stream",
       "stream": "stdout",
       "text": [
        "reading dump file...\n",
        "210000"
       ]
      },
      {
       "output_type": "stream",
       "stream": "stdout",
       "text": [
        "\n",
        "1 snapshots selected out of 1\n",
        "assigned columns: id type x y z ix iy iz vx vy vz fx fy fz omegax omegay omegaz radius \n",
        "dump is already unscaled\n",
        "\n",
        "Initial mean Kinetic   Energy -0.000000 [J]: \n",
        "Initial mean Potential Energy 0.000012 [J]: \n",
        "Files seem to exist in /home/htapia/projects/liggghts/column2D/A_1.4_grav_0.1_mu_0.7/\n",
        "\n",
        " File collapse210000.csv seems to not exist\n",
        "Enter will create profiles in csv format"
       ]
      },
      {
       "output_type": "stream",
       "stream": "stdout",
       "text": [
        "\n",
        "Please wait while profiles are created from VTKs...\n"
       ]
      },
      {
       "output_type": "stream",
       "stream": "stdout",
       "text": [
        "Done creating profiles from VTKs\n",
        "self.H0           : 0.434622"
       ]
      },
      {
       "output_type": "stream",
       "stream": "stdout",
       "text": [
        "\n",
        "self.h_max_prof[0]: 0.428060\n",
        "self.L0           : 0.275316\n",
        "self.r_max_prof   : 0.275310\n",
        "self.A            : 1.400000 (from input)\n",
        "self.aParam       : 1.578630, 1.578630 (from =H0/L0)\n",
        "self.aParamFunc   : 1.554794 (from h_max_prof[0]/L0 )\n",
        "self.aParamFunc   : 1.554829 (from h_max_prof[0]/self.r_max_prof )\n",
        "\n",
        "Starting...\n",
        "log_run_liggghts_collapseColumn_DEM_a1.4_g_0.2_mu_0.7\n"
       ]
      },
      {
       "output_type": "stream",
       "stream": "stdout",
       "text": [
        "reading dump file...\n",
        "405000"
       ]
      },
      {
       "output_type": "stream",
       "stream": "stdout",
       "text": [
        "\n",
        "1 snapshots selected out of 1\n",
        "assigned columns: id type x y z ix iy iz vx vy vz fx fy fz omegax omegay omegaz radius \n",
        "dump is already unscaled\n",
        "\n",
        "Initial mean Kinetic   Energy 0.000000 [J]: \n",
        "Initial mean Potential Energy 0.000023 [J]: \n",
        "Files seem to exist in /home/htapia/projects/liggghts/column2D/A_1.4_grav_0.2_mu_0.7/\n"
       ]
      },
      {
       "output_type": "stream",
       "stream": "stdout",
       "text": [
        "\n",
        " File collapse405000.csv seems to not exist\n",
        "Enter will create profiles in csv format"
       ]
      },
      {
       "output_type": "stream",
       "stream": "stdout",
       "text": [
        "\n",
        "Please wait while profiles are created from VTKs...\n"
       ]
      },
      {
       "output_type": "stream",
       "stream": "stdout",
       "text": [
        "Done creating profiles from VTKs\n",
        "self.H0           : 0.428754"
       ]
      },
      {
       "output_type": "stream",
       "stream": "stdout",
       "text": [
        "\n",
        "self.h_max_prof[0]: 0.427510\n",
        "self.L0           : 0.275351\n",
        "self.r_max_prof   : 0.275320\n",
        "self.A            : 1.400000 (from input)\n",
        "self.aParam       : 1.557120, 1.557120 (from =H0/L0)\n",
        "self.aParamFunc   : 1.552601 (from h_max_prof[0]/L0 )\n",
        "self.aParamFunc   : 1.552775 (from h_max_prof[0]/self.r_max_prof )\n",
        "\n",
        "Starting...\n",
        "log_run_liggghts_collapseColumn_DEM_a1.4_g_0.3_mu_0.7\n"
       ]
      },
      {
       "output_type": "stream",
       "stream": "stdout",
       "text": [
        "reading dump file...\n",
        "150000"
       ]
      },
      {
       "output_type": "stream",
       "stream": "stdout",
       "text": [
        "\n",
        "1 snapshots selected out of 1\n",
        "assigned columns: id type x y z ix iy iz vx vy vz fx fy fz omegax omegay omegaz radius \n",
        "dump is already unscaled\n",
        "\n",
        "Initial mean Kinetic   Energy -0.000000 [J]: \n",
        "Initial mean Potential Energy 0.000035 [J]: \n",
        "Files seem to exist in /home/htapia/projects/liggghts/column2D/A_1.4_grav_0.3_mu_0.7/\n"
       ]
      },
      {
       "output_type": "stream",
       "stream": "stdout",
       "text": [
        "\n",
        " File collapse150000.csv seems to not exist\n",
        "Enter will create profiles in csv format"
       ]
      },
      {
       "output_type": "stream",
       "stream": "stdout",
       "text": [
        "\n",
        "Please wait while profiles are created from VTKs...\n"
       ]
      },
      {
       "output_type": "stream",
       "stream": "stdout",
       "text": [
        "Done creating profiles from VTKs\n",
        "self.H0           : 0.428451"
       ]
      },
      {
       "output_type": "stream",
       "stream": "stdout",
       "text": [
        "\n",
        "self.h_max_prof[0]: 0.426780\n",
        "self.L0           : 0.275403\n",
        "self.r_max_prof   : 0.275330\n",
        "self.A            : 1.400000 (from input)\n",
        "self.aParam       : 1.555722, 1.555722 (from =H0/L0)\n",
        "self.aParamFunc   : 1.549654 (from h_max_prof[0]/L0 )\n",
        "self.aParamFunc   : 1.550067 (from h_max_prof[0]/self.r_max_prof )\n",
        "\n",
        "Starting...\n",
        "log_run_liggghts_collapseColumn_DEM_a1.4_g_0.4_mu_0.7\n"
       ]
      },
      {
       "output_type": "stream",
       "stream": "stdout",
       "text": [
        "reading dump file...\n",
        "465000"
       ]
      },
      {
       "output_type": "stream",
       "stream": "stdout",
       "text": [
        "\n",
        "1 snapshots selected out of 1\n",
        "assigned columns: id type x y z ix iy iz vx vy vz fx fy fz omegax omegay omegaz radius \n",
        "dump is already unscaled\n",
        "\n",
        "Initial mean Kinetic   Energy -0.000000 [J]: \n",
        "Initial mean Potential Energy 0.000047 [J]: \n",
        "Files seem to exist in /home/htapia/projects/liggghts/column2D/A_1.4_grav_0.4_mu_0.7/\n",
        "\n",
        " File collapse465000.csv seems to not exist\n",
        "Enter will create profiles in csv format"
       ]
      },
      {
       "output_type": "stream",
       "stream": "stdout",
       "text": [
        "\n",
        "Please wait while profiles are created from VTKs...\n"
       ]
      },
      {
       "output_type": "stream",
       "stream": "stdout",
       "text": [
        "Done creating profiles from VTKs\n",
        "self.H0           : 0.428173"
       ]
      },
      {
       "output_type": "stream",
       "stream": "stdout",
       "text": [
        "\n",
        "self.h_max_prof[0]: 0.425600\n",
        "self.L0           : 0.275430\n",
        "self.r_max_prof   : 0.275350\n",
        "self.A            : 1.400000 (from input)\n",
        "self.aParam       : 1.554563, 1.554563 (from =H0/L0)\n",
        "self.aParamFunc   : 1.545220 (from h_max_prof[0]/L0 )\n",
        "self.aParamFunc   : 1.545669 (from h_max_prof[0]/self.r_max_prof )\n",
        "\n",
        "Starting...\n",
        "log_run_liggghts_collapseColumn_DEM_a1.4_g_0.5_mu_0.7\n"
       ]
      },
      {
       "output_type": "stream",
       "stream": "stdout",
       "text": [
        "reading dump file...\n",
        "525000"
       ]
      },
      {
       "output_type": "stream",
       "stream": "stdout",
       "text": [
        "\n",
        "1 snapshots selected out of 1\n",
        "assigned columns: id type x y z ix iy iz vx vy vz fx fy fz omegax omegay omegaz radius \n",
        "dump is already unscaled\n",
        "\n",
        "Initial mean Kinetic   Energy 0.000000 [J]: \n",
        "Initial mean Potential Energy 0.000058 [J]: \n",
        "Files seem to exist in /home/htapia/projects/liggghts/column2D/A_1.4_grav_0.5_mu_0.7/\n"
       ]
      },
      {
       "output_type": "stream",
       "stream": "stdout",
       "text": [
        "\n",
        " File collapse525000.csv seems to not exist\n",
        "Enter will create profiles in csv format"
       ]
      },
      {
       "output_type": "stream",
       "stream": "stdout",
       "text": [
        "\n",
        "Please wait while profiles are created from VTKs...\n"
       ]
      },
      {
       "output_type": "stream",
       "stream": "stdout",
       "text": [
        "Done creating profiles from VTKs\n",
        "self.H0           : 0.426536"
       ]
      },
      {
       "output_type": "stream",
       "stream": "stdout",
       "text": [
        "\n",
        "self.h_max_prof[0]: 0.426450\n",
        "self.L0           : 0.275435\n",
        "self.r_max_prof   : 0.275350\n",
        "self.A            : 1.400000 (from input)\n",
        "self.aParam       : 1.548591, 1.548591 (from =H0/L0)\n",
        "self.aParamFunc   : 1.548278 (from h_max_prof[0]/L0 )\n",
        "self.aParamFunc   : 1.548756 (from h_max_prof[0]/self.r_max_prof )\n",
        "\n",
        "Starting...\n",
        "log_run_liggghts_collapseColumn_DEM_a1.4_g_1.0_mu_0.7\n"
       ]
      },
      {
       "output_type": "stream",
       "stream": "stdout",
       "text": [
        "reading dump file...\n",
        "630000"
       ]
      },
      {
       "output_type": "stream",
       "stream": "stdout",
       "text": [
        "\n",
        "1 snapshots selected out of 1\n",
        "assigned columns: id type x y z ix iy iz vx vy vz fx fy fz omegax omegay omegaz radius \n",
        "dump is already unscaled\n",
        "\n",
        "Initial mean Kinetic   Energy -0.000000 [J]: \n",
        "Initial mean Potential Energy 0.000114 [J]: \n",
        "Files seem to exist in /home/htapia/projects/liggghts/column2D/A_1.4_grav_1.0_mu_0.7/\n",
        "\n",
        " File collapse630000.csv seems to not exist\n",
        "Enter will create profiles in csv format"
       ]
      },
      {
       "output_type": "stream",
       "stream": "stdout",
       "text": [
        "\n",
        "Please wait while profiles are created from VTKs...\n"
       ]
      },
      {
       "output_type": "stream",
       "stream": "stdout",
       "text": [
        "Done creating profiles from VTKs\n",
        "self.H0           : 0.420400"
       ]
      },
      {
       "output_type": "stream",
       "stream": "stdout",
       "text": [
        "\n",
        "self.h_max_prof[0]: 0.420210\n",
        "self.L0           : 0.275560\n",
        "self.r_max_prof   : 0.275390\n",
        "self.A            : 1.400000 (from input)\n",
        "self.aParam       : 1.525620, 1.525620 (from =H0/L0)\n",
        "self.aParamFunc   : 1.524932 (from h_max_prof[0]/L0 )\n",
        "self.aParamFunc   : 1.525872 (from h_max_prof[0]/self.r_max_prof )\n",
        "\n",
        "Starting...\n",
        "log_run_liggghts_collapseColumn_DEM_a1.4_g_10.0_mu_0.7\n"
       ]
      },
      {
       "output_type": "stream",
       "stream": "stdout",
       "text": [
        "reading dump file...\n",
        "675000"
       ]
      },
      {
       "output_type": "stream",
       "stream": "stdout",
       "text": [
        "\n",
        "1 snapshots selected out of 1\n",
        "assigned columns: id type x y z ix iy iz vx vy vz fx fy fz omegax omegay omegaz radius \n",
        "dump is already unscaled\n",
        "\n",
        "Initial mean Kinetic   Energy 0.000000 [J]: "
       ]
      },
      {
       "output_type": "stream",
       "stream": "stdout",
       "text": [
        "\n",
        "Initial mean Potential Energy 0.001021 [J]: \n",
        "Files seem to exist in /home/htapia/projects/liggghts/column2D/A_1.4_grav_10.0_mu_0.7/\n",
        "\n",
        " File collapse675000.csv seems to not exist\n",
        "Enter will create profiles in csv format"
       ]
      },
      {
       "output_type": "stream",
       "stream": "stdout",
       "text": [
        "\n",
        "Please wait while profiles are created from VTKs...\n"
       ]
      },
      {
       "output_type": "stream",
       "stream": "stdout",
       "text": [
        "Done creating profiles from VTKs\n",
        "self.H0           : 0.385318\n",
        "self.h_max_prof[0]: 0.383250\n",
        "self.L0           : 0.276164\n",
        "self.r_max_prof   : 0.275670\n",
        "self.A            : 1.400000 (from input)\n",
        "self.aParam       : 1.395249, 1.395249 (from =H0/L0)\n",
        "self.aParamFunc   : 1.387760 (from h_max_prof[0]/L0 )\n",
        "self.aParamFunc   : 1.390249 (from h_max_prof[0]/self.r_max_prof )\n",
        "\n",
        "Starting...\n",
        "log_run_liggghts_collapseColumn_DEM_a1.4_g_0.1_mu_0.8\n"
       ]
      },
      {
       "output_type": "stream",
       "stream": "stdout",
       "text": [
        "reading dump file...\n",
        "210000"
       ]
      },
      {
       "output_type": "stream",
       "stream": "stdout",
       "text": [
        "\n",
        "1 snapshots selected out of 1\n",
        "assigned columns: id type x y z ix iy iz vx vy vz fx fy fz omegax omegay omegaz radius \n",
        "dump is already unscaled\n",
        "\n",
        "Initial mean Kinetic   Energy -0.000000 [J]: "
       ]
      },
      {
       "output_type": "stream",
       "stream": "stdout",
       "text": [
        "\n",
        "Initial mean Potential Energy 0.000012 [J]: \n",
        "Files seem to exist in /home/htapia/projects/liggghts/column2D/A_1.4_grav_0.1_mu_0.8/\n",
        "\n",
        " File collapse210000.csv seems to not exist\n",
        "Enter will create profiles in csv format"
       ]
      },
      {
       "output_type": "stream",
       "stream": "stdout",
       "text": [
        "\n",
        "Please wait while profiles are created from VTKs...\n"
       ]
      },
      {
       "output_type": "stream",
       "stream": "stdout",
       "text": [
        "Done creating profiles from VTKs\n",
        "self.H0           : 0.431241"
       ]
      },
      {
       "output_type": "stream",
       "stream": "stdout",
       "text": [
        "\n",
        "self.h_max_prof[0]: 0.431150\n",
        "self.L0           : 0.275330\n",
        "self.r_max_prof   : 0.275300\n",
        "self.A            : 1.400000 (from input)\n",
        "self.aParam       : 1.566270, 1.566270 (from =H0/L0)\n",
        "self.aParamFunc   : 1.565939 (from h_max_prof[0]/L0 )\n",
        "self.aParamFunc   : 1.566110 (from h_max_prof[0]/self.r_max_prof )\n",
        "\n",
        "Starting...\n",
        "log_run_liggghts_collapseColumn_DEM_a1.4_g_0.2_mu_0.8\n"
       ]
      },
      {
       "output_type": "stream",
       "stream": "stdout",
       "text": [
        "reading dump file...\n",
        "465000"
       ]
      },
      {
       "output_type": "stream",
       "stream": "stdout",
       "text": [
        "\n",
        "1 snapshots selected out of 1\n",
        "assigned columns: id type x y z ix iy iz vx vy vz fx fy fz omegax omegay omegaz radius \n",
        "dump is already unscaled\n",
        "\n",
        "Initial mean Kinetic   Energy -0.000000 [J]: "
       ]
      },
      {
       "output_type": "stream",
       "stream": "stdout",
       "text": [
        "\n",
        "Initial mean Potential Energy 0.000023 [J]: \n",
        "Files seem to exist in /home/htapia/projects/liggghts/column2D/A_1.4_grav_0.2_mu_0.8/\n",
        "\n",
        " File collapse465000.csv seems to not exist\n",
        "Enter will create profiles in csv format"
       ]
      },
      {
       "output_type": "stream",
       "stream": "stdout",
       "text": [
        "\n",
        "Please wait while profiles are created from VTKs...\n"
       ]
      },
      {
       "output_type": "stream",
       "stream": "stdout",
       "text": [
        "Done creating profiles from VTKs\n",
        "self.H0           : 0.430141"
       ]
      },
      {
       "output_type": "stream",
       "stream": "stdout",
       "text": [
        "\n",
        "self.h_max_prof[0]: 0.429280\n",
        "self.L0           : 0.275368\n",
        "self.r_max_prof   : 0.275320\n",
        "self.A            : 1.400000 (from input)\n",
        "self.aParam       : 1.562056, 1.562056 (from =H0/L0)\n",
        "self.aParamFunc   : 1.558930 (from h_max_prof[0]/L0 )\n",
        "self.aParamFunc   : 1.559204 (from h_max_prof[0]/self.r_max_prof )\n",
        "\n",
        "Starting...\n",
        "log_run_liggghts_collapseColumn_DEM_a1.4_g_0.3_mu_0.8\n"
       ]
      },
      {
       "output_type": "stream",
       "stream": "stdout",
       "text": [
        "reading dump file...\n",
        "315000"
       ]
      },
      {
       "output_type": "stream",
       "stream": "stdout",
       "text": [
        "\n",
        "1 snapshots selected out of 1\n",
        "assigned columns: id type x y z ix iy iz vx vy vz fx fy fz omegax omegay omegaz radius \n",
        "dump is already unscaled\n",
        "\n",
        "Initial mean Kinetic   Energy 0.000000 [J]: "
       ]
      },
      {
       "output_type": "stream",
       "stream": "stdout",
       "text": [
        "\n",
        "Initial mean Potential Energy 0.000035 [J]: \n",
        "Files seem to exist in /home/htapia/projects/liggghts/column2D/A_1.4_grav_0.3_mu_0.8/\n",
        "\n",
        " File collapse315000.csv seems to not exist\n",
        "Enter will create profiles in csv format"
       ]
      },
      {
       "output_type": "stream",
       "stream": "stdout",
       "text": [
        "\n",
        "Please wait while profiles are created from VTKs...\n"
       ]
      },
      {
       "output_type": "stream",
       "stream": "stdout",
       "text": [
        "Done creating profiles from VTKs\n",
        "self.H0           : 0.431165"
       ]
      },
      {
       "output_type": "stream",
       "stream": "stdout",
       "text": [
        "\n",
        "self.h_max_prof[0]: 0.431090\n",
        "self.L0           : 0.275419\n",
        "self.r_max_prof   : 0.275350\n",
        "self.A            : 1.400000 (from input)\n",
        "self.aParam       : 1.565490, 1.565490 (from =H0/L0)\n",
        "self.aParamFunc   : 1.565216 (from h_max_prof[0]/L0 )\n",
        "self.aParamFunc   : 1.565607 (from h_max_prof[0]/self.r_max_prof )\n",
        "\n",
        "Starting...\n",
        "log_run_liggghts_collapseColumn_DEM_a1.4_g_0.4_mu_0.8\n"
       ]
      },
      {
       "output_type": "stream",
       "stream": "stdout",
       "text": [
        "reading dump file...\n",
        "465000"
       ]
      },
      {
       "output_type": "stream",
       "stream": "stdout",
       "text": [
        "\n",
        "1 snapshots selected out of 1\n",
        "assigned columns: id type x y z ix iy iz vx vy vz fx fy fz omegax omegay omegaz radius \n",
        "dump is already unscaled\n",
        "\n",
        "Initial mean Kinetic   Energy -0.000000 [J]: \n",
        "Initial mean Potential Energy 0.000047 [J]: \n",
        "Files seem to exist in /home/htapia/projects/liggghts/column2D/A_1.4_grav_0.4_mu_0.8/\n",
        "\n",
        " File collapse465000.csv seems to not exist\n",
        "Enter will create profiles in csv format"
       ]
      },
      {
       "output_type": "stream",
       "stream": "stdout",
       "text": [
        "\n",
        "Please wait while profiles are created from VTKs...\n"
       ]
      },
      {
       "output_type": "stream",
       "stream": "stdout",
       "text": [
        "Done creating profiles from VTKs\n",
        "self.H0           : 0.427005"
       ]
      },
      {
       "output_type": "stream",
       "stream": "stdout",
       "text": [
        "\n",
        "self.h_max_prof[0]: 0.426760\n",
        "self.L0           : 0.275421\n",
        "self.r_max_prof   : 0.275340\n",
        "self.A            : 1.400000 (from input)\n",
        "self.aParam       : 1.550373, 1.550373 (from =H0/L0)\n",
        "self.aParamFunc   : 1.549483 (from h_max_prof[0]/L0 )\n",
        "self.aParamFunc   : 1.549938 (from h_max_prof[0]/self.r_max_prof )\n",
        "\n",
        "Starting...\n",
        "log_run_liggghts_collapseColumn_DEM_a1.4_g_0.5_mu_0.8\n"
       ]
      },
      {
       "output_type": "stream",
       "stream": "stdout",
       "text": [
        "reading dump file...\n",
        "195000"
       ]
      },
      {
       "output_type": "stream",
       "stream": "stdout",
       "text": [
        "\n",
        "1 snapshots selected out of 1\n",
        "assigned columns: id type x y z ix iy iz vx vy vz fx fy fz omegax omegay omegaz radius \n",
        "dump is already unscaled\n",
        "\n",
        "Initial mean Kinetic   Energy -0.000000 [J]: \n",
        "Initial mean Potential Energy 0.000058 [J]: \n",
        "Files seem to exist in /home/htapia/projects/liggghts/column2D/A_1.4_grav_0.5_mu_0.8/\n",
        "\n",
        " File collapse195000.csv seems to not exist\n",
        "Enter will create profiles in csv format"
       ]
      },
      {
       "output_type": "stream",
       "stream": "stdout",
       "text": [
        "\n",
        "Please wait while profiles are created from VTKs...\n"
       ]
      },
      {
       "output_type": "stream",
       "stream": "stdout",
       "text": [
        "Done creating profiles from VTKs\n",
        "self.H0           : 0.426262"
       ]
      },
      {
       "output_type": "stream",
       "stream": "stdout",
       "text": [
        "\n",
        "self.h_max_prof[0]: 0.426170\n",
        "self.L0           : 0.275426\n",
        "self.r_max_prof   : 0.275360\n",
        "self.A            : 1.400000 (from input)\n",
        "self.aParam       : 1.547646, 1.547646 (from =H0/L0)\n",
        "self.aParamFunc   : 1.547312 (from h_max_prof[0]/L0 )\n",
        "self.aParamFunc   : 1.547683 (from h_max_prof[0]/self.r_max_prof )\n",
        "\n",
        "Starting...\n",
        "log_run_liggghts_collapseColumn_DEM_a1.4_g_1.0_mu_0.8\n"
       ]
      },
      {
       "output_type": "stream",
       "stream": "stdout",
       "text": [
        "reading dump file...\n",
        "270000"
       ]
      },
      {
       "output_type": "stream",
       "stream": "stdout",
       "text": [
        "\n",
        "1 snapshots selected out of 1\n",
        "assigned columns: id type x y z ix iy iz vx vy vz fx fy fz omegax omegay omegaz radius \n",
        "dump is already unscaled\n",
        "\n",
        "Initial mean Kinetic   Energy 0.000000 [J]: \n",
        "Initial mean Potential Energy 0.000114 [J]: \n",
        "Files seem to exist in /home/htapia/projects/liggghts/column2D/A_1.4_grav_1.0_mu_0.8/\n"
       ]
      },
      {
       "output_type": "stream",
       "stream": "stdout",
       "text": [
        "\n",
        " File collapse270000.csv seems to not exist\n",
        "Enter will create profiles in csv format"
       ]
      },
      {
       "output_type": "stream",
       "stream": "stdout",
       "text": [
        "\n",
        "Please wait while profiles are created from VTKs...\n"
       ]
      },
      {
       "output_type": "stream",
       "stream": "stdout",
       "text": [
        "Done creating profiles from VTKs\n",
        "self.H0           : 0.420286\n",
        "self.h_max_prof[0]: 0.419330\n",
        "self.L0           : 0.275548\n",
        "self.r_max_prof   : 0.275430\n",
        "self.A            : 1.400000 (from input)\n",
        "self.aParam       : 1.525274, 1.525274 (from =H0/L0)\n",
        "self.aParamFunc   : 1.521806 (from h_max_prof[0]/L0 )\n",
        "self.aParamFunc   : 1.522456 (from h_max_prof[0]/self.r_max_prof )\n",
        "\n",
        "Starting...\n",
        "log_run_liggghts_collapseColumn_DEM_a1.4_g_10.0_mu_0.8\n"
       ]
      },
      {
       "output_type": "stream",
       "stream": "stdout",
       "text": [
        "reading dump file...\n",
        "735000"
       ]
      },
      {
       "output_type": "stream",
       "stream": "stdout",
       "text": [
        "\n",
        "1 snapshots selected out of 1\n",
        "assigned columns: id type x y z ix iy iz vx vy vz fx fy fz omegax omegay omegaz radius \n",
        "dump is already unscaled\n",
        "\n",
        "Initial mean Kinetic   Energy 0.000000 [J]: \n",
        "Initial mean Potential Energy 0.001024 [J]: \n",
        "Files seem to exist in /home/htapia/projects/liggghts/column2D/A_1.4_grav_10.0_mu_0.8/\n",
        "\n",
        " File collapse735000.csv seems to not exist\n",
        "Enter will create profiles in csv format"
       ]
      },
      {
       "output_type": "stream",
       "stream": "stdout",
       "text": [
        "\n",
        "Please wait while profiles are created from VTKs...\n"
       ]
      },
      {
       "output_type": "stream",
       "stream": "stdout",
       "text": [
        "Done creating profiles from VTKs\n",
        "self.H0           : 0.387767\n",
        "self.h_max_prof[0]: 0.384640\n",
        "self.L0           : 0.276294\n",
        "self.r_max_prof   : 0.275770\n",
        "self.A            : 1.400000 (from input)\n",
        "self.aParam       : 1.403458, 1.403458 (from =H0/L0)\n",
        "self.aParamFunc   : 1.392141 (from h_max_prof[0]/L0 )\n",
        "self.aParamFunc   : 1.394786 (from h_max_prof[0]/self.r_max_prof )\n",
        "\n",
        "Starting...\n",
        "log_run_liggghts_collapseColumn_DEM_a1.4_g_0.1_mu_0.9\n"
       ]
      },
      {
       "output_type": "stream",
       "stream": "stdout",
       "text": [
        "reading dump file...\n",
        "405000"
       ]
      },
      {
       "output_type": "stream",
       "stream": "stdout",
       "text": [
        "\n",
        "1 snapshots selected out of 1\n",
        "assigned columns: id type x y z ix iy iz vx vy vz fx fy fz omegax omegay omegaz radius \n",
        "dump is already unscaled\n",
        "\n",
        "Initial mean Kinetic   Energy -0.000000 [J]: \n",
        "Initial mean Potential Energy 0.000012 [J]: \n",
        "Files seem to exist in /home/htapia/projects/liggghts/column2D/A_1.4_grav_0.1_mu_0.9/\n",
        "\n",
        " File collapse405000.csv seems to not exist\n",
        "Enter will create profiles in csv format"
       ]
      },
      {
       "output_type": "stream",
       "stream": "stdout",
       "text": [
        "\n",
        "Please wait while profiles are created from VTKs...\n"
       ]
      },
      {
       "output_type": "stream",
       "stream": "stdout",
       "text": [
        "Done creating profiles from VTKs\n",
        "self.H0           : 0.432796"
       ]
      },
      {
       "output_type": "stream",
       "stream": "stdout",
       "text": [
        "\n",
        "self.h_max_prof[0]: 0.432760\n",
        "self.L0           : 0.275329\n",
        "self.r_max_prof   : 0.275310\n",
        "self.A            : 1.400000 (from input)\n",
        "self.aParam       : 1.571922, 1.571922 (from =H0/L0)\n",
        "self.aParamFunc   : 1.571792 (from h_max_prof[0]/L0 )\n",
        "self.aParamFunc   : 1.571901 (from h_max_prof[0]/self.r_max_prof )\n",
        "\n",
        "Starting...\n",
        "log_run_liggghts_collapseColumn_DEM_a1.4_g_0.2_mu_0.9\n"
       ]
      },
      {
       "output_type": "stream",
       "stream": "stdout",
       "text": [
        "reading dump file...\n",
        "285000"
       ]
      },
      {
       "output_type": "stream",
       "stream": "stdout",
       "text": [
        "\n",
        "1 snapshots selected out of 1\n",
        "assigned columns: id type x y z ix iy iz vx vy vz fx fy fz omegax omegay omegaz radius \n",
        "dump is already unscaled\n",
        "\n",
        "Initial mean Kinetic   Energy -0.000000 [J]: "
       ]
      },
      {
       "output_type": "stream",
       "stream": "stdout",
       "text": [
        "\n",
        "Initial mean Potential Energy 0.000024 [J]: \n",
        "Files seem to exist in /home/htapia/projects/liggghts/column2D/A_1.4_grav_0.2_mu_0.9/\n",
        "\n",
        " File collapse285000.csv seems to not exist\n",
        "Enter will create profiles in csv format"
       ]
      },
      {
       "output_type": "stream",
       "stream": "stdout",
       "text": [
        "\n",
        "Please wait while profiles are created from VTKs...\n"
       ]
      },
      {
       "output_type": "stream",
       "stream": "stdout",
       "text": [
        "Done creating profiles from VTKs\n",
        "self.H0           : 0.430597"
       ]
      },
      {
       "output_type": "stream",
       "stream": "stdout",
       "text": [
        "\n",
        "self.h_max_prof[0]: 0.429370\n",
        "self.L0           : 0.275360\n",
        "self.r_max_prof   : 0.275320\n",
        "self.A            : 1.400000 (from input)\n",
        "self.aParam       : 1.563762, 1.563762 (from =H0/L0)\n",
        "self.aParamFunc   : 1.559307 (from h_max_prof[0]/L0 )\n",
        "self.aParamFunc   : 1.559531 (from h_max_prof[0]/self.r_max_prof )\n",
        "\n",
        "Starting...\n",
        "log_run_liggghts_collapseColumn_DEM_a1.4_g_0.3_mu_0.9\n"
       ]
      },
      {
       "output_type": "stream",
       "stream": "stdout",
       "text": [
        "reading dump file...\n",
        "165000"
       ]
      },
      {
       "output_type": "stream",
       "stream": "stdout",
       "text": [
        "\n",
        "1 snapshots selected out of 1\n",
        "assigned columns: id type x y z ix iy iz vx vy vz fx fy fz omegax omegay omegaz radius \n",
        "dump is already unscaled\n",
        "\n",
        "Initial mean Kinetic   Energy 0.000000 [J]: \n",
        "Initial mean Potential Energy 0.000035 [J]: \n",
        "Files seem to exist in /home/htapia/projects/liggghts/column2D/A_1.4_grav_0.3_mu_0.9/\n"
       ]
      },
      {
       "output_type": "stream",
       "stream": "stdout",
       "text": [
        "\n",
        " File collapse165000.csv seems to not exist\n",
        "Enter will create profiles in csv format"
       ]
      },
      {
       "output_type": "stream",
       "stream": "stdout",
       "text": [
        "\n",
        "Please wait while profiles are created from VTKs...\n"
       ]
      },
      {
       "output_type": "stream",
       "stream": "stdout",
       "text": [
        "Done creating profiles from VTKs\n",
        "self.H0           : 0.431912"
       ]
      },
      {
       "output_type": "stream",
       "stream": "stdout",
       "text": [
        "\n",
        "self.h_max_prof[0]: 0.431510\n",
        "self.L0           : 0.275393\n",
        "self.r_max_prof   : 0.275340\n",
        "self.A            : 1.400000 (from input)\n",
        "self.aParam       : 1.568347, 1.568347 (from =H0/L0)\n",
        "self.aParamFunc   : 1.566888 (from h_max_prof[0]/L0 )\n",
        "self.aParamFunc   : 1.567190 (from h_max_prof[0]/self.r_max_prof )\n",
        "\n",
        "Starting...\n",
        "log_run_liggghts_collapseColumn_DEM_a1.4_g_0.4_mu_0.9\n"
       ]
      },
      {
       "output_type": "stream",
       "stream": "stdout",
       "text": [
        "reading dump file...\n",
        "495000"
       ]
      },
      {
       "output_type": "stream",
       "stream": "stdout",
       "text": [
        "\n",
        "1 snapshots selected out of 1\n",
        "assigned columns: id type x y z ix iy iz vx vy vz fx fy fz omegax omegay omegaz radius \n",
        "dump is already unscaled\n",
        "\n",
        "Initial mean Kinetic   Energy 0.000000 [J]: \n",
        "Initial mean Potential Energy 0.000047 [J]: \n",
        "Files seem to exist in /home/htapia/projects/liggghts/column2D/A_1.4_grav_0.4_mu_0.9/\n",
        "\n",
        " File collapse495000.csv seems to not exist\n",
        "Enter will create profiles in csv format"
       ]
      },
      {
       "output_type": "stream",
       "stream": "stdout",
       "text": [
        "\n",
        "Please wait while profiles are created from VTKs...\n"
       ]
      },
      {
       "output_type": "stream",
       "stream": "stdout",
       "text": [
        "Done creating profiles from VTKs\n",
        "self.H0           : 0.427999"
       ]
      },
      {
       "output_type": "stream",
       "stream": "stdout",
       "text": [
        "\n",
        "self.h_max_prof[0]: 0.427910\n",
        "self.L0           : 0.275418\n",
        "self.r_max_prof   : 0.275370\n",
        "self.A            : 1.400000 (from input)\n",
        "self.aParam       : 1.554000, 1.554000 (from =H0/L0)\n",
        "self.aParamFunc   : 1.553676 (from h_max_prof[0]/L0 )\n",
        "self.aParamFunc   : 1.553946 (from h_max_prof[0]/self.r_max_prof )\n",
        "\n",
        "Starting...\n",
        "log_run_liggghts_collapseColumn_DEM_a1.4_g_0.5_mu_0.9\n"
       ]
      },
      {
       "output_type": "stream",
       "stream": "stdout",
       "text": [
        "reading dump file...\n",
        "435000"
       ]
      },
      {
       "output_type": "stream",
       "stream": "stdout",
       "text": [
        "\n",
        "1 snapshots selected out of 1\n",
        "assigned columns: id type x y z ix iy iz vx vy vz fx fy fz omegax omegay omegaz radius \n",
        "dump is already unscaled\n",
        "\n",
        "Initial mean Kinetic   Energy 0.000000 [J]: \n",
        "Initial mean Potential Energy 0.000058 [J]: \n",
        "Files seem to exist in /home/htapia/projects/liggghts/column2D/A_1.4_grav_0.5_mu_0.9/\n",
        "\n",
        " File collapse435000.csv seems to not exist\n",
        "Enter will create profiles in csv format"
       ]
      },
      {
       "output_type": "stream",
       "stream": "stdout",
       "text": [
        "\n",
        "Please wait while profiles are created from VTKs...\n"
       ]
      },
      {
       "output_type": "stream",
       "stream": "stdout",
       "text": [
        "Done creating profiles from VTKs\n",
        "self.H0           : 0.428905"
       ]
      },
      {
       "output_type": "stream",
       "stream": "stdout",
       "text": [
        "\n",
        "self.h_max_prof[0]: 0.428830\n",
        "self.L0           : 0.275459\n",
        "self.r_max_prof   : 0.275360\n",
        "self.A            : 1.400000 (from input)\n",
        "self.aParam       : 1.557056, 1.557056 (from =H0/L0)\n",
        "self.aParamFunc   : 1.556784 (from h_max_prof[0]/L0 )\n",
        "self.aParamFunc   : 1.557343 (from h_max_prof[0]/self.r_max_prof )\n",
        "\n",
        "Starting...\n",
        "log_run_liggghts_collapseColumn_DEM_a1.4_g_1.0_mu_0.9\n"
       ]
      },
      {
       "output_type": "stream",
       "stream": "stdout",
       "text": [
        "reading dump file...\n",
        "465000"
       ]
      },
      {
       "output_type": "stream",
       "stream": "stdout",
       "text": [
        "\n",
        "1 snapshots selected out of 1\n",
        "assigned columns: id type x y z ix iy iz vx vy vz fx fy fz omegax omegay omegaz radius \n",
        "dump is already unscaled\n",
        "\n",
        "Initial mean Kinetic   Energy -0.000000 [J]: "
       ]
      },
      {
       "output_type": "stream",
       "stream": "stdout",
       "text": [
        "\n",
        "Initial mean Potential Energy 0.000115 [J]: \n",
        "Files seem to exist in /home/htapia/projects/liggghts/column2D/A_1.4_grav_1.0_mu_0.9/\n",
        "\n",
        " File collapse465000.csv seems to not exist\n",
        "Enter will create profiles in csv format"
       ]
      },
      {
       "output_type": "stream",
       "stream": "stdout",
       "text": [
        "\n",
        "Please wait while profiles are created from VTKs...\n"
       ]
      },
      {
       "output_type": "stream",
       "stream": "stdout",
       "text": [
        "Done creating profiles from VTKs\n",
        "self.H0           : 0.424771"
       ]
      },
      {
       "output_type": "stream",
       "stream": "stdout",
       "text": [
        "\n",
        "self.h_max_prof[0]: 0.424630\n",
        "self.L0           : 0.275551\n",
        "self.r_max_prof   : 0.275400\n",
        "self.A            : 1.400000 (from input)\n",
        "self.aParam       : 1.541532, 1.541532 (from =H0/L0)\n",
        "self.aParamFunc   : 1.541020 (from h_max_prof[0]/L0 )\n",
        "self.aParamFunc   : 1.541866 (from h_max_prof[0]/self.r_max_prof )\n",
        "\n",
        "Starting...\n",
        "log_run_liggghts_collapseColumn_DEM_a1.4_g_10.0_mu_0.9\n"
       ]
      },
      {
       "output_type": "stream",
       "stream": "stdout",
       "text": [
        "reading dump file...\n",
        "615000"
       ]
      },
      {
       "output_type": "stream",
       "stream": "stdout",
       "text": [
        "\n",
        "1 snapshots selected out of 1\n",
        "assigned columns: id type x y z ix iy iz vx vy vz fx fy fz omegax omegay omegaz radius \n",
        "dump is already unscaled\n",
        "\n",
        "Initial mean Kinetic   Energy -0.000000 [J]: "
       ]
      },
      {
       "output_type": "stream",
       "stream": "stdout",
       "text": [
        "\n",
        "Initial mean Potential Energy 0.001026 [J]: \n",
        "Files seem to exist in /home/htapia/projects/liggghts/column2D/A_1.4_grav_10.0_mu_0.9/\n",
        "\n",
        " File collapse615000.csv seems to not exist\n",
        "Enter will create profiles in csv format"
       ]
      },
      {
       "output_type": "stream",
       "stream": "stdout",
       "text": [
        "\n",
        "Please wait while profiles are created from VTKs...\n"
       ]
      },
      {
       "output_type": "stream",
       "stream": "stdout",
       "text": [
        "Done creating profiles from VTKs\n",
        "self.H0           : 0.388723"
       ]
      },
      {
       "output_type": "stream",
       "stream": "stdout",
       "text": [
        "\n",
        "self.h_max_prof[0]: 0.388150\n",
        "self.L0           : 0.276419\n",
        "self.r_max_prof   : 0.275820\n",
        "self.A            : 1.400000 (from input)\n",
        "self.aParam       : 1.406282, 1.406282 (from =H0/L0)\n",
        "self.aParamFunc   : 1.404208 (from h_max_prof[0]/L0 )\n",
        "self.aParamFunc   : 1.407258 (from h_max_prof[0]/self.r_max_prof )\n"
       ]
      }
     ],
     "prompt_number": 40
    },
    {
     "cell_type": "markdown",
     "metadata": {},
     "source": [
      "We now have all the data for this value of $a$ in a big frame:"
     ]
    },
    {
     "cell_type": "code",
     "collapsed": false,
     "input": [
      "data_df"
     ],
     "language": "python",
     "metadata": {},
     "outputs": [
      {
       "html": [
        "<div style=\"max-height:1000px;max-width:1500px;overflow:auto;\">\n",
        "<table border=\"1\" class=\"dataframe\">\n",
        "  <thead>\n",
        "    <tr style=\"text-align: right;\">\n",
        "      <th></th>\n",
        "      <th>0.5</th>\n",
        "      <th>0.6</th>\n",
        "      <th>0.7</th>\n",
        "      <th>0.8</th>\n",
        "      <th>0.9</th>\n",
        "    </tr>\n",
        "  </thead>\n",
        "  <tbody>\n",
        "    <tr>\n",
        "      <th>0.1 </th>\n",
        "      <td> &lt;collapse_nb.Collapsebin instance at 0x48c0b90&gt;</td>\n",
        "      <td> &lt;collapse_nb.Collapsebin instance at 0x48bf560&gt;</td>\n",
        "      <td> &lt;collapse_nb.Collapsebin instance at 0x574e1b8&gt;</td>\n",
        "      <td> &lt;collapse_nb.Collapsebin instance at 0x4908908&gt;</td>\n",
        "      <td> &lt;collapse_nb.Collapsebin instance at 0x45ed3b0&gt;</td>\n",
        "    </tr>\n",
        "    <tr>\n",
        "      <th>0.2 </th>\n",
        "      <td> &lt;collapse_nb.Collapsebin instance at 0x4887098&gt;</td>\n",
        "      <td> &lt;collapse_nb.Collapsebin instance at 0x481ddd0&gt;</td>\n",
        "      <td> &lt;collapse_nb.Collapsebin instance at 0x4894d40&gt;</td>\n",
        "      <td> &lt;collapse_nb.Collapsebin instance at 0x4469d88&gt;</td>\n",
        "      <td> &lt;collapse_nb.Collapsebin instance at 0x4ca8cb0&gt;</td>\n",
        "    </tr>\n",
        "    <tr>\n",
        "      <th>0.3 </th>\n",
        "      <td> &lt;collapse_nb.Collapsebin instance at 0x5a57998&gt;</td>\n",
        "      <td> &lt;collapse_nb.Collapsebin instance at 0x4cacb90&gt;</td>\n",
        "      <td> &lt;collapse_nb.Collapsebin instance at 0x5de4d40&gt;</td>\n",
        "      <td> &lt;collapse_nb.Collapsebin instance at 0x48b5170&gt;</td>\n",
        "      <td> &lt;collapse_nb.Collapsebin instance at 0x5ddff38&gt;</td>\n",
        "    </tr>\n",
        "    <tr>\n",
        "      <th>0.4 </th>\n",
        "      <td> &lt;collapse_nb.Collapsebin instance at 0x48b5050&gt;</td>\n",
        "      <td> &lt;collapse_nb.Collapsebin instance at 0x45c6a70&gt;</td>\n",
        "      <td> &lt;collapse_nb.Collapsebin instance at 0x54558c0&gt;</td>\n",
        "      <td> &lt;collapse_nb.Collapsebin instance at 0x5464710&gt;</td>\n",
        "      <td> &lt;collapse_nb.Collapsebin instance at 0x4ccb4d0&gt;</td>\n",
        "    </tr>\n",
        "    <tr>\n",
        "      <th>0.5 </th>\n",
        "      <td> &lt;collapse_nb.Collapsebin instance at 0x47d4710&gt;</td>\n",
        "      <td> &lt;collapse_nb.Collapsebin instance at 0x581e8c0&gt;</td>\n",
        "      <td> &lt;collapse_nb.Collapsebin instance at 0x590c440&gt;</td>\n",
        "      <td> &lt;collapse_nb.Collapsebin instance at 0x57f5878&gt;</td>\n",
        "      <td> &lt;collapse_nb.Collapsebin instance at 0x42da1b8&gt;</td>\n",
        "    </tr>\n",
        "    <tr>\n",
        "      <th>1.0 </th>\n",
        "      <td> &lt;collapse_nb.Collapsebin instance at 0x48a7c20&gt;</td>\n",
        "      <td> &lt;collapse_nb.Collapsebin instance at 0x5df4998&gt;</td>\n",
        "      <td> &lt;collapse_nb.Collapsebin instance at 0x5a85b00&gt;</td>\n",
        "      <td> &lt;collapse_nb.Collapsebin instance at 0x4897560&gt;</td>\n",
        "      <td> &lt;collapse_nb.Collapsebin instance at 0x5de4170&gt;</td>\n",
        "    </tr>\n",
        "    <tr>\n",
        "      <th>10.0</th>\n",
        "      <td> &lt;collapse_nb.Collapsebin instance at 0x4469f38&gt;</td>\n",
        "      <td> &lt;collapse_nb.Collapsebin instance at 0x472d200&gt;</td>\n",
        "      <td> &lt;collapse_nb.Collapsebin instance at 0x5739fc8&gt;</td>\n",
        "      <td> &lt;collapse_nb.Collapsebin instance at 0x5dfacb0&gt;</td>\n",
        "      <td> &lt;collapse_nb.Collapsebin instance at 0x5822a70&gt;</td>\n",
        "    </tr>\n",
        "  </tbody>\n",
        "</table>\n",
        "</div>"
       ],
       "metadata": {},
       "output_type": "pyout",
       "prompt_number": 98,
       "text": [
        "                                                  0.5  \\\n",
        "0.1   <collapse_nb.Collapsebin instance at 0x48c0b90>   \n",
        "0.2   <collapse_nb.Collapsebin instance at 0x4887098>   \n",
        "0.3   <collapse_nb.Collapsebin instance at 0x5a57998>   \n",
        "0.4   <collapse_nb.Collapsebin instance at 0x48b5050>   \n",
        "0.5   <collapse_nb.Collapsebin instance at 0x47d4710>   \n",
        "1.0   <collapse_nb.Collapsebin instance at 0x48a7c20>   \n",
        "10.0  <collapse_nb.Collapsebin instance at 0x4469f38>   \n",
        "\n",
        "                                                  0.6  \\\n",
        "0.1   <collapse_nb.Collapsebin instance at 0x48bf560>   \n",
        "0.2   <collapse_nb.Collapsebin instance at 0x481ddd0>   \n",
        "0.3   <collapse_nb.Collapsebin instance at 0x4cacb90>   \n",
        "0.4   <collapse_nb.Collapsebin instance at 0x45c6a70>   \n",
        "0.5   <collapse_nb.Collapsebin instance at 0x581e8c0>   \n",
        "1.0   <collapse_nb.Collapsebin instance at 0x5df4998>   \n",
        "10.0  <collapse_nb.Collapsebin instance at 0x472d200>   \n",
        "\n",
        "                                                  0.7  \\\n",
        "0.1   <collapse_nb.Collapsebin instance at 0x574e1b8>   \n",
        "0.2   <collapse_nb.Collapsebin instance at 0x4894d40>   \n",
        "0.3   <collapse_nb.Collapsebin instance at 0x5de4d40>   \n",
        "0.4   <collapse_nb.Collapsebin instance at 0x54558c0>   \n",
        "0.5   <collapse_nb.Collapsebin instance at 0x590c440>   \n",
        "1.0   <collapse_nb.Collapsebin instance at 0x5a85b00>   \n",
        "10.0  <collapse_nb.Collapsebin instance at 0x5739fc8>   \n",
        "\n",
        "                                                  0.8  \\\n",
        "0.1   <collapse_nb.Collapsebin instance at 0x4908908>   \n",
        "0.2   <collapse_nb.Collapsebin instance at 0x4469d88>   \n",
        "0.3   <collapse_nb.Collapsebin instance at 0x48b5170>   \n",
        "0.4   <collapse_nb.Collapsebin instance at 0x5464710>   \n",
        "0.5   <collapse_nb.Collapsebin instance at 0x57f5878>   \n",
        "1.0   <collapse_nb.Collapsebin instance at 0x4897560>   \n",
        "10.0  <collapse_nb.Collapsebin instance at 0x5dfacb0>   \n",
        "\n",
        "                                                  0.9  \n",
        "0.1   <collapse_nb.Collapsebin instance at 0x45ed3b0>  \n",
        "0.2   <collapse_nb.Collapsebin instance at 0x4ca8cb0>  \n",
        "0.3   <collapse_nb.Collapsebin instance at 0x5ddff38>  \n",
        "0.4   <collapse_nb.Collapsebin instance at 0x4ccb4d0>  \n",
        "0.5   <collapse_nb.Collapsebin instance at 0x42da1b8>  \n",
        "1.0   <collapse_nb.Collapsebin instance at 0x5de4170>  \n",
        "10.0  <collapse_nb.Collapsebin instance at 0x5822a70>  "
       ]
      }
     ],
     "prompt_number": 98
    },
    {
     "cell_type": "code",
     "collapsed": false,
     "input": [
      "hm_g = plotByGrav(0)"
     ],
     "language": "python",
     "metadata": {},
     "outputs": [
      {
       "metadata": {},
       "output_type": "display_data",
       "png": "[encoded data removed]",
       "text": [
        "<matplotlib.figure.Figure at 0x7db5f10>"
       ]
      }
     ],
     "prompt_number": 200
    },
    {
     "cell_type": "code",
     "collapsed": false,
     "input": [
      "print m\n",
      "plotByMu(0.5)\n",
      "plotByMu(m)"
     ],
     "language": "python",
     "metadata": {},
     "outputs": [
      {
       "output_type": "stream",
       "stream": "stdout",
       "text": [
        "0.9\n"
       ]
      },
      {
       "metadata": {},
       "output_type": "display_data",
       "png": "[encoded data removed]",
       "text": [
        "<matplotlib.figure.Figure at 0x77cccd0>"
       ]
      },
      {
       "metadata": {},
       "output_type": "display_data",
       "png": "[encoded data removed]",
       "text": [
        "<matplotlib.figure.Figure at 0x7f6ed10>"
       ]
      },
      {
       "metadata": {},
       "output_type": "pyout",
       "prompt_number": 213,
       "text": [
        "array([ 0.26019071,  0.25511323,  0.23698397,  0.25962777,  0.26598977,\n",
        "        0.25361493,  0.26177865])"
       ]
      }
     ],
     "prompt_number": 213
    },
    {
     "cell_type": "code",
     "collapsed": false,
     "input": [
      "hm_mu = {}\n",
      "for m in range(len(mus)):\n",
      "    hm_mu[m] = plotByMu(m)\n",
      "hm_g = {}\n",
      "for m in range(len(gis)):\n",
      "    hm_g[m] = plotByGrav(m)"
     ],
     "language": "python",
     "metadata": {},
     "outputs": [
      {
       "metadata": {},
       "output_type": "display_data",
       "png": "[encoded data removed]",
       "text": [
        "<matplotlib.figure.Figure at 0x77a4450>"
       ]
      },
      {
       "metadata": {},
       "output_type": "display_data",
       "png": "[encoded data removed]",
       "text": [
        "<matplotlib.figure.Figure at 0x734d490>"
       ]
      },
      {
       "metadata": {},
       "output_type": "display_data",
       "png": "[encoded data removed]",
       "text": [
        "<matplotlib.figure.Figure at 0x83ffc90>"
       ]
      },
      {
       "metadata": {},
       "output_type": "display_data",
       "png": "[encoded data removed]",
       "text": [
        "<matplotlib.figure.Figure at 0x7f70890>"
       ]
      },
      {
       "metadata": {},
       "output_type": "display_data",
       "png": "[encoded data removed]",
       "text": [
        "<matplotlib.figure.Figure at 0x815bf90>"
       ]
      },
      {
       "metadata": {},
       "output_type": "display_data",
       "png": "[encoded data removed]",
       "text": [
        "<matplotlib.figure.Figure at 0x75e4f10>"
       ]
      },
      {
       "metadata": {},
       "output_type": "display_data",
       "png": "[encoded data removed]",
       "text": [
        "<matplotlib.figure.Figure at 0x7bee710>"
       ]
      },
      {
       "metadata": {},
       "output_type": "display_data",
       "png": "[encoded data removed]",
       "text": [
        "<matplotlib.figure.Figure at 0x56b0610>"
       ]
      },
      {
       "metadata": {},
       "output_type": "display_data",
       "png": "[encoded data removed]",
       "text": [
        "<matplotlib.figure.Figure at 0x6a63950>"
       ]
      },
      {
       "metadata": {},
       "output_type": "display_data",
       "png": "[encoded data removed]",
       "text": [
        "<matplotlib.figure.Figure at 0x48ffed0>"
       ]
      },
      {
       "metadata": {},
       "output_type": "display_data",
       "png": "[encoded data removed]",
       "text": [
        "<matplotlib.figure.Figure at 0x77cb2d0>"
       ]
      },
      {
       "metadata": {},
       "output_type": "display_data",
       "png": "[encoded data removed]",
       "text": [
        "<matplotlib.figure.Figure at 0x75eca10>"
       ]
      }
     ],
     "prompt_number": 233
    },
    {
     "cell_type": "code",
     "collapsed": false,
     "input": [
      "for k in hm_mu.keys():\n",
      "    lista = zip(np.repeat(mus[k],len(gis)), gis, hm_mu.values()[k])"
     ],
     "language": "python",
     "metadata": {},
     "outputs": [],
     "prompt_number": 274
    },
    {
     "cell_type": "code",
     "collapsed": false,
     "input": [
      "hm_mu"
     ],
     "language": "python",
     "metadata": {},
     "outputs": [
      {
       "metadata": {},
       "output_type": "pyout",
       "prompt_number": 296,
       "text": [
        "{0: array([ 0.26019071,  0.25511323,  0.23698397,  0.25962777,  0.26598977,\n",
        "        0.25361493,  0.26177865]),\n",
        " 1: array([ 0.25424841,  0.25896515,  0.27247221,  0.27310696,  0.25404272,\n",
        "        0.26798016,  0.28189727]),\n",
        " 2: array([ 0.26160641,  0.28186311,  0.28259928,  0.2666676 ,  0.26743343,\n",
        "        0.27940074,  0.28664615]),\n",
        " 3: array([ 0.29577422,  0.28576707,  0.28492543,  0.29135494,  0.2842148 ,\n",
        "        0.29672673,  0.31258477]),\n",
        " 4: array([ 0.29360268,  0.30627262,  0.30077903,  0.30063133,  0.2920928 ,\n",
        "        0.29858436,  0.30276034])}"
       ]
      }
     ],
     "prompt_number": 296
    },
    {
     "cell_type": "code",
     "collapsed": false,
     "input": [
      "np.array(hm_mu.values())"
     ],
     "language": "python",
     "metadata": {},
     "outputs": [
      {
       "metadata": {},
       "output_type": "pyout",
       "prompt_number": 295,
       "text": [
        "array([[ 0.26019071,  0.25511323,  0.23698397,  0.25962777,  0.26598977,\n",
        "         0.25361493,  0.26177865],\n",
        "       [ 0.25424841,  0.25896515,  0.27247221,  0.27310696,  0.25404272,\n",
        "         0.26798016,  0.28189727],\n",
        "       [ 0.26160641,  0.28186311,  0.28259928,  0.2666676 ,  0.26743343,\n",
        "         0.27940074,  0.28664615],\n",
        "       [ 0.29577422,  0.28576707,  0.28492543,  0.29135494,  0.2842148 ,\n",
        "         0.29672673,  0.31258477],\n",
        "       [ 0.29360268,  0.30627262,  0.30077903,  0.30063133,  0.2920928 ,\n",
        "         0.29858436,  0.30276034]])"
       ]
      }
     ],
     "prompt_number": 295
    },
    {
     "cell_type": "code",
     "collapsed": false,
     "input": [],
     "language": "python",
     "metadata": {},
     "outputs": [
      {
       "metadata": {},
       "output_type": "pyout",
       "prompt_number": 297,
       "text": [
        "array([[ 0.26019071,  0.25424841,  0.26160641,  0.29577422,  0.29360268],\n",
        "       [ 0.25511323,  0.25896515,  0.28186311,  0.28576707,  0.30627262],\n",
        "       [ 0.23698397,  0.27247221,  0.28259928,  0.28492543,  0.30077903],\n",
        "       [ 0.25962777,  0.27310696,  0.2666676 ,  0.29135494,  0.30063133],\n",
        "       [ 0.26598977,  0.25404272,  0.26743343,  0.2842148 ,  0.2920928 ],\n",
        "       [ 0.25361493,  0.26798016,  0.27940074,  0.29672673,  0.29858436],\n",
        "       [ 0.26177865,  0.28189727,  0.28664615,  0.31258477,  0.30276034]])"
       ]
      }
     ],
     "prompt_number": 297
    },
    {
     "cell_type": "code",
     "collapsed": false,
     "input": [
      "Y"
     ],
     "language": "python",
     "metadata": {},
     "outputs": [
      {
       "metadata": {},
       "output_type": "pyout",
       "prompt_number": 286,
       "text": [
        "array([[  0.1,   0.1,   0.1,   0.1,   0.1],\n",
        "       [  0.2,   0.2,   0.2,   0.2,   0.2],\n",
        "       [  0.3,   0.3,   0.3,   0.3,   0.3],\n",
        "       [  0.4,   0.4,   0.4,   0.4,   0.4],\n",
        "       [  0.5,   0.5,   0.5,   0.5,   0.5],\n",
        "       [  1. ,   1. ,   1. ,   1. ,   1. ],\n",
        "       [ 10. ,  10. ,  10. ,  10. ,  10. ]])"
       ]
      }
     ],
     "prompt_number": 286
    },
    {
     "cell_type": "code",
     "collapsed": false,
     "input": [
      "X"
     ],
     "language": "python",
     "metadata": {},
     "outputs": [
      {
       "metadata": {},
       "output_type": "pyout",
       "prompt_number": 287,
       "text": [
        "array([[ 0.5,  0.6,  0.7,  0.8,  0.9],\n",
        "       [ 0.5,  0.6,  0.7,  0.8,  0.9],\n",
        "       [ 0.5,  0.6,  0.7,  0.8,  0.9],\n",
        "       [ 0.5,  0.6,  0.7,  0.8,  0.9],\n",
        "       [ 0.5,  0.6,  0.7,  0.8,  0.9],\n",
        "       [ 0.5,  0.6,  0.7,  0.8,  0.9],\n",
        "       [ 0.5,  0.6,  0.7,  0.8,  0.9]])"
       ]
      }
     ],
     "prompt_number": 287
    },
    {
     "cell_type": "code",
     "collapsed": false,
     "input": [
      "xi = mus\n",
      "yi = gis\n",
      "X, Y = np.meshgrid(xi, yi)\n",
      "Z = np.array(hm_mu.values()).transpose()"
     ],
     "language": "python",
     "metadata": {},
     "outputs": [],
     "prompt_number": 298
    },
    {
     "cell_type": "code",
     "collapsed": false,
     "input": [
      "X.shape==Z.shape==Y.shape"
     ],
     "language": "python",
     "metadata": {},
     "outputs": [
      {
       "metadata": {},
       "output_type": "pyout",
       "prompt_number": 304,
       "text": [
        "True"
       ]
      }
     ],
     "prompt_number": 304
    },
    {
     "cell_type": "code",
     "collapsed": false,
     "input": [
      "pwd"
     ],
     "language": "python",
     "metadata": {},
     "outputs": [
      {
       "metadata": {},
       "output_type": "pyout",
       "prompt_number": 320,
       "text": [
        "u'/home/htapia/projects/liggghts/column2D'"
       ]
      }
     ],
     "prompt_number": 320
    },
    {
     "cell_type": "code",
     "collapsed": false,
     "input": [
      "from mpl_toolkits.mplot3d import Axes3D\n",
      "\n",
      "fig = plt.figure()\n",
      "ax = fig.add_subplot(111, projection='3d')\n",
      "\n",
      "surf = ax.plot_surface(X, Y, Z, rstride=1, cstride=1, cmap=cm.coolwarm,\n",
      "        linewidth=0, antialiased=False, alpha=0.3)\n",
      "\n",
      "# ax.plot_surface(X, Y, Z, rstride=8, cstride=8, alpha=0.3)\n",
      "cset = ax.contour(X, Y, Z, zdir='z', offset=0.24, cmap=cm.coolwarm)\n",
      "cset = ax.contour(X, Y, Z, zdir='x', offset=0.9, cmap=cm.coolwarm)\n",
      "cset = ax.contour(X, Y, Z, zdir='y', offset=10.0, cmap=cm.coolwarm)\n",
      "\n",
      "#cmap=plt.cm.jet, cstride=1, rstride=1)\n",
      "\n",
      "ax.set_xlabel(r'$\\mu$')\n",
      "ax.set_ylabel(r'$g/g_0$')\n",
      "ax.set_zlabel(r'$h_{\\infty}$')\n",
      "ax.view_init(elev=10., azim=249)\n",
      "\n",
      "# fig.colorbar(surf, shrink=0.5, aspect=5)\n",
      "\n",
      "# for ii in xrange(0,360,1):\n",
      "#         ax.view_init(elev=10., azim=ii)\n",
      "#         savefig('movie_%d'%ii + '.png')\n",
      "        \n",
      "# plt.show()"
     ],
     "language": "python",
     "metadata": {},
     "outputs": [
      {
       "metadata": {},
       "output_type": "display_data",
       "png": "[encoded data removed]",
       "text": [
        "<matplotlib.figure.Figure at 0x8c58110>"
       ]
      }
     ],
     "prompt_number": 337
    },
    {
     "cell_type": "markdown",
     "metadata": {},
     "source": [
      "According to this analysis, the final distances of the deposit for this value of $a$, are approximated by a linear realation. In the case of the gravity final vals \n",
      "$h_{\\\\infty}(\\\\mu)\\\\approx 0.001 \\\\mu + 0.255$"
     ]
    },
    {
     "cell_type": "markdown",
     "metadata": {},
     "source": [
      "Now we want to see how the final distances depend on the frictio between grains:"
     ]
    },
    {
     "cell_type": "markdown",
     "metadata": {},
     "source": [
      "The dotted lines correspond to the best linear fit to the data; When columns of different friction collapse (same $a$ and same gravity), their final height remains nearly constant, but the final runout depends on the friction coefficient. This dependence can be linearly modelled, at least for this case example. We can write $$ h_{\\infty}^* (a, \\mu, g) = h_{\\infty}^* (a, g) $$ for the final height and $$l_{\\infty}^* (a, \\mu, g) = \\hat{l}_{\\infty}^* (a, g) \\phi(\\mu), $$ for the final runout, where $$\\phi(\\mu)=-1.5\\mu+4$$ for $g=g_0$."
     ]
    },
    {
     "cell_type": "code",
     "collapsed": false,
     "input": [
      "from IPython.core.display import HTML\n",
      "style_css='/home/htapia/.dropbox-lania/Dropbox/Proyectos/column-collapses/styles/custom.css'\n",
      "def css_styling():\n",
      "    styles = open(style_css, \"r\").read()\n",
      "    return HTML(styles)\n",
      "css_styling()"
     ],
     "language": "python",
     "metadata": {},
     "outputs": [
      {
       "html": [
        "<style>\n",
        "    @font-face {\n",
        "        font-family: \"Computer Modern\";\n",
        "        src: url('http://mirrors.ctan.org/fonts/cm-unicode/fonts/otf/cmunss.otf');\n",
        "    }\n",
        "    div.cell{\n",
        "        width:800px;\n",
        "        margin-left:16% !important;\n",
        "        margin-right:auto;\n",
        "    }\n",
        "    h1 {\n",
        "        font-family: Helvetica, serif;\n",
        "    }\n",
        "    h2 {\n",
        "        font-family: Helvetica, serif;\n",
        "    }\n",
        "    h4{\n",
        "        margin-top:12px;\n",
        "        margin-bottom: 3px;\n",
        "       }\n",
        "    div.text_cell_render{\n",
        "        font-family: Computer Modern, \"Helvetica Neue\", Arial, Helvetica, Geneva, sans-serif;\n",
        "        line-height: 135%;\n",
        "        font-size: 120%;\n",
        "        width:600px;\n",
        "        margin-left:auto;\n",
        "        margin-right:auto;\n",
        "    }\n",
        "    .CodeMirror{\n",
        "            font-family: \"Source Code Pro\", source-code-pro,Consolas, monospace;\n",
        "    }\n",
        "/*    .prompt{\n",
        "        display: None;\n",
        "    }*/\n",
        "    .text_cell_render h5 {\n",
        "        font-weight: 300;\n",
        "        font-size: 16pt;\n",
        "        color: #4057A1;\n",
        "        font-style: italic;\n",
        "        margin-bottom: .5em;\n",
        "        margin-top: 0.5em;\n",
        "        display: block;\n",
        "    }\n",
        "    \n",
        "    .warning{\n",
        "        color: rgb( 240, 20, 20 )\n",
        "        }  \n",
        "</style>\n",
        "<script>\n",
        "    MathJax.Hub.Config({\n",
        "                        TeX: {\n",
        "                           extensions: [\"AMSmath.js\"]\n",
        "                           },\n",
        "                tex2jax: {\n",
        "                    inlineMath: [ ['$','$'], [\"\\\\(\",\"\\\\)\"] ],\n",
        "                    displayMath: [ ['$$','$$'], [\"\\\\[\",\"\\\\]\"] ]\n",
        "                },\n",
        "                displayAlign: 'center', // Change this to 'center' to center equations.\n",
        "                \"HTML-CSS\": {\n",
        "                    styles: {'.MathJax_Display': {\"margin\": 4}}\n",
        "                }\n",
        "        });\n",
        "</script>"
       ],
       "metadata": {},
       "output_type": "pyout",
       "prompt_number": 398,
       "text": [
        "<IPython.core.display.HTML at 0x844cc50>"
       ]
      }
     ],
     "prompt_number": 398
    },
    {
     "cell_type": "code",
     "collapsed": false,
     "input": [
      "def plotByMu(ind):\n",
      "    m = mus[ind]\n",
      "    df = data_df[m]\n",
      "    \n",
      "    hm_inf = np.array([])\n",
      "    rm_inf = np.array([])\n",
      "    for k,v in df.iteritems():\n",
      "        v.tau = np.array(v.time*np.sqrt(v.g/2*v.H0))\n",
      "        hmStar = v.h_max_prof/v.H0\n",
      "        rmStar = v.r_max_prof/v.H0\n",
      "        hm_inf = np.append(hm_inf, hmStar[-1])  \n",
      "        rm_inf = np.append(rm_inf, rmStar[-1])\n",
      "        \n",
      "    xp = np.linspace(0., 11.0, 50) \n",
      "    z = np.polyfit(gis, hm_inf, 1)\n",
      "    p = np.poly1d(z)\n",
      "    \n",
      "    hm_err = hm_inf.std() / np.sqrt(len(hm_inf))\n",
      "    label_h=r'$h_{\\infty}(g_i)\\approx %0.3f g_i + %0.3f$' % (z[0],z[1])\n",
      "    plt.plot(xp, p(xp), 'k--')\n",
      "    # plt.hold()\n",
      "    plt.errorbar(gis, hm_inf, fmt = 'r.', yerr = hm_err, \n",
      "                 label=label_h)\n",
      "    plt.legend()\n",
      "    \n",
      "    z = np.polyfit(gis, rm_inf, 1)\n",
      "    p = np.poly1d(z)\n",
      "    \n",
      "    rm_err = rm_inf.std() / np.sqrt(len(rm_inf))\n",
      "    label_l = r'$l_{\\infty}(g_i)\\approx %0.3f g_i + %0.3f$' % (z[0],z[1])\n",
      "    \n",
      "    plt.plot(xp, p(xp), 'k--')\n",
      "    plt.errorbar(gis, rm_inf, fmt = 'b.', yerr = rm_err, \n",
      "                 label=label_l)\n",
      "    plt.legend()\n",
      "    plt.legend(loc=10)\n",
      "    \n",
      "    plt.xlabel(r'$g/g_0$')\n",
      "    plt.ylabel(r'$h_{\\infty}$ or $l_{\\infty}$  ')\n",
      "    plt.title(r'$a \\approx %0.1f; \\mu = %0.1f$' % (A,m))\n",
      "    # plt.ylim([np.floor(dn_min),np.ceil(dn_max)])\n",
      "    plt.xlim([0., 11.0])\n",
      "    axes().set_aspect('equal','datalim')\n",
      "    \n",
      "    grid()\n",
      "    plt.show()\n",
      "    \n",
      "    return hm_inf #, label_h, rm_inf, label_l"
     ],
     "language": "python",
     "metadata": {},
     "outputs": [],
     "prompt_number": 231
    },
    {
     "cell_type": "code",
     "collapsed": false,
     "input": [
      "def plotByGrav(ind):\n",
      "    gi = gis[ind]\n",
      "    df = data_df.loc[gi]\n",
      "    \n",
      "    hm_inf = np.array([])\n",
      "    rm_inf = np.array([])\n",
      "    for k,v in df.iteritems():\n",
      "        v.tau = np.array(v.time*np.sqrt(v.g/2*v.H0))\n",
      "        hmStar = v.h_max_prof/v.H0\n",
      "        rmStar = v.r_max_prof/v.H0\n",
      "        hm_inf = np.append(hm_inf, hmStar[-1])  \n",
      "        rm_inf = np.append(rm_inf, rmStar[-1])\n",
      "    \n",
      "    xp = np.linspace(0.4, 1.0, 25)\n",
      "    \n",
      "    z = np.polyfit(mus, hm_inf, 1)\n",
      "    p = np.poly1d(z)\n",
      "    \n",
      "    hm_err = hm_inf.std() / np.sqrt(len(hm_inf))\n",
      "    label_h = r'$h_{\\infty}(\\mu)\\approx %0.3f \\mu + %0.3f$' % (z[0],z[1])\n",
      "\n",
      "    plt.plot(xp, p(xp), 'k--')\n",
      "#     plt.hold()\n",
      "    plt.errorbar(mus, hm_inf, fmt = 'r.', yerr = hm_err, \n",
      "                 label=label_h)\n",
      "    plt.legend()\n",
      "    \n",
      "    z = np.polyfit(mus, rm_inf, 1)\n",
      "    p = np.poly1d(z)\n",
      "    \n",
      "    rm_err = rm_inf.std() / np.sqrt(len(rm_inf))\n",
      "    label_l = r'$l_{\\infty}(\\mu)\\approx %0.3f \\mu + %0.3f$' % (z[0],z[1])\n",
      "    plt.plot(xp, p(xp), 'k--')\n",
      "    plt.errorbar(mus, rm_inf, fmt = 'b.', yerr = rm_err, \n",
      "                 label=label_l)\n",
      "    plt.legend()\n",
      "    plt.legend(loc=10)\n",
      "    \n",
      "    \n",
      "    \n",
      "    plt.xlabel(r'$\\mu$')\n",
      "    plt.ylabel(r'$h_{\\infty}$ or $l_{\\infty}$  ')\n",
      "    plt.title(r'$a \\approx %0.1f; g_i = %0.1f$' % (A,gi))\n",
      "    # plt.ylim([np.floor(dn_min),np.ceil(dn_max)])\n",
      "    plt.xlim([0.4, 1.0])\n",
      "    # axes().set_aspect('equal','datalim')\n",
      "    grid()\n",
      "    plt.show()\n",
      "    \n",
      "    return hm_inf #, label_h, rm_inf, label_l"
     ],
     "language": "python",
     "metadata": {},
     "outputs": [],
     "prompt_number": 232
    },
    {
     "cell_type": "code",
     "collapsed": false,
     "input": [],
     "language": "python",
     "metadata": {},
     "outputs": []
    }
   ],
   "metadata": {}
  }
 ]
}