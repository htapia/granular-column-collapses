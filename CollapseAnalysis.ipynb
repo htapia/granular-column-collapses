{
 "metadata": {
  "name": ""
 },
 "nbformat": 3,
 "nbformat_minor": 0,
 "worksheets": [
  {
   "cells": [
    {
     "cell_type": "code",
     "collapsed": false,
     "input": [
      "import importipynb\n",
      "import numpy as np\n",
      "\n",
      "import pandas as pd\n",
      "import matplotlib.pyplot as plt\n",
      "\n",
      "%load_ext autoreload\n",
      "%autoreload 2\n",
      "# import matplotlib.tri as tri\n",
      "# from scipy.spatial import Voronoi, voronoi_plot_2d\n"
     ],
     "language": "python",
     "metadata": {},
     "outputs": [],
     "prompt_number": 14
    },
    {
     "cell_type": "code",
     "collapsed": false,
     "input": [
      "import collapse_nb as col"
     ],
     "language": "python",
     "metadata": {},
     "outputs": [],
     "prompt_number": 15
    },
    {
     "cell_type": "code",
     "collapsed": false,
     "input": [
      "gis = np.array([0.1, 0.2, 0.3, 0.4, 0.5, 1.0, 10.0])"
     ],
     "language": "python",
     "metadata": {},
     "outputs": [],
     "prompt_number": 16
    },
    {
     "cell_type": "code",
     "collapsed": false,
     "input": [
      "col.Collapsebin(0.8,0.1,0.6)"
     ],
     "language": "python",
     "metadata": {},
     "outputs": [
      {
       "output_type": "stream",
       "stream": "stdout",
       "text": [
        "\n",
        "Starting...\n",
        "log_run_liggghts_collapseColumn_DEM_a0.8_g_0.1_mu_0.6\n"
       ]
      },
      {
       "output_type": "stream",
       "stream": "stdout",
       "text": [
        "reading dump file...\n",
        "315000"
       ]
      },
      {
       "output_type": "stream",
       "stream": "stdout",
       "text": [
        "\n",
        "1 snapshots selected out of 1\n",
        "assigned columns: id type x y z ix iy iz vx vy vz fx fy fz omegax omegay omegaz radius \n",
        "dump is already unscaled\n",
        "\n",
        "Initial mean Kinetic   Energy -0.000000 [J]: \n",
        "Initial mean Potential Energy 0.000009 [J]: \n",
        "Files seem to exist in /home/htapia/projects/liggghts/column2D/A_0.8_grav_0.1_mu_0.6/\n",
        "\n",
        " File collapse315000.csv seems to not exist\n",
        "Enter will create profiles in csv format"
       ]
      },
      {
       "output_type": "stream",
       "stream": "stdout",
       "text": [
        "\n",
        "Please wait while profiles are created from VTKs...\n"
       ]
      },
      {
       "output_type": "stream",
       "stream": "stdout",
       "text": [
        "Done creating profiles from VTKs\n",
        "self.H0           : 0.326538"
       ]
      },
      {
       "output_type": "stream",
       "stream": "stdout",
       "text": [
        "\n",
        "self.h_max_prof[0]: 0.326520\n",
        "self.L0           : 0.364184\n",
        "self.r_max_prof   : 0.364180\n",
        "self.A            : 0.800000 (from input)\n",
        "self.aParam       : 0.896630, 0.896630 (from =H0/L0)\n",
        "self.aParamFunc   : 0.896580 (from h_max_prof[0]/L0 )\n",
        "self.aParamFunc   : 0.896590 (from h_max_prof[0]/self.r_max_prof )\n"
       ]
      },
      {
       "metadata": {},
       "output_type": "pyout",
       "prompt_number": 102,
       "text": [
        "<collapse_nb.Collapsebin instance at 0x419abd8>"
       ]
      }
     ],
     "prompt_number": 102
    },
    {
     "cell_type": "code",
     "collapsed": false,
     "input": [],
     "language": "python",
     "metadata": {},
     "outputs": []
    },
    {
     "cell_type": "code",
     "collapsed": false,
     "input": [
      "data = pd.Series([col.Collapsebin(0.8,g,0.9) for g in gis], index=gis)\n",
      "data.name = 'A=0.8, mu=0.9'"
     ],
     "language": "python",
     "metadata": {},
     "outputs": [
      {
       "output_type": "stream",
       "stream": "stdout",
       "text": [
        "\n",
        "Starting...\n",
        "log_run_liggghts_collapseColumn_DEM_a0.8_g_0.1_mu_0.9\n"
       ]
      },
      {
       "output_type": "stream",
       "stream": "stdout",
       "text": [
        "reading dump file...\n",
        "405000"
       ]
      },
      {
       "output_type": "stream",
       "stream": "stdout",
       "text": [
        "\n",
        "1 snapshots selected out of 1\n",
        "assigned columns: id type x y z ix iy iz vx vy vz fx fy fz omegax omegay omegaz radius \n",
        "dump is already unscaled\n",
        "\n",
        "Initial mean Kinetic   Energy -0.000000 [J]: \n",
        "Initial mean Potential Energy 0.000009 [J]: \n",
        "Files seem to exist in /home/htapia/projects/liggghts/column2D/A_0.8_grav_0.1_mu_0.9/\n",
        "\n",
        " File collapse405000.csv seems to not exist\n",
        "Enter will create profiles in csv format"
       ]
      },
      {
       "output_type": "stream",
       "stream": "stdout",
       "text": [
        "\n",
        "Please wait while profiles are created from VTKs...\n"
       ]
      },
      {
       "output_type": "stream",
       "stream": "stdout",
       "text": [
        "Done creating profiles from VTKs\n",
        "self.H0           : 0.328967"
       ]
      },
      {
       "output_type": "stream",
       "stream": "stdout",
       "text": [
        "\n",
        "self.h_max_prof[0]: 0.328950\n",
        "self.L0           : 0.364197\n",
        "self.r_max_prof   : 0.364180\n",
        "self.A            : 0.800000 (from input)\n",
        "self.aParam       : 0.903267, 0.903267 (from =H0/L0)\n",
        "self.aParamFunc   : 0.903219 (from h_max_prof[0]/L0 )\n",
        "self.aParamFunc   : 0.903262 (from h_max_prof[0]/self.r_max_prof )\n",
        "\n",
        "Starting...\n",
        "log_run_liggghts_collapseColumn_DEM_a0.8_g_0.2_mu_0.9\n"
       ]
      },
      {
       "output_type": "stream",
       "stream": "stdout",
       "text": [
        "reading dump file...\n",
        "330000"
       ]
      },
      {
       "output_type": "stream",
       "stream": "stdout",
       "text": [
        "\n",
        "1 snapshots selected out of 1\n",
        "assigned columns: id type x y z ix iy iz vx vy vz fx fy fz omegax omegay omegaz radius \n",
        "dump is already unscaled\n",
        "\n",
        "Initial mean Kinetic   Energy 0.000000 [J]: \n",
        "Initial mean Potential Energy 0.000018 [J]: \n",
        "Files seem to exist in /home/htapia/projects/liggghts/column2D/A_0.8_grav_0.2_mu_0.9/\n",
        "\n",
        " File collapse330000.csv seems to not exist\n",
        "Enter will create profiles in csv format"
       ]
      },
      {
       "output_type": "stream",
       "stream": "stdout",
       "text": [
        "\n",
        "Please wait while profiles are created from VTKs...\n"
       ]
      },
      {
       "output_type": "stream",
       "stream": "stdout",
       "text": [
        "Done creating profiles from VTKs\n",
        "self.H0           : 0.327263"
       ]
      },
      {
       "output_type": "stream",
       "stream": "stdout",
       "text": [
        "\n",
        "self.h_max_prof[0]: 0.327240\n",
        "self.L0           : 0.364222\n",
        "self.r_max_prof   : 0.364190\n",
        "self.A            : 0.800000 (from input)\n",
        "self.aParam       : 0.898527, 0.898527 (from =H0/L0)\n",
        "self.aParamFunc   : 0.898464 (from h_max_prof[0]/L0 )\n",
        "self.aParamFunc   : 0.898542 (from h_max_prof[0]/self.r_max_prof )\n",
        "\n",
        "Starting...\n",
        "log_run_liggghts_collapseColumn_DEM_a0.8_g_0.3_mu_0.9\n"
       ]
      },
      {
       "output_type": "stream",
       "stream": "stdout",
       "text": [
        "reading dump file...\n",
        "555000"
       ]
      },
      {
       "output_type": "stream",
       "stream": "stdout",
       "text": [
        "\n",
        "1 snapshots selected out of 1\n",
        "assigned columns: id type x y z ix iy iz vx vy vz fx fy fz omegax omegay omegaz radius \n",
        "dump is already unscaled\n",
        "\n",
        "Initial mean Kinetic   Energy -0.000000 [J]: \n",
        "Initial mean Potential Energy 0.000027 [J]: \n",
        "Files seem to exist in /home/htapia/projects/liggghts/column2D/A_0.8_grav_0.3_mu_0.9/\n",
        "\n",
        " File collapse555000.csv seems to not exist\n",
        "Enter will create profiles in csv format"
       ]
      },
      {
       "output_type": "stream",
       "stream": "stdout",
       "text": [
        "\n",
        "Please wait while profiles are created from VTKs...\n"
       ]
      },
      {
       "output_type": "stream",
       "stream": "stdout",
       "text": [
        "Done creating profiles from VTKs\n",
        "self.H0           : 0.326710"
       ]
      },
      {
       "output_type": "stream",
       "stream": "stdout",
       "text": [
        "\n",
        "self.h_max_prof[0]: 0.326650\n",
        "self.L0           : 0.364217\n",
        "self.r_max_prof   : 0.364190\n",
        "self.A            : 0.800000 (from input)\n",
        "self.aParam       : 0.897020, 0.897020 (from =H0/L0)\n",
        "self.aParamFunc   : 0.896855 (from h_max_prof[0]/L0 )\n",
        "self.aParamFunc   : 0.896922 (from h_max_prof[0]/self.r_max_prof )\n",
        "\n",
        "Starting...\n",
        "log_run_liggghts_collapseColumn_DEM_a0.8_g_0.4_mu_0.9\n"
       ]
      },
      {
       "output_type": "stream",
       "stream": "stdout",
       "text": [
        "reading dump file...\n",
        "315000"
       ]
      },
      {
       "output_type": "stream",
       "stream": "stdout",
       "text": [
        "\n",
        "1 snapshots selected out of 1\n",
        "assigned columns: id type x y z ix iy iz vx vy vz fx fy fz omegax omegay omegaz radius \n",
        "dump is already unscaled\n",
        "\n",
        "Initial mean Kinetic   Energy 0.000000 [J]: \n",
        "Initial mean Potential Energy 0.000036 [J]: \n",
        "Files seem to exist in /home/htapia/projects/liggghts/column2D/A_0.8_grav_0.4_mu_0.9/\n",
        "\n",
        " File collapse315000.csv seems to not exist\n",
        "Enter will create profiles in csv format"
       ]
      },
      {
       "output_type": "stream",
       "stream": "stdout",
       "text": [
        "\n",
        "Please wait while profiles are created from VTKs...\n"
       ]
      },
      {
       "output_type": "stream",
       "stream": "stdout",
       "text": [
        "Done creating profiles from VTKs\n",
        "self.H0           : 0.326753"
       ]
      },
      {
       "output_type": "stream",
       "stream": "stdout",
       "text": [
        "\n",
        "self.h_max_prof[0]: 0.325700\n",
        "self.L0           : 0.364239\n",
        "self.r_max_prof   : 0.364210\n",
        "self.A            : 0.800000 (from input)\n",
        "self.aParam       : 0.897082, 0.897082 (from =H0/L0)\n",
        "self.aParamFunc   : 0.894193 (from h_max_prof[0]/L0 )\n",
        "self.aParamFunc   : 0.894264 (from h_max_prof[0]/self.r_max_prof )\n",
        "\n",
        "Starting...\n",
        "log_run_liggghts_collapseColumn_DEM_a0.8_g_0.5_mu_0.9\n"
       ]
      },
      {
       "output_type": "stream",
       "stream": "stdout",
       "text": [
        "reading dump file...\n",
        "375000"
       ]
      },
      {
       "output_type": "stream",
       "stream": "stdout",
       "text": [
        "\n",
        "1 snapshots selected out of 1\n",
        "assigned columns: id type x y z ix iy iz vx vy vz fx fy fz omegax omegay omegaz radius \n",
        "dump is already unscaled\n",
        "\n",
        "Initial mean Kinetic   Energy 0.000000 [J]: \n",
        "Initial mean Potential Energy 0.000044 [J]: \n",
        "Files seem to exist in /home/htapia/projects/liggghts/column2D/A_0.8_grav_0.5_mu_0.9/\n",
        "\n",
        " File collapse375000.csv seems to not exist\n",
        "Enter will create profiles in csv format"
       ]
      },
      {
       "output_type": "stream",
       "stream": "stdout",
       "text": [
        "\n",
        "Please wait while profiles are created from VTKs...\n"
       ]
      },
      {
       "output_type": "stream",
       "stream": "stdout",
       "text": [
        "Done creating profiles from VTKs\n",
        "self.H0           : 0.326914"
       ]
      },
      {
       "output_type": "stream",
       "stream": "stdout",
       "text": [
        "\n",
        "self.h_max_prof[0]: 0.326700\n",
        "self.L0           : 0.364260\n",
        "self.r_max_prof   : 0.364220\n",
        "self.A            : 0.800000 (from input)\n",
        "self.aParam       : 0.897475, 0.897475 (from =H0/L0)\n",
        "self.aParamFunc   : 0.896888 (from h_max_prof[0]/L0 )\n",
        "self.aParamFunc   : 0.896985 (from h_max_prof[0]/self.r_max_prof )\n",
        "\n",
        "Starting...\n",
        "log_run_liggghts_collapseColumn_DEM_a0.8_g_1.0_mu_0.9\n"
       ]
      },
      {
       "output_type": "stream",
       "stream": "stdout",
       "text": [
        "reading dump file...\n",
        "465000"
       ]
      },
      {
       "output_type": "stream",
       "stream": "stdout",
       "text": [
        "\n",
        "1 snapshots selected out of 1\n",
        "assigned columns: id type x y z ix iy iz vx vy vz fx fy fz omegax omegay omegaz radius \n",
        "dump is already unscaled\n",
        "\n",
        "Initial mean Kinetic   Energy -0.000000 [J]: \n",
        "Initial mean Potential Energy 0.000088 [J]: \n",
        "Files seem to exist in /home/htapia/projects/liggghts/column2D/A_0.8_grav_1.0_mu_0.9/\n",
        "\n",
        " File collapse465000.csv seems to not exist\n",
        "Enter will create profiles in csv format"
       ]
      },
      {
       "output_type": "stream",
       "stream": "stdout",
       "text": [
        "\n",
        "Please wait while profiles are created from VTKs...\n"
       ]
      },
      {
       "output_type": "stream",
       "stream": "stdout",
       "text": [
        "Done creating profiles from VTKs\n",
        "self.H0           : 0.323990\n",
        "self.h_max_prof[0]: 0.323880\n",
        "self.L0           : 0.364336\n",
        "self.r_max_prof   : 0.364250\n",
        "self.A            : 0.800000 (from input)\n",
        "self.aParam       : 0.889260, 0.889260 (from =H0/L0)\n",
        "self.aParamFunc   : 0.888960 (from h_max_prof[0]/L0 )\n",
        "self.aParamFunc   : 0.889170 (from h_max_prof[0]/self.r_max_prof )\n",
        "\n",
        "Starting...\n",
        "log_run_liggghts_collapseColumn_DEM_a0.8_g_10.0_mu_0.9\n"
       ]
      },
      {
       "output_type": "stream",
       "stream": "stdout",
       "text": [
        "reading dump file...\n",
        "1065000"
       ]
      },
      {
       "output_type": "stream",
       "stream": "stdout",
       "text": [
        "\n",
        "1 snapshots selected out of 1\n",
        "assigned columns: id type x y z ix iy iz vx vy vz fx fy fz omegax omegay omegaz radius \n",
        "dump is already unscaled\n",
        "\n",
        "Initial mean Kinetic   Energy -0.000000 [J]: \n",
        "Initial mean Potential Energy 0.000796 [J]: \n",
        "Files seem to exist in /home/htapia/projects/liggghts/column2D/A_0.8_grav_10.0_mu_0.9/\n",
        "\n",
        " File collapse1065000.csv seems to not exist\n",
        "Enter will create profiles in csv format"
       ]
      },
      {
       "output_type": "stream",
       "stream": "stdout",
       "text": [
        "\n",
        "Please wait while profiles are created from VTKs...\n"
       ]
      },
      {
       "output_type": "stream",
       "stream": "stdout",
       "text": [
        "Done creating profiles from VTKs\n",
        "self.H0           : 0.299135\n",
        "self.h_max_prof[0]: 0.298380\n",
        "self.L0           : 0.364993\n",
        "self.r_max_prof   : 0.364440\n",
        "self.A            : 0.800000 (from input)\n",
        "self.aParam       : 0.819565, 0.819565 (from =H0/L0)\n",
        "self.aParamFunc   : 0.817495 (from h_max_prof[0]/L0 )\n",
        "self.aParamFunc   : 0.818736 (from h_max_prof[0]/self.r_max_prof )\n"
       ]
      }
     ],
     "prompt_number": 19
    },
    {
     "cell_type": "code",
     "collapsed": false,
     "input": [
      "vx = data[0.1].V[0]\n",
      "vy = data[0.1].V[1]\n",
      "# rms fluctuactions of velocity\n",
      "# np.sqrt(np.mean((vx - vx.mean())**2))\n",
      "vx_rms = np.sqrt((vx**2).mean() - (vx.mean())**2)\n",
      "vy_rms = np.sqrt((vy**2).mean() - (vy.mean())**2)"
     ],
     "language": "python",
     "metadata": {},
     "outputs": [],
     "prompt_number": 73
    },
    {
     "cell_type": "code",
     "collapsed": false,
     "input": [
      "# rms fluctuactions of velocity\n",
      "# np.sqrt(np.mean((vx - vx.mean())**2))\n",
      "np.sqrt((vx**2).mean() - (vx.mean())**2)"
     ],
     "language": "python",
     "metadata": {},
     "outputs": [
      {
       "metadata": {},
       "output_type": "pyout",
       "prompt_number": 91,
       "text": [
        "0.00010265081369868023"
       ]
      }
     ],
     "prompt_number": 91
    },
    {
     "cell_type": "code",
     "collapsed": false,
     "input": [
      "plt.plot(data[0.1].profile.Px,data[0.1].profile.Py,'r.')\n",
      "plt.show()"
     ],
     "language": "python",
     "metadata": {},
     "outputs": [],
     "prompt_number": 33
    },
    {
     "cell_type": "code",
     "collapsed": false,
     "input": [
      "numI = data[0.1].r_max_prof*np.sqrt(data[0.1].r_max_prof)\n",
      "denI = data[0.1].H0 - data[0.1].h_max_prof\n",
      "inertialNum = (numI/denI)[1:] * 1./data[0.1].time[1:]"
     ],
     "language": "python",
     "metadata": {},
     "outputs": [],
     "prompt_number": 61
    },
    {
     "cell_type": "code",
     "collapsed": false,
     "input": [
      "plt.plot(inertialNum/inertialNum[0],'ro')\n",
      "plt.show()"
     ],
     "language": "python",
     "metadata": {},
     "outputs": [],
     "prompt_number": 65
    },
    {
     "cell_type": "code",
     "collapsed": false,
     "input": [],
     "language": "python",
     "metadata": {},
     "outputs": []
    },
    {
     "cell_type": "code",
     "collapsed": false,
     "input": [
      "plt.show()"
     ],
     "language": "python",
     "metadata": {},
     "outputs": [],
     "prompt_number": 64
    },
    {
     "cell_type": "code",
     "collapsed": false,
     "input": [
      "plt.plot(data[0.1].h_max_prof,'ro')\n",
      "plt.show()"
     ],
     "language": "python",
     "metadata": {},
     "outputs": [],
     "prompt_number": 41
    },
    {
     "cell_type": "code",
     "collapsed": false,
     "input": [
      "data[0.1].h_max_prof[0]"
     ],
     "language": "python",
     "metadata": {},
     "outputs": [
      {
       "metadata": {},
       "output_type": "pyout",
       "prompt_number": 42,
       "text": [
        "0.32895000000000002"
       ]
      }
     ],
     "prompt_number": 42
    },
    {
     "cell_type": "code",
     "collapsed": false,
     "input": [
      "plt.plot(data[0.1].H0 - data[0.1].h_max_prof)\n",
      "plt.show()"
     ],
     "language": "python",
     "metadata": {},
     "outputs": [],
     "prompt_number": 46
    },
    {
     "cell_type": "code",
     "collapsed": false,
     "input": [],
     "language": "python",
     "metadata": {},
     "outputs": []
    },
    {
     "cell_type": "code",
     "collapsed": false,
     "input": [
      "gis = np.array([0.1, 0.2, 0.3, 0.4, 0.5, 1.0, 10.0])\n",
      "# ./run.sh 0.8 $g 0.6 10000\n",
      "data = pd.Series([collapse(0.8,g,0.6) for g in gis], index=gis)\n",
      "data.name = 'A=0.8, mu=0.6'\n",
      "# ./run.sh 0.8 $g 0.7 10000\n",
      "data = pd.Series([collapse(0.8,g,0.7) for g in gis], index=gis)\n",
      "data.name = 'A=0.8, mu=0.7'\n",
      "# ./run.sh 1.4 0.1 0.5 10000\n",
      "c=collapse(1.4,0.1,0.5)\n",
      "\n",
      "xy = np.dstack(c.XY)[0]\n",
      "vor = Voronoi(xy)\n",
      "voronoi_plot_2d(vor);\n",
      "c.normalizeTime(c.H0)\n",
      "subplot(121)\n",
      "plot(c.tau,c.r_max_prof/c.H0)\n",
      "subplot(122)\n",
      "plot(c.tau,c.h_max_prof/c.H0);\n",
      "gis = np.array([0.1, 0.2, 0.3, 0.4, 0.5, 1.0, 10.0])\n",
      "data = pd.Series([collapse(1.4,g,0.5) for g in gis], index=gis)\n",
      "data.name = 'A=1.4, mu=0.5'\n",
      "for dd in data: plotDist(dd)\n",
      "df = pd.DataFrame(data)\n",
      "# http://pandas.pydata.org/pandas-docs/stable/io.htmlio-pickle\n",
      "data.to_pickle('A=1.4, mu=0.5.pkl')\n",
      "pd.read_pickle('A=1.4, mu=0.5.pkl')"
     ],
     "language": "python",
     "metadata": {},
     "outputs": []
    },
    {
     "cell_type": "code",
     "collapsed": false,
     "input": [],
     "language": "python",
     "metadata": {},
     "outputs": []
    }
   ],
   "metadata": {}
  }
 ]
}