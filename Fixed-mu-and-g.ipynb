{
 "metadata": {
  "name": ""
 },
 "nbformat": 3,
 "nbformat_minor": 0,
 "worksheets": [
  {
   "cells": [
    {
     "cell_type": "markdown",
     "metadata": {},
     "source": [
      "##Final distances dependence on $a$ for fixed $g$ and $\\mu$.\n",
      "We now study the final distances of the columns in which the intergrain friction coefficient is varied, for a fixed size and gravity. We select the reference case $g=g_0$ for this test."
     ]
    },
    {
     "cell_type": "code",
     "collapsed": false,
     "input": [
      "import importipynb\n",
      "import numpy as np\n",
      "\n",
      "import pandas as pd\n",
      "import matplotlib.pyplot as plt\n",
      "\n",
      "%load_ext autoreload\n",
      "%autoreload 2\n",
      "# import matplotlib.tri as tri\n",
      "# from scipy.spatial import Voronoi, voronoi_plot_2d\n",
      "\n",
      "import collapse_nb as col"
     ],
     "language": "python",
     "metadata": {},
     "outputs": [
      {
       "html": [
        "\n",
        "<style type='text/css'>\n",
        ".hll { background-color: #ffffcc }\n",
        ".c { color: #408080; font-style: italic } /* Comment */\n",
        ".err { border: 1px solid #FF0000 } /* Error */\n",
        ".k { color: #008000; font-weight: bold } /* Keyword */\n",
        ".o { color: #666666 } /* Operator */\n",
        ".cm { color: #408080; font-style: italic } /* Comment.Multiline */\n",
        ".cp { color: #BC7A00 } /* Comment.Preproc */\n",
        ".c1 { color: #408080; font-style: italic } /* Comment.Single */\n",
        ".cs { color: #408080; font-style: italic } /* Comment.Special */\n",
        ".gd { color: #A00000 } /* Generic.Deleted */\n",
        ".ge { font-style: italic } /* Generic.Emph */\n",
        ".gr { color: #FF0000 } /* Generic.Error */\n",
        ".gh { color: #000080; font-weight: bold } /* Generic.Heading */\n",
        ".gi { color: #00A000 } /* Generic.Inserted */\n",
        ".go { color: #888888 } /* Generic.Output */\n",
        ".gp { color: #000080; font-weight: bold } /* Generic.Prompt */\n",
        ".gs { font-weight: bold } /* Generic.Strong */\n",
        ".gu { color: #800080; font-weight: bold } /* Generic.Subheading */\n",
        ".gt { color: #0044DD } /* Generic.Traceback */\n",
        ".kc { color: #008000; font-weight: bold } /* Keyword.Constant */\n",
        ".kd { color: #008000; font-weight: bold } /* Keyword.Declaration */\n",
        ".kn { color: #008000; font-weight: bold } /* Keyword.Namespace */\n",
        ".kp { color: #008000 } /* Keyword.Pseudo */\n",
        ".kr { color: #008000; font-weight: bold } /* Keyword.Reserved */\n",
        ".kt { color: #B00040 } /* Keyword.Type */\n",
        ".m { color: #666666 } /* Literal.Number */\n",
        ".s { color: #BA2121 } /* Literal.String */\n",
        ".na { color: #7D9029 } /* Name.Attribute */\n",
        ".nb { color: #008000 } /* Name.Builtin */\n",
        ".nc { color: #0000FF; font-weight: bold } /* Name.Class */\n",
        ".no { color: #880000 } /* Name.Constant */\n",
        ".nd { color: #AA22FF } /* Name.Decorator */\n",
        ".ni { color: #999999; font-weight: bold } /* Name.Entity */\n",
        ".ne { color: #D2413A; font-weight: bold } /* Name.Exception */\n",
        ".nf { color: #0000FF } /* Name.Function */\n",
        ".nl { color: #A0A000 } /* Name.Label */\n",
        ".nn { color: #0000FF; font-weight: bold } /* Name.Namespace */\n",
        ".nt { color: #008000; font-weight: bold } /* Name.Tag */\n",
        ".nv { color: #19177C } /* Name.Variable */\n",
        ".ow { color: #AA22FF; font-weight: bold } /* Operator.Word */\n",
        ".w { color: #bbbbbb } /* Text.Whitespace */\n",
        ".mf { color: #666666 } /* Literal.Number.Float */\n",
        ".mh { color: #666666 } /* Literal.Number.Hex */\n",
        ".mi { color: #666666 } /* Literal.Number.Integer */\n",
        ".mo { color: #666666 } /* Literal.Number.Oct */\n",
        ".sb { color: #BA2121 } /* Literal.String.Backtick */\n",
        ".sc { color: #BA2121 } /* Literal.String.Char */\n",
        ".sd { color: #BA2121; font-style: italic } /* Literal.String.Doc */\n",
        ".s2 { color: #BA2121 } /* Literal.String.Double */\n",
        ".se { color: #BB6622; font-weight: bold } /* Literal.String.Escape */\n",
        ".sh { color: #BA2121 } /* Literal.String.Heredoc */\n",
        ".si { color: #BB6688; font-weight: bold } /* Literal.String.Interpol */\n",
        ".sx { color: #008000 } /* Literal.String.Other */\n",
        ".sr { color: #BB6688 } /* Literal.String.Regex */\n",
        ".s1 { color: #BA2121 } /* Literal.String.Single */\n",
        ".ss { color: #19177C } /* Literal.String.Symbol */\n",
        ".bp { color: #008000 } /* Name.Builtin.Pseudo */\n",
        ".vc { color: #19177C } /* Name.Variable.Class */\n",
        ".vg { color: #19177C } /* Name.Variable.Global */\n",
        ".vi { color: #19177C } /* Name.Variable.Instance */\n",
        ".il { color: #666666 } /* Literal.Number.Integer.Long */\n",
        "</style>\n"
       ],
       "metadata": {},
       "output_type": "display_data",
       "text": [
        "<IPython.core.display.HTML at 0x3a97850>"
       ]
      },
      {
       "output_type": "stream",
       "stream": "stdout",
       "text": [
        "importing IPython notebook from collapse_nb.ipynb\n"
       ]
      }
     ],
     "prompt_number": 1
    },
    {
     "cell_type": "code",
     "collapsed": false,
     "input": [
      "A = 2.0\n",
      "mus = np.arange(0.5,1.0,0.1)\n",
      "gis = np.array([0.1, 0.2, 0.3, 0.4, 0.5, 1.0, 10.0])\n",
      "\n",
      "data_name = 'A=%s, g=%s' % (A, gis[5])\n",
      "\n",
      "data = pd.Series([col.Collapsebin(A, gis[5], m) for m in mus[1:]], index=mus[1:])\n",
      "data.name = data_name"
     ],
     "language": "python",
     "metadata": {},
     "outputs": [
      {
       "output_type": "stream",
       "stream": "stdout",
       "text": [
        "\n",
        "Starting...\n",
        "log_run_liggghts_collapseColumn_DEM_a2.0_g_1.0_mu_0.6\n"
       ]
      },
      {
       "output_type": "stream",
       "stream": "stdout",
       "text": [
        "reading dump file...\n",
        "375000"
       ]
      },
      {
       "output_type": "stream",
       "stream": "stdout",
       "text": [
        "\n",
        "1 snapshots selected out of 1\n",
        "assigned columns: id type x y z ix iy iz vx vy vz fx fy fz omegax omegay omegaz radius \n",
        "dump is already unscaled\n",
        "\n",
        "Initial mean Kinetic   Energy 0.000000 [J]: "
       ]
      },
      {
       "output_type": "stream",
       "stream": "stdout",
       "text": [
        "\n",
        "Initial mean Potential Energy 0.000135 [J]: \n",
        "Files seem to exist in /home/htapia/projects/liggghts/column2D/A_2.0_grav_1.0_mu_0.6/\n",
        "\n",
        "self.H0           : 0.497747"
       ]
      },
      {
       "output_type": "stream",
       "stream": "stdout",
       "text": [
        "\n",
        "self.h_max_prof[0]: 0.496280\n",
        "self.L0           : 0.230595\n",
        "self.r_max_prof   : 0.230450\n",
        "self.A            : 2.000000 (from input)\n",
        "self.aParam       : 2.158529, 2.158529 (from =H0/L0)\n",
        "self.aParamFunc   : 2.152169 (from h_max_prof[0]/L0 )\n",
        "self.aParamFunc   : 2.153526 (from h_max_prof[0]/self.r_max_prof )\n",
        "\n",
        "Starting...\n",
        "log_run_liggghts_collapseColumn_DEM_a2.0_g_1.0_mu_0.7\n"
       ]
      },
      {
       "output_type": "stream",
       "stream": "stdout",
       "text": [
        "reading dump file...\n",
        "630000"
       ]
      },
      {
       "output_type": "stream",
       "stream": "stdout",
       "text": [
        "\n",
        "1 snapshots selected out of 1\n",
        "assigned columns: id type x y z ix iy iz vx vy vz fx fy fz omegax omegay omegaz radius \n",
        "dump is already unscaled\n",
        "\n",
        "Initial mean Kinetic   Energy -0.000000 [J]: \n",
        "Initial mean Potential Energy 0.000136 [J]: \n",
        "Files seem to exist in /home/htapia/projects/liggghts/column2D/A_2.0_grav_1.0_mu_0.7/\n",
        "\n",
        "self.H0           : 0.499850"
       ]
      },
      {
       "output_type": "stream",
       "stream": "stdout",
       "text": [
        "\n",
        "self.h_max_prof[0]: 0.499710\n",
        "self.L0           : 0.230600\n",
        "self.r_max_prof   : 0.230440\n",
        "self.A            : 2.000000 (from input)\n",
        "self.aParam       : 2.167608, 2.167608 (from =H0/L0)\n",
        "self.aParamFunc   : 2.167002 (from h_max_prof[0]/L0 )\n",
        "self.aParamFunc   : 2.168504 (from h_max_prof[0]/self.r_max_prof )\n",
        "\n",
        "Starting...\n",
        "log_run_liggghts_collapseColumn_DEM_a2.0_g_1.0_mu_0.8\n"
       ]
      },
      {
       "output_type": "stream",
       "stream": "stdout",
       "text": [
        "reading dump file...\n",
        "450000"
       ]
      },
      {
       "output_type": "stream",
       "stream": "stdout",
       "text": [
        "\n",
        "1 snapshots selected out of 1\n",
        "assigned columns: id type x y z ix iy iz vx vy vz fx fy fz omegax omegay omegaz radius \n",
        "dump is already unscaled\n",
        "\n",
        "Initial mean Kinetic   Energy -0.000000 [J]: "
       ]
      },
      {
       "output_type": "stream",
       "stream": "stdout",
       "text": [
        "\n",
        "Initial mean Potential Energy 0.000136 [J]: \n",
        "Files seem to exist in /home/htapia/projects/liggghts/column2D/A_2.0_grav_1.0_mu_0.8/\n",
        "\n",
        "self.H0           : 0.503355"
       ]
      },
      {
       "output_type": "stream",
       "stream": "stdout",
       "text": [
        "\n",
        "self.h_max_prof[0]: 0.500910\n",
        "self.L0           : 0.230588\n",
        "self.r_max_prof   : 0.230510\n",
        "self.A            : 2.000000 (from input)\n",
        "self.aParam       : 2.182920, 2.182920 (from =H0/L0)\n",
        "self.aParamFunc   : 2.172316 (from h_max_prof[0]/L0 )\n",
        "self.aParamFunc   : 2.173051 (from h_max_prof[0]/self.r_max_prof )\n",
        "\n",
        "Starting...\n",
        "log_run_liggghts_collapseColumn_DEM_a2.0_g_1.0_mu_0.9\n"
       ]
      },
      {
       "output_type": "stream",
       "stream": "stdout",
       "text": [
        "reading dump file...\n",
        "465000"
       ]
      },
      {
       "output_type": "stream",
       "stream": "stdout",
       "text": [
        "\n",
        "1 snapshots selected out of 1\n",
        "assigned columns: id type x y z ix iy iz vx vy vz fx fy fz omegax omegay omegaz radius \n",
        "dump is already unscaled\n",
        "\n",
        "Initial mean Kinetic   Energy 0.000000 [J]: \n",
        "Initial mean Potential Energy 0.000137 [J]: \n",
        "Files seem to exist in /home/htapia/projects/liggghts/column2D/A_2.0_grav_1.0_mu_0.9/\n",
        "\n",
        "self.H0           : 0.503008"
       ]
      },
      {
       "output_type": "stream",
       "stream": "stdout",
       "text": [
        "\n",
        "self.h_max_prof[0]: 0.502570\n",
        "self.L0           : 0.230617\n",
        "self.r_max_prof   : 0.230440\n",
        "self.A            : 2.000000 (from input)\n",
        "self.aParam       : 2.181144, 2.181144 (from =H0/L0)\n",
        "self.aParamFunc   : 2.179244 (from h_max_prof[0]/L0 )\n",
        "self.aParamFunc   : 2.180915 (from h_max_prof[0]/self.r_max_prof )\n"
       ]
      }
     ],
     "prompt_number": 24
    },
    {
     "cell_type": "markdown",
     "metadata": {},
     "source": [
      "In this case the data `Series` is named by friction:"
     ]
    },
    {
     "cell_type": "code",
     "collapsed": false,
     "input": [
      "data"
     ],
     "language": "python",
     "metadata": {},
     "outputs": [
      {
       "metadata": {},
       "output_type": "pyout",
       "prompt_number": 26,
       "text": [
        "0.6    <collapse_nb.Collapsebin instance at 0x47e0170>\n",
        "0.7    <collapse_nb.Collapsebin instance at 0x4b8cf38>\n",
        "0.8    <collapse_nb.Collapsebin instance at 0x44c9c20>\n",
        "0.9    <collapse_nb.Collapsebin instance at 0x48079e0>\n",
        "Name: A=2.0, g=1.0, dtype: object"
       ]
      }
     ],
     "prompt_number": 26
    },
    {
     "cell_type": "markdown",
     "metadata": {},
     "source": [
      "To plot the final profile of the desposit obtained by collapsing the column made of grains with friction $\\mu=0.9$ (under the referebce gravity $g=g_0$) we do the following:"
     ]
    },
    {
     "cell_type": "code",
     "collapsed": false,
     "input": [
      "mu = mus[-1]\n",
      "d = data[mu]\n",
      "plot(d.profile.Px,d.profile.Py,'r.');\n",
      "axes().set_aspect('equal','datalim')"
     ],
     "language": "python",
     "metadata": {},
     "outputs": [
      {
       "metadata": {},
       "output_type": "display_data",
       "png": "[encoded data removed]",
       "text": [
        "<matplotlib.figure.Figure at 0x4809e90>"
       ]
      }
     ],
     "prompt_number": 43
    },
    {
     "cell_type": "markdown",
     "metadata": {},
     "source": [
      "As int he previous example we plot the normalized maximum height $h_m^* = \\frac{h_m}{h_0}$ in (normalized) time $\\tau = t/(h_0/g)^{1/2}$:"
     ]
    },
    {
     "cell_type": "code",
     "collapsed": false,
     "input": [
      "d.tau = np.array(d.time*np.sqrt(d.g/2*d.H0))\n",
      "hmStar = d.h_max_prof/d.H0\n",
      "plot(d.tau,hmStar,'b.-')\n",
      "xlabel(r'dimensionless time, $\\tau$')\n",
      "ylabel(r'dimensionless maximum height $h_m^*$')\n",
      "title('About as simple as it gets, folks')\n",
      "grid(True);"
     ],
     "language": "python",
     "metadata": {},
     "outputs": [
      {
       "metadata": {},
       "output_type": "display_data",
       "png": "[encoded data removed]",
       "text": [
        "<matplotlib.figure.Figure at 0x4a8e6d0>"
       ]
      }
     ],
     "prompt_number": 40
    },
    {
     "cell_type": "markdown",
     "metadata": {},
     "source": [
      "We can clearly see how the maximum height of the deposit follows the expected curve (which we would like to \"predict\"). We can easily access the final height, $h_{\\infty}^*$"
     ]
    },
    {
     "cell_type": "code",
     "collapsed": false,
     "input": [
      "hm_inf = hmStar[-1]\n",
      "print hm_inf"
     ],
     "language": "python",
     "metadata": {},
     "outputs": [
      {
       "output_type": "stream",
       "stream": "stdout",
       "text": [
        "0.234966455899\n"
       ]
      }
     ],
     "prompt_number": 41
    },
    {
     "cell_type": "markdown",
     "metadata": {},
     "source": [
      "So we can acces the final height for all the collapses in different gravities for this fixed $a$ and $\\mu$. First let's put the information we need on a `DataFrame`:"
     ]
    },
    {
     "cell_type": "code",
     "collapsed": false,
     "input": [
      "g"
     ],
     "language": "python",
     "metadata": {},
     "outputs": [
      {
       "ename": "NameError",
       "evalue": "name 'g' is not defined",
       "output_type": "pyerr",
       "traceback": [
        "\u001b[1;31m---------------------------------------------------------------------------\u001b[0m\n\u001b[1;31mNameError\u001b[0m                                 Traceback (most recent call last)",
        "\u001b[1;32m<ipython-input-42-f5302386464f>\u001b[0m in \u001b[0;36m<module>\u001b[1;34m()\u001b[0m\n\u001b[1;32m----> 1\u001b[1;33m \u001b[0mg\u001b[0m\u001b[1;33m\u001b[0m\u001b[0m\n\u001b[0m",
        "\u001b[1;31mNameError\u001b[0m: name 'g' is not defined"
       ]
      }
     ],
     "prompt_number": 42
    },
    {
     "cell_type": "code",
     "collapsed": false,
     "input": [
      "dist_df = pd.DataFrame([{\n",
      "        'A': data[m].A,\n",
      "        'aP': data[m].aParam,\n",
      "        'h0': data[m].H0,\n",
      "        'l0': data[m].L0,\n",
      "        'hinf': data[m].h_max_prof[-1],\n",
      "        'linf': data[m].r_max_prof[-1]} for m in mus[1:]],mus[1:])\n",
      "dist_df"
     ],
     "language": "python",
     "metadata": {},
     "outputs": [
      {
       "html": [
        "<div style=\"max-height:1000px;max-width:1500px;overflow:auto;\">\n",
        "<table border=\"1\" class=\"dataframe\">\n",
        "  <thead>\n",
        "    <tr style=\"text-align: right;\">\n",
        "      <th></th>\n",
        "      <th>A</th>\n",
        "      <th>aP</th>\n",
        "      <th>h0</th>\n",
        "      <th>hinf</th>\n",
        "      <th>l0</th>\n",
        "      <th>linf</th>\n",
        "    </tr>\n",
        "  </thead>\n",
        "  <tbody>\n",
        "    <tr>\n",
        "      <th>0.6</th>\n",
        "      <td> 2</td>\n",
        "      <td> 2.158529</td>\n",
        "      <td> 0.497747</td>\n",
        "      <td> 0.10420</td>\n",
        "      <td> 0.230595</td>\n",
        "      <td> 1.4862</td>\n",
        "    </tr>\n",
        "    <tr>\n",
        "      <th>0.7</th>\n",
        "      <td> 2</td>\n",
        "      <td> 2.167608</td>\n",
        "      <td> 0.499850</td>\n",
        "      <td> 0.11434</td>\n",
        "      <td> 0.230600</td>\n",
        "      <td> 1.4434</td>\n",
        "    </tr>\n",
        "    <tr>\n",
        "      <th>0.8</th>\n",
        "      <td> 2</td>\n",
        "      <td> 2.182920</td>\n",
        "      <td> 0.503355</td>\n",
        "      <td> 0.11607</td>\n",
        "      <td> 0.230588</td>\n",
        "      <td> 1.3756</td>\n",
        "    </tr>\n",
        "    <tr>\n",
        "      <th>0.9</th>\n",
        "      <td> 2</td>\n",
        "      <td> 2.181144</td>\n",
        "      <td> 0.503008</td>\n",
        "      <td> 0.11819</td>\n",
        "      <td> 0.230617</td>\n",
        "      <td> 1.2760</td>\n",
        "    </tr>\n",
        "  </tbody>\n",
        "</table>\n",
        "</div>"
       ],
       "metadata": {},
       "output_type": "pyout",
       "prompt_number": 44,
       "text": [
        "     A        aP        h0     hinf        l0    linf\n",
        "0.6  2  2.158529  0.497747  0.10420  0.230595  1.4862\n",
        "0.7  2  2.167608  0.499850  0.11434  0.230600  1.4434\n",
        "0.8  2  2.182920  0.503355  0.11607  0.230588  1.3756\n",
        "0.9  2  2.181144  0.503008  0.11819  0.230617  1.2760"
       ]
      }
     ],
     "prompt_number": 44
    },
    {
     "cell_type": "markdown",
     "metadata": {},
     "source": [
      "Just to be sure (and practice using `pandas` data frames) we can check that the data is read correctly comparing the values of $a$:"
     ]
    },
    {
     "cell_type": "code",
     "collapsed": false,
     "input": [
      "dist_df['aP'] - dist_df['h0']/dist_df['l0']"
     ],
     "language": "python",
     "metadata": {},
     "outputs": [
      {
       "metadata": {},
       "output_type": "pyout",
       "prompt_number": 45,
       "text": [
        "0.6    0\n",
        "0.7    0\n",
        "0.8    0\n",
        "0.9    0\n",
        "dtype: float64"
       ]
      }
     ],
     "prompt_number": 45
    },
    {
     "cell_type": "markdown",
     "metadata": {},
     "source": [
      "Now we want to see how the final distances depend on the frictio between grains:"
     ]
    },
    {
     "cell_type": "code",
     "collapsed": false,
     "input": [
      "dn = dist_df['linf']/dist_df['h0']\n",
      "dn_yerr = dn.std() / np.sqrt(len(dn))\n",
      "dn_max = dn.max()\n",
      "dn_min = dn.min()\n",
      "dn_mean = dn.mean()\n",
      "\n",
      "z = np.polyfit(mus[1:],dn,1)\n",
      "p = np.poly1d(z)\n",
      "print 'Slope l_infty: %0.3f ' % z[0]\n",
      "\n",
      "xp = np.linspace(0.4, 1.0, 25)\n",
      "\n",
      "plt.plot(xp, p(xp), 'k--')\n",
      "plt.hold()\n",
      "plt.errorbar(mus[1:], dn, fmt = 'r.', yerr = dn_yerr, \n",
      "             label=r'$l_{\\infty}\\approx$ %0.1f' % z[1])\n",
      "\n",
      "plt.legend()\n",
      "\n",
      "dn = dist_df['hinf']/dist_df['h0']\n",
      "dn_yerr = dn.std() / np.sqrt(len(dn))\n",
      "dn_max = dn.max()\n",
      "dn_min = dn.min()\n",
      "dn_mean = dn.mean()\n",
      "\n",
      "z = np.polyfit(mus[1:],dn,1)\n",
      "p = np.poly1d(z)\n",
      "print 'Slope h_infty: %0.3f ' % z[0]\n",
      "\n",
      "plt.plot(xp, p(xp), 'k--')\n",
      "plt.errorbar(mus[1:], dn, fmt = 'b.', yerr = dn_yerr, \n",
      "             label=r'$h_{\\infty}\\approx$ %0.1f' % z[1])\n",
      "plt.legend();\n",
      "\n",
      "\n",
      "plt.xlabel(r'$\\mu$')\n",
      "plt.ylabel(r'$h_{\\infty}$ or $l_{\\infty}$  ')\n",
      "plt.title(r'$a \\approx $ %0.1f; $\\mu = $ %0.1f' % (dist_df['aP'].mean(), mu))\n",
      "# plt.ylim([np.floor(dn_min),np.ceil(dn_max)])\n",
      "plt.xlim([0.4, 1.0])\n",
      "# axes().set_aspect('equal','datalim')\n",
      "grid()"
     ],
     "language": "python",
     "metadata": {},
     "outputs": [
      {
       "output_type": "stream",
       "stream": "stdout",
       "text": [
        "Slope l_infty: -1.502 \n",
        "Slope h_infty: 0.079 "
       ]
      },
      {
       "output_type": "stream",
       "stream": "stdout",
       "text": [
        "\n"
       ]
      },
      {
       "metadata": {},
       "output_type": "display_data",
       "png": "[encoded data removed]",
       "text": [
        "<matplotlib.figure.Figure at 0x44dfbd0>"
       ]
      }
     ],
     "prompt_number": 61
    },
    {
     "cell_type": "markdown",
     "metadata": {},
     "source": [
      "The dotted lines correspond to the best linear fit to the data; When columns of different friction collapse (same $a$ and same gravity), their final height remains nearly constant, but the final runout depends on the friction coefficient. This dependence can be linearly modelled, at least for this case example. We can write $$ h_{\\infty}^* (a, \\mu, g) = h_{\\infty}^* (a, g) $$ for the final height and $$l_{\\infty}^* (a, \\mu, g) = \\hat{l}_{\\infty}^* (a, g) \\phi(\\mu), $$ for the final runout, where $$\\phi(\\mu)=-1.5\\mu+4$$ for $g=g_0$."
     ]
    },
    {
     "cell_type": "code",
     "collapsed": false,
     "input": [
      "from IPython.core.display import HTML\n",
      "style_css='/home/htapia/.dropbox-lania/Dropbox/Proyectos/column-collapses/styles/custom.css'\n",
      "def css_styling():\n",
      "    styles = open(style_css, \"r\").read()\n",
      "    return HTML(styles)\n",
      "css_styling()"
     ],
     "language": "python",
     "metadata": {},
     "outputs": [
      {
       "html": [
        "<style>\n",
        "    @font-face {\n",
        "        font-family: \"Computer Modern\";\n",
        "        src: url('http://mirrors.ctan.org/fonts/cm-unicode/fonts/otf/cmunss.otf');\n",
        "    }\n",
        "    div.cell{\n",
        "        width:800px;\n",
        "        margin-left:16% !important;\n",
        "        margin-right:auto;\n",
        "    }\n",
        "    h1 {\n",
        "        font-family: Helvetica, serif;\n",
        "    }\n",
        "    h2 {\n",
        "        font-family: Helvetica, serif;\n",
        "    }\n",
        "    h4{\n",
        "        margin-top:12px;\n",
        "        margin-bottom: 3px;\n",
        "       }\n",
        "    div.text_cell_render{\n",
        "        font-family: Computer Modern, \"Helvetica Neue\", Arial, Helvetica, Geneva, sans-serif;\n",
        "        line-height: 135%;\n",
        "        font-size: 120%;\n",
        "        width:600px;\n",
        "        margin-left:auto;\n",
        "        margin-right:auto;\n",
        "    }\n",
        "    .CodeMirror{\n",
        "            font-family: \"Source Code Pro\", source-code-pro,Consolas, monospace;\n",
        "    }\n",
        "/*    .prompt{\n",
        "        display: None;\n",
        "    }*/\n",
        "    .text_cell_render h5 {\n",
        "        font-weight: 300;\n",
        "        font-size: 16pt;\n",
        "        color: #4057A1;\n",
        "        font-style: italic;\n",
        "        margin-bottom: .5em;\n",
        "        margin-top: 0.5em;\n",
        "        display: block;\n",
        "    }\n",
        "    \n",
        "    .warning{\n",
        "        color: rgb( 240, 20, 20 )\n",
        "        }  \n",
        "</style>\n",
        "<script>\n",
        "    MathJax.Hub.Config({\n",
        "                        TeX: {\n",
        "                           extensions: [\"AMSmath.js\"]\n",
        "                           },\n",
        "                tex2jax: {\n",
        "                    inlineMath: [ ['$','$'], [\"\\\\(\",\"\\\\)\"] ],\n",
        "                    displayMath: [ ['$$','$$'], [\"\\\\[\",\"\\\\]\"] ]\n",
        "                },\n",
        "                displayAlign: 'center', // Change this to 'center' to center equations.\n",
        "                \"HTML-CSS\": {\n",
        "                    styles: {'.MathJax_Display': {\"margin\": 4}}\n",
        "                }\n",
        "        });\n",
        "</script>"
       ],
       "metadata": {},
       "output_type": "pyout",
       "prompt_number": 398,
       "text": [
        "<IPython.core.display.HTML at 0x844cc50>"
       ]
      }
     ],
     "prompt_number": 398
    }
   ],
   "metadata": {}
  }
 ]
}