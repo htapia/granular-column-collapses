{
 "metadata": {
  "name": ""
 },
 "nbformat": 3,
 "nbformat_minor": 0,
 "worksheets": [
  {
   "cells": [
    {
     "cell_type": "code",
     "collapsed": false,
     "input": [
      "%%file latex_nocode.tplx\n",
      "((*- extends 'latex_article.tplx' -*))\n",
      "% Disable input cells\n",
      "((* block input_group *))\n",
      "((* endblock input_group *))\n",
      "\n",
      "((* block output_group *))\n",
      "   % Add remainer of the document contents below.\n",
      "   ((* for output in cell.outputs *))\n",
      "        ((( render_output(output) )))\n",
      "   ((* endfor *))\n",
      "((* endblock *))\n"
     ],
     "language": "python",
     "metadata": {},
     "outputs": [
      {
       "output_type": "stream",
       "stream": "stdout",
       "text": [
        "Overwriting latex_nocode.tplx\n"
       ]
      }
     ],
     "prompt_number": 8
    },
    {
     "cell_type": "code",
     "collapsed": false,
     "input": [
      "!ipython nbconvert --to=latex --template=latex_nocode.tplx --post=pdf Fixed-a-and-mu.ipynb"
     ],
     "language": "python",
     "metadata": {},
     "outputs": [
      {
       "output_type": "stream",
       "stream": "stdout",
       "text": [
        "[NbConvertApp] Using existing profile dir: u'/home/htapia/.config/ipython/profile_default'\r\n",
        "[NbConvertApp] Converting notebook Fixed-a-and-mu.ipynb to latex\r\n",
        "[NbConvertApp] Support files will be in Fixed-a-and-mu_files/\r\n",
        "[NbConvertApp] Loaded template latex_nocode.tplx\r\n"
       ]
      },
      {
       "output_type": "stream",
       "stream": "stdout",
       "text": [
        "[NbConvertApp] Writing 22701 bytes to Fixed-a-and-mu.tex\r\n",
        "[NbConvertApp] Building PDF: ['pdflatex', 'Fixed-a-and-mu.tex']\r\n"
       ]
      }
     ],
     "prompt_number": 9
    },
    {
     "cell_type": "code",
     "collapsed": false,
     "input": [
      "\n",
      "\n"
     ],
     "language": "python",
     "metadata": {},
     "outputs": []
    }
   ],
   "metadata": {}
  }
 ]
}