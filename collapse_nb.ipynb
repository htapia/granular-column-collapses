{
 "metadata": {
  "name": ""
 },
 "nbformat": 3,
 "nbformat_minor": 0,
 "worksheets": [
  {
   "cells": [
    {
     "cell_type": "code",
     "collapsed": false,
     "input": [
      "import os, re, sys\n",
      "import numpy as np\n",
      "import pandas as pd\n",
      "import matplotlib.pyplot as plt\n",
      "import matplotlib.tri as tri\n",
      "\n",
      "# from lammps import lammps\n",
      "\n",
      "sys.path.append('/home/htapia/projects/liggghts/LPP/src/')\n",
      "from dump import dump\n",
      "\n",
      "wrk_dir = '/home/htapia/projects/liggghts/column2D/'\n",
      "log_str='log_run_liggghts_collapseColumn_DEM_'\n",
      "\n",
      "class collapse:\n",
      "    \n",
      "    def __init__(self, A, gi, mu, *list, **kwargs):\n",
      "        \"\"\"\n",
      "        \"\"\"\n",
      "        \n",
      "        self.A = A\n",
      "        self.gi = gi\n",
      "        self.g = 9.81*gi\n",
      "        self.mu = mu\n",
      "        \n",
      "        self.simDir = wrk_dir + 'A_%s_grav_%s_mu_%s/' %(A, gi, mu)\n",
      "        self.simLog = log_str + 'a%s_g_%s_mu_%s' %(A, gi, mu)\n",
      "        \n",
      "        self.preProcessFiles()\n",
      "        \n",
      "        \n",
      "        self.dumpFiles = map(dumpFile_l,self.collDumps)\n",
      "        self.VTKFiles = [cl.replace('collapse','vtk').replace('dump_','collapse') for cl in self.dumpFiles[:]]\n",
      "        self.proFiles = [cl.replace('collapse','csv').replace('dump_','collapse') for cl in self.dumpFiles[:]]\n",
      "        self.egyFiles = [cl.replace('.collapse','_egys.txt').replace('dump_','collapse') for cl in self.dumpFiles[:]]\n",
      "        \n",
      "        # initial state to get the a parameter of this column\n",
      "        self.initialState()\n",
      "#         self.h_infty_fit = []\n",
      "        self.h_max_prof = []        \n",
      "        self.r_max_prof = []\n",
      "        \n",
      "        if (self.checkIfProcessedVTKalready()):\n",
      "            print 'Files seem to exist in %s\\n' % self.simDir\n",
      "            \n",
      "            self.egyArrayFromFiles()\n",
      "            \n",
      "#             self.tau = np.array((lambda hm: self.time*np.sqrt(self.g/2*hm)))\n",
      "            self.aParamFunc = (lambda dm: dm[0]/dm[1])\n",
      "\n",
      "#             err_in_prof = 2.*self.rad.mean()\n",
      "            \n",
      "            # check if csv profiles are there and get h_max and r_max\n",
      "            if self.getProfile(0):\n",
      "                self.timeEvolDistances()\n",
      "            # if not create them\n",
      "            else:\n",
      "                profilesFromVTK(self.simDir, self.VTKFiles)\n",
      "                self.timeEvolDistances()\n",
      "            \n",
      "            print 'self.H0           : %f' % self.H0\n",
      "            print 'self.h_max_prof[0]: %f' % self.h_max_prof[0]            \n",
      "            print 'self.L0           : %f' % self.L0\n",
      "            print 'self.r_max_prof   : %f' % self.r_max_prof[0] \n",
      "            \n",
      "            print 'self.A            : %f (from input)' % self.A\n",
      "            print 'self.aParam       : %f, %f (from =H0/L0)' % (self.aParam, self.aParamFunc([self.H0,self.L0]))\n",
      "            \n",
      "            print 'self.aParamFunc   : %f (from h_max_prof[0]/L0 )' % self.aParamFunc([self.h_max_prof[0],self.L0])\n",
      "            print 'self.aParamFunc   : %f (from h_max_prof[0]/self.r_max_prof )' % self.aParamFunc([self.h_max_prof[0],self.r_max_prof[0]])\n",
      "            \n",
      "    def normalizeTime(self, h0):\n",
      "        \"\"\"\n",
      "        input is initial height;\n",
      "        returns tau, array of scaled time\n",
      "        \"\"\"\n",
      "        self.tau = np.array(self.time*np.sqrt(self.g/2*h0))\n",
      "    \n",
      "    def timeEvolDistances(self):\n",
      "        onlyT = len(self.time)\n",
      "        for s in range(onlyT):\n",
      "            self.getProfile(s)\n",
      "            self.h_max_prof.append(self.profile['Py'].max())                \n",
      "            self.r_max_prof.append(self.profile['Px'].max()) # - self.profile['Px'].min())\n",
      "            \n",
      "        self.h_max_prof = np.asarray(self.h_max_prof)\n",
      "        self.r_max_prof = np.asarray(self.r_max_prof)\n",
      "                       \n",
      "    def getProfile(self, step):\n",
      "        \"\"\"\n",
      "        Read csv created via paraview\n",
      "        needs pandas\n",
      "        \"\"\"\n",
      "        state = self.proFiles[step]\n",
      "        try:\n",
      "            shape = pd.read_csv(self.simDir+state,sep=',')\n",
      "            shape.columns = ['this', 'that', 'Px', 'Py', 'Pz']\n",
      "            shape = shape.drop(['this','that'], 1)\n",
      "            self.profile = shape\n",
      "            return True\n",
      "        except IOError as e:\n",
      "            print ' File %s seems to not exist\\nEnter will create profiles in csv format' % state\n",
      "            return False\n",
      "            \n",
      "#         while os.path.isfile(state):\n",
      "#             shape = pd.read_csv(self.simDir+state,sep=',')\n",
      "#             shape.columns = ['this', 'that', 'Px', 'Py', 'Pz']\n",
      "#             shape = shape.drop(['this','that'], 1)\n",
      "#             self.profile = shape\n",
      "#         else\u00d1\n",
      "        #         self.h_max\n",
      "    \n",
      "    def getHmaxFromFittingProfile(self,accur):\n",
      "        \"\"\"\n",
      "        Get the height of the deposit as an average of the position \n",
      "        of the top most grains.\n",
      "        \"\"\"\n",
      "        # use np arrays\n",
      "        profile = np.asarray(self.profile)\n",
      "        \n",
      "        up = np.where(self.profile['Py'].max()- self.profile['Py'] < accur*self.rad.mean())\n",
      "        # np.asarray(c.profile)[up]\n",
      "        ppx = np.asarray(self.profile)[up][:,0]\n",
      "        ppy = np.asarray(self.profile)[up][:,1]\n",
      "        # now fit a line to (ppx,ppy)\n",
      "        self.hfit = np.polyfit(ppx, ppy, 1)\n",
      "        \n",
      "#         self.Hmax = np.poly1d(self.hfit)\n",
      "#         xp = np.linspace(0, ppx.max(), 50)\n",
      "#         plot(self.profile['Px'],self.profile['Py'],'.')        \n",
      "#         plot(ppx,ppy,'ro')        \n",
      "#         plt.plot(xp, p(xp), '-')\n",
      "\n",
      "    def generateProfile(self):\n",
      "        \"\"\"\n",
      "        Generates the profile constructing the triangulation and boundary -        \n",
      "        \"\"\"\n",
      "                \n",
      "        x = self.XY[0,:]\n",
      "        y = self.XY[1,:]\n",
      "        triang = tri.Triangulation(x, y)\n",
      "        # http://matplotlib.1069221.n5.nabble.com/Boundary-edges-of-a-set-of-points-td27537.html\n",
      "        # Determine which triangulation edges are boundary edges; these\n",
      "        # correspond to edges that have no neighboring triangle.  Store them as\n",
      "        # pairs of (start,end) point indices.\n",
      "        # This is all calculated long-hand to demonstrate the logic.  It could\n",
      "        # be simplified by rewriting in a more pythonic way.\n",
      "        boundaries = []\n",
      "        for i in range(len(triang.triangles)):\n",
      "            for j in range(3):\n",
      "                if triang.neighbors[i,j] < 0:\n",
      "                    # Triangle edge (i,j) has no neighbor so is a boundary edge.\n",
      "                    boundaries.append((triang.triangles[i,j], triang.triangles[i,(j+1)%3]))\n",
      "        self.boundaries = np.asarray(boundaries)\n",
      "        self.triang = triang\n",
      "        \n",
      "    \n",
      "    def preProcessFiles(self):\n",
      "        \"\"\"\n",
      "        \"\"\"\n",
      "        \n",
      "        os.chdir(wrk_dir)\n",
      "        print '\\nStarting...'\n",
      "        ##  TODO: CHECK IF FILES ALREADY EXIST  and\n",
      "        ## IF SO THEN SKIP THIS AND\n",
      "        ## TELL USER SHE CAN CALL ANOTHER     \n",
      "        \n",
      "        [dt, dump_each, dump_every, \n",
      "         fill_completed, collapse_completed] = parseLosPasos(self.simLog)\n",
      "        \n",
      "        fillCompleted = fill_completed - 1\n",
      "        collapseCompleted = collapse_completed -1\n",
      "        \n",
      "        self.fillDumps = np.arange(dump_each, fillCompleted, dump_each, dtype=int)\n",
      "        self.collDumps = np.arange(fillCompleted,collapseCompleted, dump_every, dtype=int)\n",
      "        \n",
      "        \n",
      "        self.dt = dt\n",
      "        \n",
      "        self.time_array = self.dt*(self.collDumps-self.collDumps[0])\n",
      "        \n",
      "        self.collDumps[0] = self.fillDumps[-1]\n",
      "        \n",
      "    def initialState(self):\n",
      "        \"\"\"\n",
      "        \"\"\"\n",
      "        t0 = self.collDumps[0]\n",
      "        self.dumpFilet0 = self.simDir + 'dump_%s.collapse' % (t0)\n",
      "        \n",
      "        pos, vel, self.mass, self.rad = getStateFromDump(self.dumpFilet0)\n",
      "        x = pos[0]; y = pos[1]\n",
      "        \n",
      "        L0 = (x.max()+self.rad[x.argmax()]) - (x.min()-self.rad[x.argmin()])\n",
      "        H0 = (y.max()+self.rad[y.argmax()]) - (y.min()-self.rad[y.argmin()])\n",
      "        \n",
      "        self.XY = np.array([x,y])\n",
      "        \n",
      "        self.aParam = H0/L0\n",
      "        self.L0 = L0\n",
      "        self.H0 = H0      \n",
      "        \n",
      "#         print \"\\nThe initial aspect ratio for this column is: %f\" % self.aParam\n",
      "#         print \"The value of A from the log file is:         %f\" % self.A        \n",
      "        # Initial (mean) kinetic and potential energy of the column\n",
      "        \n",
      "        ke0 = self.getKinetic(self.mass, vel);  \n",
      "        pe0 = self.getPotential(self.mass, self.g, y)\n",
      "        \n",
      "        self.KE0 = ke0.mean()\n",
      "        print '\\nInitial mean Kinetic   Energy %f [J]: ' % self.KE0\n",
      "        self.PE0 = pe0.mean()\n",
      "        print 'Initial mean Potential Energy %f [J]: ' % self.PE0\n",
      "        \n",
      "        # profile of initial state\n",
      "#         self.getProfile(0)\n",
      "        \n",
      "    def getKinetic(self, m, v):\n",
      "        vx = v[0]; vy = v[1]\n",
      "        vel2 = np.multiply(vx,vy)\n",
      "        ke = 0.5*m*vel2.sum(axis=0)\n",
      "        return ke\n",
      "    \n",
      "    def getPotential(self, m, g, y):\n",
      "        pe = m*y*g\n",
      "        return pe\n",
      "    \n",
      "    def checkIfProcessedVTKalready(self):\n",
      "        \"\"\"\n",
      "        Just likely\n",
      "        \"\"\"\n",
      "        proF = self.simDir+self.proFiles[0]\n",
      "        egyF = self.simDir+self.VTKFiles[0]\n",
      "        vtkF = self.simDir+self.egyFiles[0]\n",
      "        try:\n",
      "            os.path.isfile(proF)\n",
      "            os.path.isfile(egyF)\n",
      "            os.path.isfile(vtkF)            \n",
      "            return True\n",
      "        except IOError:\n",
      "            print 'Seem like the data folder has not been processed.\\n Call the appropriate method to process'\n",
      "            return False\n",
      "            \n",
      "    def algo(self):\n",
      "        pass\n",
      "        \n",
      "    \n",
      "    def egyArrayFromFiles(self):\n",
      "        \"\"\"\n",
      "        This is only called if self.checkIfProcessedVTKalready() returns True\n",
      "        \"\"\"\n",
      "        ave_ke = []\n",
      "        ave_pe = []\n",
      "        for (count, fn) in enumerate(self.egyFiles):\n",
      "            egys = np.genfromtxt(self.simDir+fn, skip_header=3)\n",
      "            ke_ave = egys[:,0].mean()\n",
      "            pe_ave = egys[:,1].mean()\n",
      "            ave_ke = np.append(ave_ke, ke_ave)\n",
      "            ave_pe = np.append(ave_pe, pe_ave)\n",
      "            if (count > 1 and ke_ave < 2.0e-08): break\n",
      "        ave_pe = self.g*ave_pe\n",
      "        \n",
      "        self.KE = ave_ke/self.PE0\n",
      "        self.PE = ave_pe/self.PE0\n",
      "        \n",
      "        self.time = self.time_array[0:len(self.KE)]\n",
      "        \n",
      "        self.DE = 1 - self.KE - self.PE\n",
      "        self.DE[self.DE<0] = 0.0\n",
      "        \n",
      "    def plotEgys(self):\n",
      "        \"\"\"\n",
      "        Some docs for the egys\n",
      "        \"\"\"\n",
      "        fig = plt.figure()\n",
      "        axes = fig.add_axes([0.1, 0.1, 0.8, 0.8]) # left, bottom, width, height (range 0 to 1)\n",
      "        t = self.time\n",
      "        ke = self.KE\n",
      "        pe = self.PE\n",
      "        de = self.DE\n",
      "        \n",
      "        axes.plot(t, ke, 'b', t, pe, 'g', t, de, 'r')\n",
      "        \n",
      "        axes.set_xlabel('time')\n",
      "        axes.set_ylabel('Energies')\n",
      "        axes.set_title('Normalized energies, , a = %0.3f, g = %0.3f, mu = %0.3f' %(self.aParam, self.g, self.mu))\n",
      "        axes.set_ylim((-0.01,1.01))\n",
      "    \n",
      "# Functions that are external to the class are only used when the class is initialized\n",
      "\n",
      "dumpFile_l=(lambda x: 'dump_%s.collapse' %(x))\n",
      "\n",
      "def getStateFromDump(dfile):\n",
      "    d = dump(dfile)\n",
      "    state = d.time()[0]\n",
      "    x,y,vx,vy,rad,mass = d.vecs(state,\"x\",\"y\",\"vx\",\"vy\",\"radius\",\"mass\")\n",
      "    x = np.array(x); y = np.array(y)\n",
      "    vx = np.array(vx); vy = np.array(vy)\n",
      "    rad = np.array(rad); mass = np.array(mass)\n",
      "    pos = [x, y]; vel = [vx, vy]\n",
      "    return pos, vel, mass, rad\n",
      "   \n",
      "    \n",
      "def parseLosPasos(simLog):\n",
      "    \"\"\"    \n",
      "    %%bash -s \"$simulation_log\" --out dump_steps\n",
      "    echo $1\n",
      "    grep timestep $1\n",
      "    grep 'dump_each equal' $1\n",
      "    grep 'dmp every' $1\n",
      "    grep 'fill completed' $1\n",
      "    grep 'collapse completed' $1\n",
      "    \"\"\"\n",
      "    simulation_log = simLog\n",
      "    print simulation_log\n",
      "    \n",
      "    ds = []\n",
      "    grep = !grep timestep $simulation_log\n",
      "    conv = re.findall(\"\\d+.\\d+\", grep.s)\n",
      "    ds.append(conv)\n",
      "    \n",
      "    grep = !grep 'dump_each equal' $simulation_log\n",
      "    conv = re.findall(\"\\d+.\\d+\", grep.s)\n",
      "    ds.append(conv)\n",
      "    \n",
      "    grep = !grep 'dmp every' $simulation_log\n",
      "    conv = re.findall(\"\\d+.\\d+\", grep.s)\n",
      "    ds.append(conv)\n",
      "    \n",
      "    grep = !grep 'fill completed' $simulation_log\n",
      "    conv = re.findall(\"\\d+.\\d+\", grep.s)\n",
      "    ds.append(conv)\n",
      "    \n",
      "    grep = !grep 'collapse completed' $simulation_log\n",
      "    conv = re.findall(\"\\d+.\\d+\", grep.s)\n",
      "    ds.append(conv)\n",
      "    \n",
      "    return np.asarray(ds, dtype='float64').flatten()\n",
      "\n",
      "def preProcessFiles(A, gi ,mu):\n",
      "    os.chdir(wrk_dir)\n",
      "    print '\\nStarting...'\n",
      "    ##  TODO: CHECK IF FILES ALREADY EXIST IF SO THEN SKIP THIS AND\n",
      "    ## TELL USER SHE CAN CALL ANOTHER \n",
      "#     for gi in gis:\n",
      "#         for mu in [mus[0]]:\n",
      "    log_str='log_run_liggghts_collapseColumn_DEM_'\n",
      "    simLog = log_str + 'a%s_g_%s_mu_%s' %(A, gi, mu)\n",
      "    \n",
      "    [dt, dump_each, dump_every, \n",
      "     fill_completed, collapse_completed] = parseLosPasos(simLog)\n",
      "\n",
      "    fillCompleted = fill_completed - 1\n",
      "    collapseCompleted = collapse_completed -1\n",
      "    \n",
      "    fillDumps = np.arange(dump_each, fillCompleted, dump_each, dtype=int)\n",
      "    collDumps = np.arange(fillCompleted,collapseCompleted, dump_every, dtype=int)\n",
      "    \n",
      "    return dt, collDumps, fillDumps\n",
      "\n",
      "def profilesFromVTK(simDir, VTKFiles):\n",
      "    \n",
      "    os.chdir(simDir)\n",
      "    print 'Please wait while profiles are created from VTKs...'\n",
      "    for f in VTKFiles:\n",
      "        !pvpython ../shapeDeposit.py $f   \n",
      "    print 'Done creating profiles from VTKs'\n",
      "    os.chdir(wrk_dir)\n",
      "\n",
      "def plotDist(d):\n",
      "    h0 = d.H0\n",
      "    d.normalizeTime(h0)\n",
      "    tau = d.tau\n",
      "    runout = d.r_max_prof\n",
      "    hmax = d.h_max_prof\n",
      "    subplot(121)\n",
      "    plot(tau,runout/h0)\n",
      "    subplot(122)\n",
      "    plot(tau,hmax/h0)"
     ],
     "language": "python",
     "metadata": {},
     "outputs": [],
     "prompt_number": 3
    },
    {
     "cell_type": "code",
     "collapsed": false,
     "input": [
      "# ./run.sh 1.4 0.1 0.5 10000\n",
      "c=collapse(1.4,0.1,0.5)"
     ],
     "language": "python",
     "metadata": {},
     "outputs": [
      {
       "output_type": "stream",
       "stream": "stdout",
       "text": [
        "\n",
        "Starting...\n",
        "log_run_liggghts_collapseColumn_DEM_a1.4_g_0.1_mu_0.5\n"
       ]
      },
      {
       "output_type": "stream",
       "stream": "stdout",
       "text": [
        "reading dump file...\n",
        "270000"
       ]
      },
      {
       "output_type": "stream",
       "stream": "stdout",
       "text": [
        "\n",
        "1 snapshots selected out of 1\n",
        "assigned columns: id type x y z ix iy iz vx vy vz fx fy fz omegax omegay omegaz radius \n",
        "dump is already unscaled\n",
        "\n",
        "Initial mean Kinetic   Energy 0.000000 [J]: \n",
        "Initial mean Potential Energy 0.000012 [J]: \n",
        "Files seem to exist in /home/htapia/projects/liggghts/column2D/A_1.4_grav_0.1_mu_0.5/\n",
        "\n",
        "self.H0           : 0.424650"
       ]
      },
      {
       "output_type": "stream",
       "stream": "stdout",
       "text": [
        "\n",
        "self.h_max_prof[0]: 0.424510\n",
        "self.L0           : 0.275338\n",
        "self.r_max_prof   : 0.275300\n",
        "self.A            : 1.400000 (from input)\n",
        "self.aParam       : 1.542285, 1.542285 (from =H0/L0)\n",
        "self.aParamFunc   : 1.541777 (from h_max_prof[0]/L0 )\n",
        "self.aParamFunc   : 1.541991 (from h_max_prof[0]/self.r_max_prof )\n"
       ]
      }
     ],
     "prompt_number": 62
    },
    {
     "cell_type": "code",
     "collapsed": false,
     "input": [
      "c.normalizeTime(c.H0)"
     ],
     "language": "python",
     "metadata": {},
     "outputs": [],
     "prompt_number": 63
    },
    {
     "cell_type": "code",
     "collapsed": false,
     "input": [
      "subplot(121)\n",
      "plot(c.tau,c.r_max_prof/c.H0)\n",
      "subplot(122)\n",
      "plot(c.tau,c.h_max_prof/c.H0);"
     ],
     "language": "python",
     "metadata": {},
     "outputs": [
      {
       "metadata": {},
       "output_type": "display_data",
       "png": "[encoded data removed]",
       "text": [
        "<matplotlib.figure.Figure at 0x4b8d690>"
       ]
      }
     ],
     "prompt_number": 67
    },
    {
     "cell_type": "code",
     "collapsed": false,
     "input": [
      "gis = np.array([0.1, 0.2, 0.3, 0.4, 0.5, 1.0, 10.0])"
     ],
     "language": "python",
     "metadata": {},
     "outputs": [],
     "prompt_number": 4
    },
    {
     "cell_type": "code",
     "collapsed": false,
     "input": [
      "data = pd.Series([collapse(1.4,g,0.5) for g in gis], index=gis)\n",
      "data.name = 'A=1.4, mu=0.5'"
     ],
     "language": "python",
     "metadata": {},
     "outputs": [
      {
       "output_type": "stream",
       "stream": "stdout",
       "text": [
        "\n",
        "Starting...\n",
        "log_run_liggghts_collapseColumn_DEM_a1.4_g_0.1_mu_0.5\n"
       ]
      },
      {
       "output_type": "stream",
       "stream": "stdout",
       "text": [
        "reading dump file...\n",
        "270000"
       ]
      },
      {
       "output_type": "stream",
       "stream": "stdout",
       "text": [
        "\n",
        "1 snapshots selected out of 1\n",
        "assigned columns: id type x y z ix iy iz vx vy vz fx fy fz omegax omegay omegaz radius \n",
        "dump is already unscaled\n",
        "\n",
        "Initial mean Kinetic   Energy 0.000000 [J]: \n",
        "Initial mean Potential Energy 0.000012 [J]: \n",
        "Files seem to exist in /home/htapia/projects/liggghts/column2D/A_1.4_grav_0.1_mu_0.5/\n",
        "\n",
        "self.H0           : 0.424650"
       ]
      },
      {
       "output_type": "stream",
       "stream": "stdout",
       "text": [
        "\n",
        "self.h_max_prof[0]: 0.424510\n",
        "self.L0           : 0.275338\n",
        "self.r_max_prof   : 0.275300\n",
        "self.A            : 1.400000 (from input)\n",
        "self.aParam       : 1.542285, 1.542285 (from =H0/L0)\n",
        "self.aParamFunc   : 1.541777 (from h_max_prof[0]/L0 )\n",
        "self.aParamFunc   : 1.541991 (from h_max_prof[0]/self.r_max_prof )\n",
        "\n",
        "Starting...\n",
        "log_run_liggghts_collapseColumn_DEM_a1.4_g_0.2_mu_0.5\n"
       ]
      },
      {
       "output_type": "stream",
       "stream": "stdout",
       "text": [
        "reading dump file...\n",
        "390000"
       ]
      },
      {
       "output_type": "stream",
       "stream": "stdout",
       "text": [
        "\n",
        "1 snapshots selected out of 1\n",
        "assigned columns: id type x y z ix iy iz vx vy vz fx fy fz omegax omegay omegaz radius \n",
        "dump is already unscaled\n",
        "\n",
        "Initial mean Kinetic   Energy 0.000000 [J]: \n",
        "Initial mean Potential Energy 0.000023 [J]: \n",
        "Files seem to exist in /home/htapia/projects/liggghts/column2D/A_1.4_grav_0.2_mu_0.5/\n",
        "\n",
        " File collapse390000.csv seems to not exist\n",
        "Enter will create profiles in csv format"
       ]
      },
      {
       "output_type": "stream",
       "stream": "stdout",
       "text": [
        "\n",
        "Please wait while profiles are created from VTKs...\n"
       ]
      },
      {
       "output_type": "stream",
       "stream": "stdout",
       "text": [
        "Done creating profiles from VTKs\n",
        "self.H0           : 0.425262"
       ]
      },
      {
       "output_type": "stream",
       "stream": "stdout",
       "text": [
        "\n",
        "self.h_max_prof[0]: 0.425210\n",
        "self.L0           : 0.275364\n",
        "self.r_max_prof   : 0.275330\n",
        "self.A            : 1.400000 (from input)\n",
        "self.aParam       : 1.544366, 1.544366 (from =H0/L0)\n",
        "self.aParamFunc   : 1.544177 (from h_max_prof[0]/L0 )\n",
        "self.aParamFunc   : 1.544365 (from h_max_prof[0]/self.r_max_prof )\n",
        "\n",
        "Starting...\n",
        "log_run_liggghts_collapseColumn_DEM_a1.4_g_0.3_mu_0.5\n"
       ]
      },
      {
       "output_type": "stream",
       "stream": "stdout",
       "text": [
        "reading dump file...\n",
        "225000"
       ]
      },
      {
       "output_type": "stream",
       "stream": "stdout",
       "text": [
        "\n",
        "1 snapshots selected out of 1\n",
        "assigned columns: id type x y z ix iy iz vx vy vz fx fy fz omegax omegay omegaz radius \n",
        "dump is already unscaled\n",
        "\n",
        "Initial mean Kinetic   Energy -0.000000 [J]: \n",
        "Initial mean Potential Energy 0.000035 [J]: \n",
        "Files seem to exist in /home/htapia/projects/liggghts/column2D/A_1.4_grav_0.3_mu_0.5/\n",
        "\n",
        " File collapse225000.csv seems to not exist\n",
        "Enter will create profiles in csv format"
       ]
      },
      {
       "output_type": "stream",
       "stream": "stdout",
       "text": [
        "\n",
        "Please wait while profiles are created from VTKs...\n"
       ]
      },
      {
       "output_type": "stream",
       "stream": "stdout",
       "text": [
        "Done creating profiles from VTKs\n",
        "self.H0           : 0.423235"
       ]
      },
      {
       "output_type": "stream",
       "stream": "stdout",
       "text": [
        "\n",
        "self.h_max_prof[0]: 0.423170\n",
        "self.L0           : 0.275352\n",
        "self.r_max_prof   : 0.275350\n",
        "self.A            : 1.400000 (from input)\n",
        "self.aParam       : 1.537068, 1.537068 (from =H0/L0)\n",
        "self.aParamFunc   : 1.536831 (from h_max_prof[0]/L0 )\n",
        "self.aParamFunc   : 1.536844 (from h_max_prof[0]/self.r_max_prof )\n",
        "\n",
        "Starting...\n",
        "log_run_liggghts_collapseColumn_DEM_a1.4_g_0.4_mu_0.5\n"
       ]
      },
      {
       "output_type": "stream",
       "stream": "stdout",
       "text": [
        "reading dump file...\n",
        "165000"
       ]
      },
      {
       "output_type": "stream",
       "stream": "stdout",
       "text": [
        "\n",
        "1 snapshots selected out of 1\n",
        "assigned columns: id type x y z ix iy iz vx vy vz fx fy fz omegax omegay omegaz radius \n",
        "dump is already unscaled\n",
        "\n",
        "Initial mean Kinetic   Energy 0.000000 [J]: \n",
        "Initial mean Potential Energy 0.000046 [J]: \n",
        "Files seem to exist in /home/htapia/projects/liggghts/column2D/A_1.4_grav_0.4_mu_0.5/\n",
        "\n",
        " File collapse165000.csv seems to not exist\n",
        "Enter will create profiles in csv format"
       ]
      },
      {
       "output_type": "stream",
       "stream": "stdout",
       "text": [
        "\n",
        "Please wait while profiles are created from VTKs...\n"
       ]
      },
      {
       "output_type": "stream",
       "stream": "stdout",
       "text": [
        "Done creating profiles from VTKs\n",
        "self.H0           : 0.421642"
       ]
      },
      {
       "output_type": "stream",
       "stream": "stdout",
       "text": [
        "\n",
        "self.h_max_prof[0]: 0.421560\n",
        "self.L0           : 0.275393\n",
        "self.r_max_prof   : 0.275350\n",
        "self.A            : 1.400000 (from input)\n",
        "self.aParam       : 1.531058, 1.531058 (from =H0/L0)\n",
        "self.aParamFunc   : 1.530760 (from h_max_prof[0]/L0 )\n",
        "self.aParamFunc   : 1.530997 (from h_max_prof[0]/self.r_max_prof )\n",
        "\n",
        "Starting...\n",
        "log_run_liggghts_collapseColumn_DEM_a1.4_g_0.5_mu_0.5\n"
       ]
      },
      {
       "output_type": "stream",
       "stream": "stdout",
       "text": [
        "reading dump file...\n",
        "405000"
       ]
      },
      {
       "output_type": "stream",
       "stream": "stdout",
       "text": [
        "\n",
        "1 snapshots selected out of 1\n",
        "assigned columns: id type x y z ix iy iz vx vy vz fx fy fz omegax omegay omegaz radius \n",
        "dump is already unscaled\n",
        "\n",
        "Initial mean Kinetic   Energy -0.000000 [J]: \n",
        "Initial mean Potential Energy 0.000057 [J]: \n",
        "Files seem to exist in /home/htapia/projects/liggghts/column2D/A_1.4_grav_0.5_mu_0.5/\n",
        "\n",
        " File collapse405000.csv seems to not exist\n",
        "Enter will create profiles in csv format"
       ]
      },
      {
       "output_type": "stream",
       "stream": "stdout",
       "text": [
        "\n",
        "Please wait while profiles are created from VTKs...\n"
       ]
      },
      {
       "output_type": "stream",
       "stream": "stdout",
       "text": [
        "Done creating profiles from VTKs\n",
        "self.H0           : 0.419903"
       ]
      },
      {
       "output_type": "stream",
       "stream": "stdout",
       "text": [
        "\n",
        "self.h_max_prof[0]: 0.419810\n",
        "self.L0           : 0.275445\n",
        "self.r_max_prof   : 0.275380\n",
        "self.A            : 1.400000 (from input)\n",
        "self.aParam       : 1.524457, 1.524457 (from =H0/L0)\n",
        "self.aParamFunc   : 1.524118 (from h_max_prof[0]/L0 )\n",
        "self.aParamFunc   : 1.524475 (from h_max_prof[0]/self.r_max_prof )\n",
        "\n",
        "Starting...\n",
        "log_run_liggghts_collapseColumn_DEM_a1.4_g_1.0_mu_0.5\n"
       ]
      },
      {
       "output_type": "stream",
       "stream": "stdout",
       "text": [
        "reading dump file...\n",
        "405000"
       ]
      },
      {
       "output_type": "stream",
       "stream": "stdout",
       "text": [
        "\n",
        "1 snapshots selected out of 1\n",
        "assigned columns: id type x y z ix iy iz vx vy vz fx fy fz omegax omegay omegaz radius \n",
        "dump is already unscaled\n",
        "\n",
        "Initial mean Kinetic   Energy -0.000000 [J]: \n",
        "Initial mean Potential Energy 0.000113 [J]: \n",
        "Files seem to exist in /home/htapia/projects/liggghts/column2D/A_1.4_grav_1.0_mu_0.5/\n",
        "\n",
        " File collapse405000.csv seems to not exist\n",
        "Enter will create profiles in csv format"
       ]
      },
      {
       "output_type": "stream",
       "stream": "stdout",
       "text": [
        "\n",
        "Please wait while profiles are created from VTKs...\n"
       ]
      },
      {
       "output_type": "stream",
       "stream": "stdout",
       "text": [
        "Done creating profiles from VTKs\n",
        "self.H0           : 0.416064"
       ]
      },
      {
       "output_type": "stream",
       "stream": "stdout",
       "text": [
        "\n",
        "self.h_max_prof[0]: 0.415930\n",
        "self.L0           : 0.275499\n",
        "self.r_max_prof   : 0.275400\n",
        "self.A            : 1.400000 (from input)\n",
        "self.aParam       : 1.510221, 1.510221 (from =H0/L0)\n",
        "self.aParamFunc   : 1.509736 (from h_max_prof[0]/L0 )\n",
        "self.aParamFunc   : 1.510276 (from h_max_prof[0]/self.r_max_prof )\n",
        "\n",
        "Starting...\n",
        "log_run_liggghts_collapseColumn_DEM_a1.4_g_10.0_mu_0.5\n"
       ]
      },
      {
       "output_type": "stream",
       "stream": "stdout",
       "text": [
        "reading dump file...\n",
        "525000"
       ]
      },
      {
       "output_type": "stream",
       "stream": "stdout",
       "text": [
        "\n",
        "1 snapshots selected out of 1\n",
        "assigned columns: id type x y z ix iy iz vx vy vz fx fy fz omegax omegay omegaz radius \n",
        "dump is already unscaled\n",
        "\n",
        "Initial mean Kinetic   Energy 0.000000 [J]: \n",
        "Initial mean Potential Energy 0.001011 [J]: \n",
        "Files seem to exist in /home/htapia/projects/liggghts/column2D/A_1.4_grav_10.0_mu_0.5/\n",
        "\n",
        " File collapse525000.csv seems to not exist\n",
        "Enter will create profiles in csv format"
       ]
      },
      {
       "output_type": "stream",
       "stream": "stdout",
       "text": [
        "\n",
        "Please wait while profiles are created from VTKs...\n"
       ]
      },
      {
       "output_type": "stream",
       "stream": "stdout",
       "text": [
        "Done creating profiles from VTKs\n",
        "self.H0           : 0.381150"
       ]
      },
      {
       "output_type": "stream",
       "stream": "stdout",
       "text": [
        "\n",
        "self.h_max_prof[0]: 0.380590\n",
        "self.L0           : 0.276139\n",
        "self.r_max_prof   : 0.275750\n",
        "self.A            : 1.400000 (from input)\n",
        "self.aParam       : 1.380286, 1.380286 (from =H0/L0)\n",
        "self.aParamFunc   : 1.378257 (from h_max_prof[0]/L0 )\n",
        "self.aParamFunc   : 1.380199 (from h_max_prof[0]/self.r_max_prof )\n"
       ]
      }
     ],
     "prompt_number": 5
    },
    {
     "cell_type": "code",
     "collapsed": false,
     "input": [
      "for dd in data: plotDist(dd)"
     ],
     "language": "python",
     "metadata": {},
     "outputs": [
      {
       "metadata": {},
       "output_type": "display_data",
       "png": "[encoded data removed]",
       "text": [
        "<matplotlib.figure.Figure at 0x3a63890>"
       ]
      }
     ],
     "prompt_number": 60
    },
    {
     "cell_type": "code",
     "collapsed": false,
     "input": [
      "df = pd.DataFrame(data)"
     ],
     "language": "python",
     "metadata": {},
     "outputs": [],
     "prompt_number": 50
    },
    {
     "cell_type": "code",
     "collapsed": false,
     "input": [
      "# http://pandas.pydata.org/pandas-docs/stable/io.htmlio-pickle\n",
      "data.to_pickle('A=1.4, mu=0.5.pkl')\n",
      "pd.read_pickle('A=1.4, mu=0.5.pkl')"
     ],
     "language": "python",
     "metadata": {},
     "outputs": [
      {
       "ename": "PicklingError",
       "evalue": "Can't pickle <type 'function'>: attribute lookup __builtin__.function failed",
       "output_type": "pyerr",
       "traceback": [
        "\u001b[1;31m---------------------------------------------------------------------------\u001b[0m\n\u001b[1;31mPicklingError\u001b[0m                             Traceback (most recent call last)",
        "\u001b[1;32m<ipython-input-61-8a16cf563392>\u001b[0m in \u001b[0;36m<module>\u001b[1;34m()\u001b[0m\n\u001b[1;32m----> 1\u001b[1;33m \u001b[0mdata\u001b[0m\u001b[1;33m.\u001b[0m\u001b[0mto_pickle\u001b[0m\u001b[1;33m(\u001b[0m\u001b[1;34m'A=1.4, mu=0.5.pkl'\u001b[0m\u001b[1;33m)\u001b[0m\u001b[1;33m\u001b[0m\u001b[0m\n\u001b[0m",
        "\u001b[1;32m/home/htapia/anaconda/lib/python2.7/site-packages/pandas/core/generic.pyc\u001b[0m in \u001b[0;36mto_pickle\u001b[1;34m(self, path)\u001b[0m\n\u001b[0;32m     36\u001b[0m         \"\"\"\n\u001b[0;32m     37\u001b[0m         \u001b[1;32mfrom\u001b[0m \u001b[0mpandas\u001b[0m\u001b[1;33m.\u001b[0m\u001b[0mio\u001b[0m\u001b[1;33m.\u001b[0m\u001b[0mpickle\u001b[0m \u001b[1;32mimport\u001b[0m \u001b[0mto_pickle\u001b[0m\u001b[1;33m\u001b[0m\u001b[0m\n\u001b[1;32m---> 38\u001b[1;33m         \u001b[1;32mreturn\u001b[0m \u001b[0mto_pickle\u001b[0m\u001b[1;33m(\u001b[0m\u001b[0mself\u001b[0m\u001b[1;33m,\u001b[0m \u001b[0mpath\u001b[0m\u001b[1;33m)\u001b[0m\u001b[1;33m\u001b[0m\u001b[0m\n\u001b[0m\u001b[0;32m     39\u001b[0m \u001b[1;33m\u001b[0m\u001b[0m\n\u001b[0;32m     40\u001b[0m     \u001b[1;32mdef\u001b[0m \u001b[0msave\u001b[0m\u001b[1;33m(\u001b[0m\u001b[0mself\u001b[0m\u001b[1;33m,\u001b[0m \u001b[0mpath\u001b[0m\u001b[1;33m)\u001b[0m\u001b[1;33m:\u001b[0m  \u001b[1;31m# TODO remove in 0.13\u001b[0m\u001b[1;33m\u001b[0m\u001b[0m\n",
        "\u001b[1;32m/home/htapia/anaconda/lib/python2.7/site-packages/pandas/io/pickle.pyc\u001b[0m in \u001b[0;36mto_pickle\u001b[1;34m(obj, path)\u001b[0m\n\u001b[0;32m     13\u001b[0m     \"\"\"\n\u001b[0;32m     14\u001b[0m     \u001b[1;32mwith\u001b[0m \u001b[0mopen\u001b[0m\u001b[1;33m(\u001b[0m\u001b[0mpath\u001b[0m\u001b[1;33m,\u001b[0m \u001b[1;34m'wb'\u001b[0m\u001b[1;33m)\u001b[0m \u001b[1;32mas\u001b[0m \u001b[0mf\u001b[0m\u001b[1;33m:\u001b[0m\u001b[1;33m\u001b[0m\u001b[0m\n\u001b[1;32m---> 15\u001b[1;33m         \u001b[0mpkl\u001b[0m\u001b[1;33m.\u001b[0m\u001b[0mdump\u001b[0m\u001b[1;33m(\u001b[0m\u001b[0mobj\u001b[0m\u001b[1;33m,\u001b[0m \u001b[0mf\u001b[0m\u001b[1;33m,\u001b[0m \u001b[0mprotocol\u001b[0m\u001b[1;33m=\u001b[0m\u001b[0mpkl\u001b[0m\u001b[1;33m.\u001b[0m\u001b[0mHIGHEST_PROTOCOL\u001b[0m\u001b[1;33m)\u001b[0m\u001b[1;33m\u001b[0m\u001b[0m\n\u001b[0m\u001b[0;32m     16\u001b[0m \u001b[1;33m\u001b[0m\u001b[0m\n\u001b[0;32m     17\u001b[0m \u001b[1;33m\u001b[0m\u001b[0m\n",
        "\u001b[1;31mPicklingError\u001b[0m: Can't pickle <type 'function'>: attribute lookup __builtin__.function failed"
       ]
      }
     ],
     "prompt_number": 61
    }
   ],
   "metadata": {}
  }
 ]
}