{
 "metadata": {
  "name": ""
 },
 "nbformat": 3,
 "nbformat_minor": 0,
 "worksheets": [
  {
   "cells": [
    {
     "cell_type": "markdown",
     "metadata": {},
     "source": [
      "This notebook comprises the Python calls to run a column collapse using sphere package"
     ]
    },
    {
     "cell_type": "markdown",
     "metadata": {},
     "source": [
      "Change to the sphere directory"
     ]
    },
    {
     "cell_type": "code",
     "collapsed": false,
     "input": [
      "cd '/home/htapia/projects/sphere/python'"
     ],
     "language": "python",
     "metadata": {},
     "outputs": [
      {
       "output_type": "stream",
       "stream": "stdout",
       "text": [
        "/home/htapia/projects/sphere/python\n"
       ]
      }
     ],
     "prompt_number": 3
    },
    {
     "cell_type": "code",
     "collapsed": false,
     "input": [
      "from sphere import *"
     ],
     "language": "python",
     "metadata": {},
     "outputs": [
      {
       "output_type": "stream",
       "stream": "stderr",
       "text": [
        "/home/htapia/anaconda/lib/python2.7/site-packages/matplotlib/__init__.py:921: UserWarning:  This call to matplotlib.use() has no effect\n",
        "because the the backend has already been chosen;\n",
        "matplotlib.use() must be called *before* pylab, matplotlib.pyplot,\n",
        "or matplotlib.backends is imported for the first time.\n",
        "\n",
        "  if warn: warnings.warn(_use_error_msg)\n"
       ]
      }
     ],
     "prompt_number": 4
    },
    {
     "cell_type": "code",
     "collapsed": false,
     "input": [
      "# Set the number of particles\n",
      "np = 1e3\n",
      "# Simulation id\n",
      "sim_id = \"collapse\"\n",
      "# Deviatoric stress [Pa]\n",
      "devslist = [0]\n",
      "\n",
      "# initialize simulation\n",
      "init = Spherebin(np = np, nd = 3, nw = 0, sid = sim_id + \"-init\")\n",
      "\n",
      "# Generate and save particle radii\n",
      "init.generateRadii(radius_mean = 0.1)\n",
      "\n",
      "# Initialize default parameters, these should be set equal to laboratory samples.\n",
      "# Use default params\n",
      "init.defaultParams(k_n = 1.0e6, k_t = 1.0e6, gamma_n = 100.0, gamma_t = 100.0, mu_s = 0.3, mu_d = 0.3, nu = 8.9e-4)\n",
      "\n",
      "# Initialize positions in random grid (also sets world size)\n",
      "hcells = np**(1.0/3.0)\n",
      "\n",
      "# contact model \n",
      "init.initRandomGridPos(gridnum = numpy.array([hcells, hcells, 1e3]),\n",
      "                       periodic = 0, contactmodel = 1)\n",
      "\n",
      "# Set duration of simulation, automatically determine timestep, etc.\n",
      "init.initTemporal(total = 10.0, file_dt = 0.10)\n",
      "# set values for fluid density\n",
      "# init.f_rho[2,2,4] = 1.1"
     ],
     "language": "python",
     "metadata": {},
     "outputs": [
      {
       "metadata": {},
       "output_type": "display_data",
       "text": [
        "<matplotlib.figure.Figure at 0x3a683d0>"
       ]
      }
     ],
     "prompt_number": 20
    },
    {
     "cell_type": "code",
     "collapsed": false,
     "input": [
      "# Write input file for sphere\n",
      "init.writebin()"
     ],
     "language": "python",
     "metadata": {},
     "outputs": [
      {
       "output_type": "stream",
       "stream": "stdout",
       "text": [
        "Output file: ../input//collapse-init.bin\n"
       ]
      }
     ],
     "prompt_number": 21
    },
    {
     "cell_type": "code",
     "collapsed": false,
     "input": [
      "init.run(darcyflow=True)\n",
      "init.writeVTKall()"
     ],
     "language": "python",
     "metadata": {},
     "outputs": [
      {
       "output_type": "stream",
       "stream": "stdout",
       "text": [
        "Output file: ../output//collapse-init.00000.vtu\n",
        "Output file: ../output//fluid-collapse-init.00000.vti"
       ]
      },
      {
       "output_type": "stream",
       "stream": "stdout",
       "text": [
        "\n",
        "Output file: ../output//collapse-init.00001.vtu\n",
        "Output file: ../output//fluid-collapse-init.00001.vti"
       ]
      },
      {
       "output_type": "stream",
       "stream": "stdout",
       "text": [
        "\n",
        "Output file: ../output//collapse-init.00002.vtu\n",
        "Output file: ../output//fluid-collapse-init.00002.vti"
       ]
      },
      {
       "output_type": "stream",
       "stream": "stdout",
       "text": [
        "\n",
        "Output file: ../output//collapse-init.00003.vtu\n",
        "Output file: ../output//fluid-collapse-init.00003.vti"
       ]
      },
      {
       "output_type": "stream",
       "stream": "stdout",
       "text": [
        "\n",
        "Output file: ../output//collapse-init.00004.vtu\n",
        "Output file: ../output//fluid-collapse-init.00004.vti"
       ]
      },
      {
       "output_type": "stream",
       "stream": "stdout",
       "text": [
        "\n",
        "Output file: ../output//collapse-init.00005.vtu\n",
        "Output file: ../output//fluid-collapse-init.00005.vti"
       ]
      },
      {
       "output_type": "stream",
       "stream": "stdout",
       "text": [
        "\n",
        "Output file: ../output//collapse-init.00006.vtu\n",
        "Output file: ../output//fluid-collapse-init.00006.vti"
       ]
      },
      {
       "output_type": "stream",
       "stream": "stdout",
       "text": [
        "\n",
        "Output file: ../output//collapse-init.00007.vtu\n",
        "Output file: ../output//fluid-collapse-init.00007.vti"
       ]
      },
      {
       "output_type": "stream",
       "stream": "stdout",
       "text": [
        "\n",
        "Output file: ../output//collapse-init.00008.vtu\n",
        "Output file: ../output//fluid-collapse-init.00008.vti"
       ]
      },
      {
       "output_type": "stream",
       "stream": "stdout",
       "text": [
        "\n",
        "Output file: ../output//collapse-init.00009.vtu\n",
        "Output file: ../output//fluid-collapse-init.00009.vti"
       ]
      },
      {
       "output_type": "stream",
       "stream": "stdout",
       "text": [
        "\n",
        "Output file: ../output//collapse-init.00010.vtu\n",
        "Output file: ../output//fluid-collapse-init.00010.vti"
       ]
      },
      {
       "output_type": "stream",
       "stream": "stdout",
       "text": [
        "\n",
        "Output file: ../output//collapse-init.00011.vtu\n",
        "Output file: ../output//fluid-collapse-init.00011.vti"
       ]
      },
      {
       "output_type": "stream",
       "stream": "stdout",
       "text": [
        "\n",
        "Output file: ../output//collapse-init.00012.vtu\n",
        "Output file: ../output//fluid-collapse-init.00012.vti"
       ]
      },
      {
       "output_type": "stream",
       "stream": "stdout",
       "text": [
        "\n",
        "Output file: ../output//collapse-init.00013.vtu\n",
        "Output file: ../output//fluid-collapse-init.00013.vti"
       ]
      },
      {
       "output_type": "stream",
       "stream": "stdout",
       "text": [
        "\n",
        "Output file: ../output//collapse-init.00014.vtu\n",
        "Output file: ../output//fluid-collapse-init.00014.vti"
       ]
      },
      {
       "output_type": "stream",
       "stream": "stdout",
       "text": [
        "\n",
        "Output file: ../output//collapse-init.00015.vtu\n",
        "Output file: ../output//fluid-collapse-init.00015.vti"
       ]
      },
      {
       "output_type": "stream",
       "stream": "stdout",
       "text": [
        "\n",
        "Output file: ../output//collapse-init.00016.vtu\n",
        "Output file: ../output//fluid-collapse-init.00016.vti"
       ]
      },
      {
       "output_type": "stream",
       "stream": "stdout",
       "text": [
        "\n",
        "Output file: ../output//collapse-init.00017.vtu\n",
        "Output file: ../output//fluid-collapse-init.00017.vti"
       ]
      },
      {
       "output_type": "stream",
       "stream": "stdout",
       "text": [
        "\n",
        "Output file: ../output//collapse-init.00018.vtu\n",
        "Output file: ../output//fluid-collapse-init.00018.vti"
       ]
      },
      {
       "output_type": "stream",
       "stream": "stdout",
       "text": [
        "\n",
        "Output file: ../output//collapse-init.00019.vtu\n",
        "Output file: ../output//fluid-collapse-init.00019.vti"
       ]
      },
      {
       "output_type": "stream",
       "stream": "stdout",
       "text": [
        "\n",
        "Output file: ../output//collapse-init.00020.vtu\n",
        "Output file: ../output//fluid-collapse-init.00020.vti"
       ]
      },
      {
       "output_type": "stream",
       "stream": "stdout",
       "text": [
        "\n",
        "Output file: ../output//collapse-init.00021.vtu\n",
        "Output file: ../output//fluid-collapse-init.00021.vti"
       ]
      },
      {
       "output_type": "stream",
       "stream": "stdout",
       "text": [
        "\n",
        "Output file: ../output//collapse-init.00022.vtu\n",
        "Output file: ../output//fluid-collapse-init.00022.vti"
       ]
      },
      {
       "output_type": "stream",
       "stream": "stdout",
       "text": [
        "\n",
        "Output file: ../output//collapse-init.00023.vtu\n",
        "Output file: ../output//fluid-collapse-init.00023.vti"
       ]
      },
      {
       "output_type": "stream",
       "stream": "stdout",
       "text": [
        "\n",
        "Output file: ../output//collapse-init.00024.vtu\n",
        "Output file: ../output//fluid-collapse-init.00024.vti"
       ]
      },
      {
       "output_type": "stream",
       "stream": "stdout",
       "text": [
        "\n",
        "Output file: ../output//collapse-init.00025.vtu\n",
        "Output file: ../output//fluid-collapse-init.00025.vti"
       ]
      },
      {
       "output_type": "stream",
       "stream": "stdout",
       "text": [
        "\n",
        "Output file: ../output//collapse-init.00026.vtu\n",
        "Output file: ../output//fluid-collapse-init.00026.vti"
       ]
      },
      {
       "output_type": "stream",
       "stream": "stdout",
       "text": [
        "\n",
        "Output file: ../output//collapse-init.00027.vtu\n",
        "Output file: ../output//fluid-collapse-init.00027.vti"
       ]
      },
      {
       "output_type": "stream",
       "stream": "stdout",
       "text": [
        "\n",
        "Output file: ../output//collapse-init.00028.vtu\n",
        "Output file: ../output//fluid-collapse-init.00028.vti"
       ]
      },
      {
       "output_type": "stream",
       "stream": "stdout",
       "text": [
        "\n",
        "Output file: ../output//collapse-init.00029.vtu\n",
        "Output file: ../output//fluid-collapse-init.00029.vti"
       ]
      },
      {
       "output_type": "stream",
       "stream": "stdout",
       "text": [
        "\n",
        "Output file: ../output//collapse-init.00030.vtu\n",
        "Output file: ../output//fluid-collapse-init.00030.vti"
       ]
      },
      {
       "output_type": "stream",
       "stream": "stdout",
       "text": [
        "\n",
        "Output file: ../output//collapse-init.00031.vtu\n",
        "Output file: ../output//fluid-collapse-init.00031.vti"
       ]
      },
      {
       "output_type": "stream",
       "stream": "stdout",
       "text": [
        "\n",
        "Output file: ../output//collapse-init.00032.vtu\n",
        "Output file: ../output//fluid-collapse-init.00032.vti"
       ]
      },
      {
       "output_type": "stream",
       "stream": "stdout",
       "text": [
        "\n",
        "Output file: ../output//collapse-init.00033.vtu\n",
        "Output file: ../output//fluid-collapse-init.00033.vti"
       ]
      },
      {
       "output_type": "stream",
       "stream": "stdout",
       "text": [
        "\n",
        "Output file: ../output//collapse-init.00034.vtu\n",
        "Output file: ../output//fluid-collapse-init.00034.vti"
       ]
      },
      {
       "output_type": "stream",
       "stream": "stdout",
       "text": [
        "\n",
        "Output file: ../output//collapse-init.00035.vtu\n",
        "Output file: ../output//fluid-collapse-init.00035.vti"
       ]
      },
      {
       "output_type": "stream",
       "stream": "stdout",
       "text": [
        "\n",
        "Output file: ../output//collapse-init.00036.vtu\n",
        "Output file: ../output//fluid-collapse-init.00036.vti"
       ]
      },
      {
       "output_type": "stream",
       "stream": "stdout",
       "text": [
        "\n",
        "Output file: ../output//collapse-init.00037.vtu\n",
        "Output file: ../output//fluid-collapse-init.00037.vti"
       ]
      },
      {
       "output_type": "stream",
       "stream": "stdout",
       "text": [
        "\n",
        "Output file: ../output//collapse-init.00038.vtu\n",
        "Output file: ../output//fluid-collapse-init.00038.vti"
       ]
      },
      {
       "output_type": "stream",
       "stream": "stdout",
       "text": [
        "\n",
        "Output file: ../output//collapse-init.00039.vtu\n",
        "Output file: ../output//fluid-collapse-init.00039.vti"
       ]
      },
      {
       "output_type": "stream",
       "stream": "stdout",
       "text": [
        "\n",
        "Output file: ../output//collapse-init.00040.vtu\n",
        "Output file: ../output//fluid-collapse-init.00040.vti"
       ]
      },
      {
       "output_type": "stream",
       "stream": "stdout",
       "text": [
        "\n",
        "Output file: ../output//collapse-init.00041.vtu\n",
        "Output file: ../output//fluid-collapse-init.00041.vti"
       ]
      },
      {
       "output_type": "stream",
       "stream": "stdout",
       "text": [
        "\n",
        "Output file: ../output//collapse-init.00042.vtu\n",
        "Output file: ../output//fluid-collapse-init.00042.vti"
       ]
      },
      {
       "output_type": "stream",
       "stream": "stdout",
       "text": [
        "\n",
        "Output file: ../output//collapse-init.00043.vtu\n",
        "Output file: ../output//fluid-collapse-init.00043.vti"
       ]
      },
      {
       "output_type": "stream",
       "stream": "stdout",
       "text": [
        "\n",
        "Output file: ../output//collapse-init.00044.vtu\n",
        "Output file: ../output//fluid-collapse-init.00044.vti"
       ]
      },
      {
       "output_type": "stream",
       "stream": "stdout",
       "text": [
        "\n",
        "Output file: ../output//collapse-init.00045.vtu\n",
        "Output file: ../output//fluid-collapse-init.00045.vti"
       ]
      },
      {
       "output_type": "stream",
       "stream": "stdout",
       "text": [
        "\n",
        "Output file: ../output//collapse-init.00046.vtu\n",
        "Output file: ../output//fluid-collapse-init.00046.vti"
       ]
      },
      {
       "output_type": "stream",
       "stream": "stdout",
       "text": [
        "\n",
        "Output file: ../output//collapse-init.00047.vtu\n",
        "Output file: ../output//fluid-collapse-init.00047.vti"
       ]
      },
      {
       "output_type": "stream",
       "stream": "stdout",
       "text": [
        "\n",
        "Output file: ../output//collapse-init.00048.vtu\n",
        "Output file: ../output//fluid-collapse-init.00048.vti"
       ]
      },
      {
       "output_type": "stream",
       "stream": "stdout",
       "text": [
        "\n",
        "Output file: ../output//collapse-init.00049.vtu\n",
        "Output file: ../output//fluid-collapse-init.00049.vti"
       ]
      },
      {
       "output_type": "stream",
       "stream": "stdout",
       "text": [
        "\n",
        "Output file: ../output//collapse-init.00050.vtu\n",
        "Output file: ../output//fluid-collapse-init.00050.vti"
       ]
      },
      {
       "output_type": "stream",
       "stream": "stdout",
       "text": [
        "\n",
        "Output file: ../output//collapse-init.00051.vtu\n",
        "Output file: ../output//fluid-collapse-init.00051.vti"
       ]
      },
      {
       "output_type": "stream",
       "stream": "stdout",
       "text": [
        "\n",
        "Output file: ../output//collapse-init.00052.vtu\n",
        "Output file: ../output//fluid-collapse-init.00052.vti"
       ]
      },
      {
       "output_type": "stream",
       "stream": "stdout",
       "text": [
        "\n",
        "Output file: ../output//collapse-init.00053.vtu\n",
        "Output file: ../output//fluid-collapse-init.00053.vti"
       ]
      },
      {
       "output_type": "stream",
       "stream": "stdout",
       "text": [
        "\n",
        "Output file: ../output//collapse-init.00054.vtu\n",
        "Output file: ../output//fluid-collapse-init.00054.vti"
       ]
      },
      {
       "output_type": "stream",
       "stream": "stdout",
       "text": [
        "\n",
        "Output file: ../output//collapse-init.00055.vtu\n",
        "Output file: ../output//fluid-collapse-init.00055.vti"
       ]
      },
      {
       "output_type": "stream",
       "stream": "stdout",
       "text": [
        "\n",
        "Output file: ../output//collapse-init.00056.vtu\n",
        "Output file: ../output//fluid-collapse-init.00056.vti"
       ]
      },
      {
       "output_type": "stream",
       "stream": "stdout",
       "text": [
        "\n",
        "Output file: ../output//collapse-init.00057.vtu\n",
        "Output file: ../output//fluid-collapse-init.00057.vti"
       ]
      },
      {
       "output_type": "stream",
       "stream": "stdout",
       "text": [
        "\n",
        "Output file: ../output//collapse-init.00058.vtu\n",
        "Output file: ../output//fluid-collapse-init.00058.vti"
       ]
      },
      {
       "output_type": "stream",
       "stream": "stdout",
       "text": [
        "\n",
        "Output file: ../output//collapse-init.00059.vtu\n",
        "Output file: ../output//fluid-collapse-init.00059.vti"
       ]
      },
      {
       "output_type": "stream",
       "stream": "stdout",
       "text": [
        "\n",
        "Output file: ../output//collapse-init.00060.vtu\n",
        "Output file: ../output//fluid-collapse-init.00060.vti"
       ]
      },
      {
       "output_type": "stream",
       "stream": "stdout",
       "text": [
        "\n",
        "Output file: ../output//collapse-init.00061.vtu\n",
        "Output file: ../output//fluid-collapse-init.00061.vti"
       ]
      },
      {
       "output_type": "stream",
       "stream": "stdout",
       "text": [
        "\n",
        "Output file: ../output//collapse-init.00062.vtu\n",
        "Output file: ../output//fluid-collapse-init.00062.vti"
       ]
      },
      {
       "output_type": "stream",
       "stream": "stdout",
       "text": [
        "\n",
        "Output file: ../output//collapse-init.00063.vtu\n",
        "Output file: ../output//fluid-collapse-init.00063.vti"
       ]
      },
      {
       "output_type": "stream",
       "stream": "stdout",
       "text": [
        "\n",
        "Output file: ../output//collapse-init.00064.vtu\n",
        "Output file: ../output//fluid-collapse-init.00064.vti"
       ]
      },
      {
       "output_type": "stream",
       "stream": "stdout",
       "text": [
        "\n",
        "Output file: ../output//collapse-init.00065.vtu\n",
        "Output file: ../output//fluid-collapse-init.00065.vti"
       ]
      },
      {
       "output_type": "stream",
       "stream": "stdout",
       "text": [
        "\n",
        "Output file: ../output//collapse-init.00066.vtu\n",
        "Output file: ../output//fluid-collapse-init.00066.vti"
       ]
      },
      {
       "output_type": "stream",
       "stream": "stdout",
       "text": [
        "\n",
        "Output file: ../output//collapse-init.00067.vtu\n",
        "Output file: ../output//fluid-collapse-init.00067.vti"
       ]
      },
      {
       "output_type": "stream",
       "stream": "stdout",
       "text": [
        "\n",
        "Output file: ../output//collapse-init.00068.vtu\n",
        "Output file: ../output//fluid-collapse-init.00068.vti"
       ]
      },
      {
       "output_type": "stream",
       "stream": "stdout",
       "text": [
        "\n",
        "Output file: ../output//collapse-init.00069.vtu\n",
        "Output file: ../output//fluid-collapse-init.00069.vti"
       ]
      },
      {
       "output_type": "stream",
       "stream": "stdout",
       "text": [
        "\n",
        "Output file: ../output//collapse-init.00070.vtu\n",
        "Output file: ../output//fluid-collapse-init.00070.vti"
       ]
      },
      {
       "output_type": "stream",
       "stream": "stdout",
       "text": [
        "\n",
        "Output file: ../output//collapse-init.00071.vtu\n",
        "Output file: ../output//fluid-collapse-init.00071.vti"
       ]
      },
      {
       "output_type": "stream",
       "stream": "stdout",
       "text": [
        "\n",
        "Output file: ../output//collapse-init.00072.vtu\n",
        "Output file: ../output//fluid-collapse-init.00072.vti"
       ]
      },
      {
       "output_type": "stream",
       "stream": "stdout",
       "text": [
        "\n",
        "Output file: ../output//collapse-init.00073.vtu\n",
        "Output file: ../output//fluid-collapse-init.00073.vti"
       ]
      },
      {
       "output_type": "stream",
       "stream": "stdout",
       "text": [
        "\n",
        "Output file: ../output//collapse-init.00074.vtu\n",
        "Output file: ../output//fluid-collapse-init.00074.vti"
       ]
      },
      {
       "output_type": "stream",
       "stream": "stdout",
       "text": [
        "\n",
        "Output file: ../output//collapse-init.00075.vtu\n",
        "Output file: ../output//fluid-collapse-init.00075.vti"
       ]
      },
      {
       "output_type": "stream",
       "stream": "stdout",
       "text": [
        "\n",
        "Output file: ../output//collapse-init.00076.vtu\n",
        "Output file: ../output//fluid-collapse-init.00076.vti"
       ]
      },
      {
       "output_type": "stream",
       "stream": "stdout",
       "text": [
        "\n",
        "Output file: ../output//collapse-init.00077.vtu\n",
        "Output file: ../output//fluid-collapse-init.00077.vti"
       ]
      },
      {
       "output_type": "stream",
       "stream": "stdout",
       "text": [
        "\n",
        "Output file: ../output//collapse-init.00078.vtu\n",
        "Output file: ../output//fluid-collapse-init.00078.vti"
       ]
      },
      {
       "output_type": "stream",
       "stream": "stdout",
       "text": [
        "\n",
        "Output file: ../output//collapse-init.00079.vtu\n",
        "Output file: ../output//fluid-collapse-init.00079.vti"
       ]
      },
      {
       "output_type": "stream",
       "stream": "stdout",
       "text": [
        "\n",
        "Output file: ../output//collapse-init.00080.vtu\n",
        "Output file: ../output//fluid-collapse-init.00080.vti"
       ]
      },
      {
       "output_type": "stream",
       "stream": "stdout",
       "text": [
        "\n",
        "Output file: ../output//collapse-init.00081.vtu\n",
        "Output file: ../output//fluid-collapse-init.00081.vti"
       ]
      },
      {
       "output_type": "stream",
       "stream": "stdout",
       "text": [
        "\n",
        "Output file: ../output//collapse-init.00082.vtu\n",
        "Output file: ../output//fluid-collapse-init.00082.vti"
       ]
      },
      {
       "output_type": "stream",
       "stream": "stdout",
       "text": [
        "\n",
        "Output file: ../output//collapse-init.00083.vtu\n",
        "Output file: ../output//fluid-collapse-init.00083.vti"
       ]
      },
      {
       "output_type": "stream",
       "stream": "stdout",
       "text": [
        "\n",
        "Output file: ../output//collapse-init.00084.vtu\n",
        "Output file: ../output//fluid-collapse-init.00084.vti"
       ]
      },
      {
       "output_type": "stream",
       "stream": "stdout",
       "text": [
        "\n",
        "Output file: ../output//collapse-init.00085.vtu\n",
        "Output file: ../output//fluid-collapse-init.00085.vti"
       ]
      },
      {
       "output_type": "stream",
       "stream": "stdout",
       "text": [
        "\n",
        "Output file: ../output//collapse-init.00086.vtu\n",
        "Output file: ../output//fluid-collapse-init.00086.vti"
       ]
      },
      {
       "output_type": "stream",
       "stream": "stdout",
       "text": [
        "\n",
        "Output file: ../output//collapse-init.00087.vtu\n",
        "Output file: ../output//fluid-collapse-init.00087.vti"
       ]
      },
      {
       "output_type": "stream",
       "stream": "stdout",
       "text": [
        "\n",
        "Output file: ../output//collapse-init.00088.vtu\n",
        "Output file: ../output//fluid-collapse-init.00088.vti"
       ]
      },
      {
       "output_type": "stream",
       "stream": "stdout",
       "text": [
        "\n",
        "Output file: ../output//collapse-init.00089.vtu\n",
        "Output file: ../output//fluid-collapse-init.00089.vti"
       ]
      },
      {
       "output_type": "stream",
       "stream": "stdout",
       "text": [
        "\n",
        "Output file: ../output//collapse-init.00090.vtu\n",
        "Output file: ../output//fluid-collapse-init.00090.vti"
       ]
      },
      {
       "output_type": "stream",
       "stream": "stdout",
       "text": [
        "\n",
        "Output file: ../output//collapse-init.00091.vtu\n",
        "Output file: ../output//fluid-collapse-init.00091.vti"
       ]
      },
      {
       "output_type": "stream",
       "stream": "stdout",
       "text": [
        "\n",
        "Output file: ../output//collapse-init.00092.vtu\n",
        "Output file: ../output//fluid-collapse-init.00092.vti"
       ]
      },
      {
       "output_type": "stream",
       "stream": "stdout",
       "text": [
        "\n",
        "Output file: ../output//collapse-init.00093.vtu\n",
        "Output file: ../output//fluid-collapse-init.00093.vti"
       ]
      },
      {
       "output_type": "stream",
       "stream": "stdout",
       "text": [
        "\n",
        "Output file: ../output//collapse-init.00094.vtu\n",
        "Output file: ../output//fluid-collapse-init.00094.vti"
       ]
      },
      {
       "output_type": "stream",
       "stream": "stdout",
       "text": [
        "\n",
        "Output file: ../output//collapse-init.00095.vtu\n",
        "Output file: ../output//fluid-collapse-init.00095.vti"
       ]
      },
      {
       "output_type": "stream",
       "stream": "stdout",
       "text": [
        "\n",
        "Output file: ../output//collapse-init.00096.vtu\n",
        "Output file: ../output//fluid-collapse-init.00096.vti"
       ]
      },
      {
       "output_type": "stream",
       "stream": "stdout",
       "text": [
        "\n",
        "Output file: ../output//collapse-init.00097.vtu\n",
        "Output file: ../output//fluid-collapse-init.00097.vti"
       ]
      },
      {
       "output_type": "stream",
       "stream": "stdout",
       "text": [
        "\n",
        "Output file: ../output//collapse-init.00098.vtu\n",
        "Output file: ../output//fluid-collapse-init.00098.vti"
       ]
      },
      {
       "output_type": "stream",
       "stream": "stdout",
       "text": [
        "\n",
        "Output file: ../output//collapse-init.00099.vtu\n",
        "Output file: ../output//fluid-collapse-init.00099.vti"
       ]
      },
      {
       "output_type": "stream",
       "stream": "stdout",
       "text": [
        "\n"
       ]
      }
     ],
     "prompt_number": 22
    },
    {
     "cell_type": "code",
     "collapsed": false,
     "input": [
      "# New class for collapse\n",
      "coll = Spherebin(np = init.np, nw = init.nw, sid = sim_id)\n",
      "\n",
      "# Read last output file of initialization step\n",
      "lastf = status(sim_id + \"-init\")\n",
      "coll.readbin(\"../output/\" + sim_id + \"-init.output{:0=5}.bin\".format(lastf), verbose = False)\n",
      "\n",
      "# Setup collapse experiment by moving the +x boundary and resizing the grid\n",
      "resizefactor = 12\n",
      "coll.L[0] = coll.L[0]*resizefactor # world length in x-direction (0)\n",
      "coll.num[0] = coll.num[0]*resizefactor # neighbor search grid in x (0)\n",
      "\n",
      "# Reduce the height of the world and grid\n",
      "coll.adjustUpperWall()\n",
      "coll.f_V = numpy.ones((coll.num[0], coll.num[1], coll.num[2], 3))\n",
      "coll.f_rho = numpy.ones((coll.num[0], coll.num[1], coll.num[2]))\n",
      "\n",
      "# Set duration of simulation, automatically determine timestep, set the output\n",
      "# file interval.\n",
      "coll.initTemporal(total = 5.0, file_dt = 0.10)"
     ],
     "language": "python",
     "metadata": {},
     "outputs": [],
     "prompt_number": 23
    },
    {
     "cell_type": "code",
     "collapsed": false,
     "input": [
      "coll.run(darcyflow=True)\n",
      "# coll.writebin()\n",
      "coll.writeVTKall()"
     ],
     "language": "python",
     "metadata": {},
     "outputs": [
      {
       "output_type": "stream",
       "stream": "stdout",
       "text": [
        "Output file: ../output//collapse.00000.vtu\n",
        "Output file: ../output//fluid-collapse.00000.vti"
       ]
      },
      {
       "output_type": "stream",
       "stream": "stdout",
       "text": [
        "\n",
        "Output file: ../output//collapse.00001.vtu\n",
        "Output file: ../output//fluid-collapse.00001.vti"
       ]
      },
      {
       "output_type": "stream",
       "stream": "stdout",
       "text": [
        "\n",
        "Output file: ../output//collapse.00002.vtu\n",
        "Output file: ../output//fluid-collapse.00002.vti"
       ]
      },
      {
       "output_type": "stream",
       "stream": "stdout",
       "text": [
        "\n",
        "Output file: ../output//collapse.00003.vtu\n",
        "Output file: ../output//fluid-collapse.00003.vti"
       ]
      },
      {
       "output_type": "stream",
       "stream": "stdout",
       "text": [
        "\n",
        "Output file: ../output//collapse.00004.vtu\n",
        "Output file: ../output//fluid-collapse.00004.vti"
       ]
      },
      {
       "output_type": "stream",
       "stream": "stdout",
       "text": [
        "\n",
        "Output file: ../output//collapse.00005.vtu\n",
        "Output file: ../output//fluid-collapse.00005.vti"
       ]
      },
      {
       "output_type": "stream",
       "stream": "stdout",
       "text": [
        "\n",
        "Output file: ../output//collapse.00006.vtu\n",
        "Output file: ../output//fluid-collapse.00006.vti"
       ]
      },
      {
       "output_type": "stream",
       "stream": "stdout",
       "text": [
        "\n",
        "Output file: ../output//collapse.00007.vtu\n",
        "Output file: ../output//fluid-collapse.00007.vti"
       ]
      },
      {
       "output_type": "stream",
       "stream": "stdout",
       "text": [
        "\n",
        "Output file: ../output//collapse.00008.vtu\n",
        "Output file: ../output//fluid-collapse.00008.vti"
       ]
      },
      {
       "output_type": "stream",
       "stream": "stdout",
       "text": [
        "\n",
        "Output file: ../output//collapse.00009.vtu\n",
        "Output file: ../output//fluid-collapse.00009.vti"
       ]
      },
      {
       "output_type": "stream",
       "stream": "stdout",
       "text": [
        "\n",
        "Output file: ../output//collapse.00010.vtu\n",
        "Output file: ../output//fluid-collapse.00010.vti"
       ]
      },
      {
       "output_type": "stream",
       "stream": "stdout",
       "text": [
        "\n",
        "Output file: ../output//collapse.00011.vtu\n",
        "Output file: ../output//fluid-collapse.00011.vti"
       ]
      },
      {
       "output_type": "stream",
       "stream": "stdout",
       "text": [
        "\n",
        "Output file: ../output//collapse.00012.vtu\n",
        "Output file: ../output//fluid-collapse.00012.vti"
       ]
      },
      {
       "output_type": "stream",
       "stream": "stdout",
       "text": [
        "\n",
        "Output file: ../output//collapse.00013.vtu\n",
        "Output file: ../output//fluid-collapse.00013.vti"
       ]
      },
      {
       "output_type": "stream",
       "stream": "stdout",
       "text": [
        "\n",
        "Output file: ../output//collapse.00014.vtu\n",
        "Output file: ../output//fluid-collapse.00014.vti"
       ]
      },
      {
       "output_type": "stream",
       "stream": "stdout",
       "text": [
        "\n",
        "Output file: ../output//collapse.00015.vtu\n",
        "Output file: ../output//fluid-collapse.00015.vti"
       ]
      },
      {
       "output_type": "stream",
       "stream": "stdout",
       "text": [
        "\n",
        "Output file: ../output//collapse.00016.vtu\n",
        "Output file: ../output//fluid-collapse.00016.vti"
       ]
      },
      {
       "output_type": "stream",
       "stream": "stdout",
       "text": [
        "\n",
        "Output file: ../output//collapse.00017.vtu\n",
        "Output file: ../output//fluid-collapse.00017.vti"
       ]
      },
      {
       "output_type": "stream",
       "stream": "stdout",
       "text": [
        "\n",
        "Output file: ../output//collapse.00018.vtu\n",
        "Output file: ../output//fluid-collapse.00018.vti"
       ]
      },
      {
       "output_type": "stream",
       "stream": "stdout",
       "text": [
        "\n",
        "Output file: ../output//collapse.00019.vtu\n",
        "Output file: ../output//fluid-collapse.00019.vti"
       ]
      },
      {
       "output_type": "stream",
       "stream": "stdout",
       "text": [
        "\n",
        "Output file: ../output//collapse.00020.vtu\n",
        "Output file: ../output//fluid-collapse.00020.vti"
       ]
      },
      {
       "output_type": "stream",
       "stream": "stdout",
       "text": [
        "\n",
        "Output file: ../output//collapse.00021.vtu\n",
        "Output file: ../output//fluid-collapse.00021.vti"
       ]
      },
      {
       "output_type": "stream",
       "stream": "stdout",
       "text": [
        "\n",
        "Output file: ../output//collapse.00022.vtu\n",
        "Output file: ../output//fluid-collapse.00022.vti"
       ]
      },
      {
       "output_type": "stream",
       "stream": "stdout",
       "text": [
        "\n",
        "Output file: ../output//collapse.00023.vtu\n",
        "Output file: ../output//fluid-collapse.00023.vti"
       ]
      },
      {
       "output_type": "stream",
       "stream": "stdout",
       "text": [
        "\n",
        "Output file: ../output//collapse.00024.vtu\n",
        "Output file: ../output//fluid-collapse.00024.vti"
       ]
      },
      {
       "output_type": "stream",
       "stream": "stdout",
       "text": [
        "\n",
        "Output file: ../output//collapse.00025.vtu\n",
        "Output file: ../output//fluid-collapse.00025.vti"
       ]
      },
      {
       "output_type": "stream",
       "stream": "stdout",
       "text": [
        "\n",
        "Output file: ../output//collapse.00026.vtu\n",
        "Output file: ../output//fluid-collapse.00026.vti"
       ]
      },
      {
       "output_type": "stream",
       "stream": "stdout",
       "text": [
        "\n",
        "Output file: ../output//collapse.00027.vtu\n",
        "Output file: ../output//fluid-collapse.00027.vti"
       ]
      },
      {
       "output_type": "stream",
       "stream": "stdout",
       "text": [
        "\n",
        "Output file: ../output//collapse.00028.vtu\n",
        "Output file: ../output//fluid-collapse.00028.vti"
       ]
      },
      {
       "output_type": "stream",
       "stream": "stdout",
       "text": [
        "\n",
        "Output file: ../output//collapse.00029.vtu\n",
        "Output file: ../output//fluid-collapse.00029.vti"
       ]
      },
      {
       "output_type": "stream",
       "stream": "stdout",
       "text": [
        "\n",
        "Output file: ../output//collapse.00030.vtu\n",
        "Output file: ../output//fluid-collapse.00030.vti"
       ]
      },
      {
       "output_type": "stream",
       "stream": "stdout",
       "text": [
        "\n",
        "Output file: ../output//collapse.00031.vtu\n",
        "Output file: ../output//fluid-collapse.00031.vti"
       ]
      },
      {
       "output_type": "stream",
       "stream": "stdout",
       "text": [
        "\n",
        "Output file: ../output//collapse.00032.vtu\n",
        "Output file: ../output//fluid-collapse.00032.vti"
       ]
      },
      {
       "output_type": "stream",
       "stream": "stdout",
       "text": [
        "\n",
        "Output file: ../output//collapse.00033.vtu\n",
        "Output file: ../output//fluid-collapse.00033.vti"
       ]
      },
      {
       "output_type": "stream",
       "stream": "stdout",
       "text": [
        "\n",
        "Output file: ../output//collapse.00034.vtu\n",
        "Output file: ../output//fluid-collapse.00034.vti"
       ]
      },
      {
       "output_type": "stream",
       "stream": "stdout",
       "text": [
        "\n",
        "Output file: ../output//collapse.00035.vtu\n",
        "Output file: ../output//fluid-collapse.00035.vti"
       ]
      },
      {
       "output_type": "stream",
       "stream": "stdout",
       "text": [
        "\n",
        "Output file: ../output//collapse.00036.vtu\n",
        "Output file: ../output//fluid-collapse.00036.vti"
       ]
      },
      {
       "output_type": "stream",
       "stream": "stdout",
       "text": [
        "\n",
        "Output file: ../output//collapse.00037.vtu\n",
        "Output file: ../output//fluid-collapse.00037.vti"
       ]
      },
      {
       "output_type": "stream",
       "stream": "stdout",
       "text": [
        "\n",
        "Output file: ../output//collapse.00038.vtu\n",
        "Output file: ../output//fluid-collapse.00038.vti"
       ]
      },
      {
       "output_type": "stream",
       "stream": "stdout",
       "text": [
        "\n",
        "Output file: ../output//collapse.00039.vtu\n",
        "Output file: ../output//fluid-collapse.00039.vti"
       ]
      },
      {
       "output_type": "stream",
       "stream": "stdout",
       "text": [
        "\n",
        "Output file: ../output//collapse.00040.vtu\n",
        "Output file: ../output//fluid-collapse.00040.vti"
       ]
      },
      {
       "output_type": "stream",
       "stream": "stdout",
       "text": [
        "\n",
        "Output file: ../output//collapse.00041.vtu\n",
        "Output file: ../output//fluid-collapse.00041.vti"
       ]
      },
      {
       "output_type": "stream",
       "stream": "stdout",
       "text": [
        "\n",
        "Output file: ../output//collapse.00042.vtu\n",
        "Output file: ../output//fluid-collapse.00042.vti"
       ]
      },
      {
       "output_type": "stream",
       "stream": "stdout",
       "text": [
        "\n",
        "Output file: ../output//collapse.00043.vtu\n",
        "Output file: ../output//fluid-collapse.00043.vti"
       ]
      },
      {
       "output_type": "stream",
       "stream": "stdout",
       "text": [
        "\n",
        "Output file: ../output//collapse.00044.vtu\n",
        "Output file: ../output//fluid-collapse.00044.vti"
       ]
      },
      {
       "output_type": "stream",
       "stream": "stdout",
       "text": [
        "\n",
        "Output file: ../output//collapse.00045.vtu\n",
        "Output file: ../output//fluid-collapse.00045.vti"
       ]
      },
      {
       "output_type": "stream",
       "stream": "stdout",
       "text": [
        "\n",
        "Output file: ../output//collapse.00046.vtu\n",
        "Output file: ../output//fluid-collapse.00046.vti"
       ]
      },
      {
       "output_type": "stream",
       "stream": "stdout",
       "text": [
        "\n",
        "Output file: ../output//collapse.00047.vtu\n",
        "Output file: ../output//fluid-collapse.00047.vti"
       ]
      },
      {
       "output_type": "stream",
       "stream": "stdout",
       "text": [
        "\n",
        "Output file: ../output//collapse.00048.vtu\n",
        "Output file: ../output//fluid-collapse.00048.vti"
       ]
      },
      {
       "output_type": "stream",
       "stream": "stdout",
       "text": [
        "\n",
        "Output file: ../output//collapse.00049.vtu\n",
        "Output file: ../output//fluid-collapse.00049.vti"
       ]
      },
      {
       "output_type": "stream",
       "stream": "stdout",
       "text": [
        "\n"
       ]
      }
     ],
     "prompt_number": 25
    },
    {
     "cell_type": "code",
     "collapsed": false,
     "input": [
      "from IPython.core.display import HTML\n",
      "def css_styling():\n",
      "    styles = open(\"./styles/custom.css\", \"r\").read()\n",
      "    return HTML(styles)\n",
      "css_styling()"
     ],
     "language": "python",
     "metadata": {},
     "outputs": [
      {
       "ename": "IOError",
       "evalue": "[Errno 2] No such file or directory: './styles/custom.css'",
       "output_type": "pyerr",
       "traceback": [
        "\u001b[1;31m---------------------------------------------------------------------------\u001b[0m\n\u001b[1;31mIOError\u001b[0m                                   Traceback (most recent call last)",
        "\u001b[1;32m<ipython-input-93-b60c422eb727>\u001b[0m in \u001b[0;36m<module>\u001b[1;34m()\u001b[0m\n\u001b[0;32m      3\u001b[0m     \u001b[0mstyles\u001b[0m \u001b[1;33m=\u001b[0m \u001b[0mopen\u001b[0m\u001b[1;33m(\u001b[0m\u001b[1;34m\"./styles/custom.css\"\u001b[0m\u001b[1;33m,\u001b[0m \u001b[1;34m\"r\"\u001b[0m\u001b[1;33m)\u001b[0m\u001b[1;33m.\u001b[0m\u001b[0mread\u001b[0m\u001b[1;33m(\u001b[0m\u001b[1;33m)\u001b[0m\u001b[1;33m\u001b[0m\u001b[0m\n\u001b[0;32m      4\u001b[0m     \u001b[1;32mreturn\u001b[0m \u001b[0mHTML\u001b[0m\u001b[1;33m(\u001b[0m\u001b[0mstyles\u001b[0m\u001b[1;33m)\u001b[0m\u001b[1;33m\u001b[0m\u001b[0m\n\u001b[1;32m----> 5\u001b[1;33m \u001b[0mcss_styling\u001b[0m\u001b[1;33m(\u001b[0m\u001b[1;33m)\u001b[0m\u001b[1;33m\u001b[0m\u001b[0m\n\u001b[0m",
        "\u001b[1;32m<ipython-input-93-b60c422eb727>\u001b[0m in \u001b[0;36mcss_styling\u001b[1;34m()\u001b[0m\n\u001b[0;32m      1\u001b[0m \u001b[1;32mfrom\u001b[0m \u001b[0mIPython\u001b[0m\u001b[1;33m.\u001b[0m\u001b[0mcore\u001b[0m\u001b[1;33m.\u001b[0m\u001b[0mdisplay\u001b[0m \u001b[1;32mimport\u001b[0m \u001b[0mHTML\u001b[0m\u001b[1;33m\u001b[0m\u001b[0m\n\u001b[0;32m      2\u001b[0m \u001b[1;32mdef\u001b[0m \u001b[0mcss_styling\u001b[0m\u001b[1;33m(\u001b[0m\u001b[1;33m)\u001b[0m\u001b[1;33m:\u001b[0m\u001b[1;33m\u001b[0m\u001b[0m\n\u001b[1;32m----> 3\u001b[1;33m     \u001b[0mstyles\u001b[0m \u001b[1;33m=\u001b[0m \u001b[0mopen\u001b[0m\u001b[1;33m(\u001b[0m\u001b[1;34m\"./styles/custom.css\"\u001b[0m\u001b[1;33m,\u001b[0m \u001b[1;34m\"r\"\u001b[0m\u001b[1;33m)\u001b[0m\u001b[1;33m.\u001b[0m\u001b[0mread\u001b[0m\u001b[1;33m(\u001b[0m\u001b[1;33m)\u001b[0m\u001b[1;33m\u001b[0m\u001b[0m\n\u001b[0m\u001b[0;32m      4\u001b[0m     \u001b[1;32mreturn\u001b[0m \u001b[0mHTML\u001b[0m\u001b[1;33m(\u001b[0m\u001b[0mstyles\u001b[0m\u001b[1;33m)\u001b[0m\u001b[1;33m\u001b[0m\u001b[0m\n\u001b[0;32m      5\u001b[0m \u001b[0mcss_styling\u001b[0m\u001b[1;33m(\u001b[0m\u001b[1;33m)\u001b[0m\u001b[1;33m\u001b[0m\u001b[0m\n",
        "\u001b[1;31mIOError\u001b[0m: [Errno 2] No such file or directory: './styles/custom.css'"
       ]
      }
     ],
     "prompt_number": 93
    }
   ],
   "metadata": {}
  }
 ]
}