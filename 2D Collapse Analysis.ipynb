{
 "metadata": {
  "name": ""
 },
 "nbformat": 3,
 "nbformat_minor": 0,
 "worksheets": [
  {
   "cells": [
    {
     "cell_type": "code",
     "collapsed": false,
     "input": [
      "# import io, os, sys, types\n",
      "import importipynb\n",
      "sys.meta_path.append(importipynb.NotebookFinder())\n",
      "import funciones_nb\n",
      "\n",
      "home_dir = '/home/htapia/.dropbox-lania/Dropbox/Proyectos/column-collapses'\n",
      "# wrk_dir = '/home/htapia/projects/liggghts/column2D/'\n",
      "\n",
      "import os, sys, re\n",
      "\n",
      "import pandas as pd\n",
      "import numpy as np\n",
      "\n",
      "sys.path.append(home_dir)\n",
      "import funciones\n",
      "\n",
      "sys.path.append('/home/htapia/projects/liggghts/LPP/src/')\n",
      "from dump import dump\n",
      "\n",
      "%load_ext autoreload\n",
      "%autoreload 2\n"
     ],
     "language": "python",
     "metadata": {},
     "outputs": [
      {
       "output_type": "stream",
       "stream": "stdout",
       "text": [
        "importing IPython notebook from funciones_nb.ipynb\n"
       ]
      }
     ],
     "prompt_number": 1
    },
    {
     "cell_type": "code",
     "collapsed": false,
     "input": [
      "# A1 = np.arange(0.8,4.,0.6)\n",
      "# A2 = np.arange(5.4,11.0,0.6)\n",
      "# A = np.append(A1,A2)\n",
      "# rhos=np.append(np.array([1.0]),np.arange(2.0,4.0,0.5))\n",
      "As = np.array([1.4, 2.0, 2.6, 3.2, 3.8, 4.4, 5.0, 5.4, 6.0, 6.6, 7.2,\n",
      "               7.8, 8.4, 8.5, 9.1, 9.0, 9.6, 9.7, 10.2, 10.3, 10.8])\n",
      "# mus = np.arange(0.5,1.0,0.1)\n",
      "# gis = np.array([0.1, 0.2, 0.5, 1.0, 10.0])\n",
      "print \"The values of initial aspect ratio are [As]:\"\n",
      "print As\n",
      "# print \"\\nThe values of gravity multiples of g are [gis]:\"\n",
      "# print gis\n",
      "# print \"\\nThe values of particle friction are [mus]:\"\n",
      "# print mus\n",
      "\n",
      "\n",
      "gis = np.array([0.1, 0.2, 0.5, 1.0, 10.0])\n",
      "mus = np.arange(0.5,1.0,0.1)\n",
      "\n",
      "A = As[1]"
     ],
     "language": "python",
     "metadata": {},
     "outputs": [
      {
       "output_type": "stream",
       "stream": "stdout",
       "text": [
        "The values of initial aspect ratio are [As]:\n",
        "[  1.4   2.    2.6   3.2   3.8   4.4   5.    5.4   6.    6.6   7.2   7.8\n",
        "   8.4   8.5   9.1   9.    9.6   9.7  10.2  10.3  10.8]\n"
       ]
      }
     ],
     "prompt_number": 2
    },
    {
     "cell_type": "markdown",
     "metadata": {},
     "source": [
      "## A typical flow of processing\n",
      "\n",
      "1. Select values of parameters A, gravity and friction from e.g. the list above\n",
      "        dt, collDumps, fillDumps = funciones_nb.preProcessFiles(A, gi ,mu)\n",
      "      \n",
      "2. Get the dump number that corresponds to the initial state of the column (or the last dump when filling the column)\n",
      "        t0 = fillDumps[-1]\n",
      "    \n",
      "3. Get the initial state:\n",
      "        KE0, PE0 = funciones.initialState(t0)\n",
      "        \n",
      "4. "
     ]
    },
    {
     "cell_type": "code",
     "collapsed": false,
     "input": [
      "[dt,collDumps,fillDumps]=funciones_nb.preProcessFiles(A,gis[0],mus[0])"
     ],
     "language": "python",
     "metadata": {},
     "outputs": [
      {
       "output_type": "stream",
       "stream": "stdout",
       "text": [
        "\n",
        "Starting...\n",
        "log_run_liggghts_collapseColumn_DEM_a2.0_g_0.1_mu_0.5\n"
       ]
      }
     ],
     "prompt_number": 3
    },
    {
     "cell_type": "code",
     "collapsed": false,
     "input": [
      "t0 = fillDumps[-1]\n",
      "print t0"
     ],
     "language": "python",
     "metadata": {},
     "outputs": [
      {
       "output_type": "stream",
       "stream": "stdout",
       "text": [
        "195000\n"
       ]
      }
     ],
     "prompt_number": 4
    },
    {
     "cell_type": "code",
     "collapsed": false,
     "input": [
      "KE0, PE0 = funciones.initialState(t0)"
     ],
     "language": "python",
     "metadata": {},
     "outputs": [
      {
       "ename": "NameError",
       "evalue": "global name 'A' is not defined",
       "output_type": "pyerr",
       "traceback": [
        "\u001b[1;31m---------------------------------------------------------------------------\u001b[0m\n\u001b[1;31mNameError\u001b[0m                                 Traceback (most recent call last)",
        "\u001b[1;32m<ipython-input-5-296f0996512d>\u001b[0m in \u001b[0;36m<module>\u001b[1;34m()\u001b[0m\n\u001b[1;32m----> 1\u001b[1;33m \u001b[0mKE0\u001b[0m\u001b[1;33m,\u001b[0m \u001b[0mPE0\u001b[0m \u001b[1;33m=\u001b[0m \u001b[0mfunciones\u001b[0m\u001b[1;33m.\u001b[0m\u001b[0minitialState\u001b[0m\u001b[1;33m(\u001b[0m\u001b[0mt0\u001b[0m\u001b[1;33m)\u001b[0m\u001b[1;33m\u001b[0m\u001b[0m\n\u001b[0m",
        "\u001b[1;32m/home/htapia/projects/liggghts/column2D/funciones.py\u001b[0m in \u001b[0;36minitialState\u001b[1;34m(dump_no)\u001b[0m\n\u001b[0;32m     54\u001b[0m \u001b[1;33m\u001b[0m\u001b[0m\n\u001b[0;32m     55\u001b[0m     \u001b[0minitialState\u001b[0m \u001b[1;33m=\u001b[0m \u001b[0mdump_no\u001b[0m\u001b[1;33m\u001b[0m\u001b[0m\n\u001b[1;32m---> 56\u001b[1;33m     \u001b[0msimDir\u001b[0m \u001b[1;33m=\u001b[0m \u001b[0mwrk_dir\u001b[0m\u001b[1;33m+\u001b[0m\u001b[1;34m'A_%s_grav_%s_mu_%s/'\u001b[0m \u001b[1;33m%\u001b[0m\u001b[1;33m(\u001b[0m\u001b[0mA\u001b[0m\u001b[1;33m,\u001b[0m \u001b[0mgi\u001b[0m\u001b[1;33m,\u001b[0m \u001b[0mmu\u001b[0m\u001b[1;33m)\u001b[0m\u001b[1;33m\u001b[0m\u001b[0m\n\u001b[0m\u001b[0;32m     57\u001b[0m     \u001b[0mdumpFile\u001b[0m \u001b[1;33m=\u001b[0m \u001b[0msimDir\u001b[0m \u001b[1;33m+\u001b[0m \u001b[1;34m'dump_%s.collapse'\u001b[0m \u001b[1;33m%\u001b[0m \u001b[1;33m(\u001b[0m\u001b[0minitialState\u001b[0m\u001b[1;33m)\u001b[0m\u001b[1;33m\u001b[0m\u001b[0m\n\u001b[0;32m     58\u001b[0m \u001b[1;33m\u001b[0m\u001b[0m\n",
        "\u001b[1;31mNameError\u001b[0m: global name 'A' is not defined"
       ]
      }
     ],
     "prompt_number": 5
    },
    {
     "cell_type": "code",
     "collapsed": false,
     "input": [
      "aParam, g, mu, collapseList = collapse.processFiles(A,gis[0],mus[0])"
     ],
     "language": "python",
     "metadata": {},
     "outputs": [
      {
       "output_type": "stream",
       "stream": "stdout",
       "text": [
        "\n",
        "Starting...\n",
        "log_run_liggghts_collapseColumn_DEM_a2.0_g_0.1_mu_0.5\n"
       ]
      },
      {
       "output_type": "stream",
       "stream": "stdout",
       "text": [
        "A_2.0_grav_0.1_mu_0.5/dump_195000.collapse\n",
        "reading dump file...\n",
        "195000"
       ]
      },
      {
       "output_type": "stream",
       "stream": "stdout",
       "text": [
        "\n",
        "1 snapshots selected out of 1\n",
        "assigned columns: id type x y z ix iy iz vx vy vz fx fy fz omegax omegay omegaz radius \n",
        "dump is already unscaled\n",
        "\n",
        "The initial aspect ratio for this column is: 2.240799\n",
        "The value of A from the log file is:         2.000000\n",
        "\n",
        "Initial mean Kinetic   Energy -0.000000 [J]: \n",
        "Initial mean Potential Energy 0.000014 [J]: \n",
        "Now I generate the vtks and calculate the energies of collapse...\n",
        "starting LIGGGHTS memory optimized parallel post processing\n",
        "chunksize: 8 --> 8 files are processed per chunk. If you run out of memory reduce chunksize.\n",
        "Working with 8 processes...\n",
        "calculating chunks 1 - 8 of 14\n"
       ]
      },
      {
       "output_type": "stream",
       "stream": "stdout",
       "text": [
        "calculating chunks 9 - 14 of 14\n"
       ]
      },
      {
       "output_type": "stream",
       "stream": "stdout",
       "text": [
        "wrote 107 granular snapshots in VTK format\n",
        "time needed: 9.07969284058 sec\n",
        "Now I generate the profile...\n"
       ]
      }
     ],
     "prompt_number": 53
    },
    {
     "cell_type": "code",
     "collapsed": false,
     "input": [
      "csvList = [cl.replace('collapse','csv').replace('dump_','collapse') for cl in collapseList]\n",
      "egyList = [cl.replace('.collapse','_egys.txt').replace('dump_','collapse') for cl in collapseList]"
     ],
     "language": "python",
     "metadata": {},
     "outputs": [],
     "prompt_number": 101
    },
    {
     "cell_type": "code",
     "collapsed": false,
     "input": [
      "s = pd.Series([aParam, g, mu, collapseList, csvList, egyList],index=['a','g','mu','dumps','csv','egys'])"
     ],
     "language": "python",
     "metadata": {},
     "outputs": [],
     "prompt_number": 103
    },
    {
     "cell_type": "code",
     "collapsed": false,
     "input": [
      "s"
     ],
     "language": "python",
     "metadata": {},
     "outputs": [
      {
       "ename": "NameError",
       "evalue": "name 's' is not defined",
       "output_type": "pyerr",
       "traceback": [
        "\u001b[1;31m---------------------------------------------------------------------------\u001b[0m\n\u001b[1;31mNameError\u001b[0m                                 Traceback (most recent call last)",
        "\u001b[1;32m<ipython-input-6-f4d5d0c0671b>\u001b[0m in \u001b[0;36m<module>\u001b[1;34m()\u001b[0m\n\u001b[1;32m----> 1\u001b[1;33m \u001b[0ms\u001b[0m\u001b[1;33m\u001b[0m\u001b[0m\n\u001b[0m",
        "\u001b[1;31mNameError\u001b[0m: name 's' is not defined"
       ]
      }
     ],
     "prompt_number": 6
    },
    {
     "cell_type": "code",
     "collapsed": false,
     "input": [
      "np.arange(205000,5000*len(collapseList),5000)"
     ],
     "language": "python",
     "metadata": {},
     "outputs": [
      {
       "metadata": {},
       "output_type": "pyout",
       "prompt_number": 116,
       "text": [
        "array([205000, 210000, 215000, 220000, 225000, 230000, 235000, 240000,\n",
        "       245000, 250000, 255000, 260000, 265000, 270000, 275000, 280000,\n",
        "       285000, 290000, 295000, 300000, 305000, 310000, 315000, 320000,\n",
        "       325000, 330000, 335000, 340000, 345000, 350000, 355000, 360000,\n",
        "       365000, 370000, 375000, 380000, 385000, 390000, 395000, 400000,\n",
        "       405000, 410000, 415000, 420000, 425000, 430000, 435000, 440000,\n",
        "       445000, 450000, 455000, 460000, 465000, 470000, 475000, 480000,\n",
        "       485000, 490000, 495000, 500000, 505000, 510000, 515000, 520000,\n",
        "       525000, 530000])"
       ]
      }
     ],
     "prompt_number": 116
    },
    {
     "cell_type": "code",
     "collapsed": false,
     "input": [],
     "language": "python",
     "metadata": {},
     "outputs": []
    },
    {
     "cell_type": "code",
     "collapsed": false,
     "input": [
      "5000*len(collapseList)"
     ],
     "language": "python",
     "metadata": {},
     "outputs": [
      {
       "metadata": {},
       "output_type": "pyout",
       "prompt_number": 117,
       "text": [
        "535000"
       ]
      }
     ],
     "prompt_number": 117
    },
    {
     "cell_type": "code",
     "collapsed": false,
     "input": [],
     "language": "python",
     "metadata": {},
     "outputs": []
    },
    {
     "cell_type": "code",
     "collapsed": false,
     "input": [
      "state=s['list'][0].replace('collapse','csv').replace('dump_','collapse')"
     ],
     "language": "python",
     "metadata": {},
     "outputs": [],
     "prompt_number": 81
    },
    {
     "cell_type": "code",
     "collapsed": false,
     "input": [
      "state"
     ],
     "language": "python",
     "metadata": {},
     "outputs": [
      {
       "metadata": {},
       "output_type": "pyout",
       "prompt_number": 91,
       "text": [
        "'collapse205000.csv'"
       ]
      }
     ],
     "prompt_number": 91
    },
    {
     "cell_type": "code",
     "collapsed": false,
     "input": [
      "shape = pd.read_csv(simDir+state,sep=',')"
     ],
     "language": "python",
     "metadata": {},
     "outputs": [],
     "prompt_number": 83
    },
    {
     "cell_type": "code",
     "collapsed": false,
     "input": [
      "shape.columns=['this', 'that', 'Px', 'Py', 'Pz']\n",
      "shape.head()"
     ],
     "language": "python",
     "metadata": {},
     "outputs": [
      {
       "html": [
        "<div style=\"max-height:1000px;max-width:1500px;overflow:auto;\">\n",
        "<table border=\"1\" class=\"dataframe\">\n",
        "  <thead>\n",
        "    <tr style=\"text-align: right;\">\n",
        "      <th></th>\n",
        "      <th>this</th>\n",
        "      <th>that</th>\n",
        "      <th>Px</th>\n",
        "      <th>Py</th>\n",
        "      <th>Pz</th>\n",
        "    </tr>\n",
        "  </thead>\n",
        "  <tbody>\n",
        "    <tr>\n",
        "      <th>0</th>\n",
        "      <td> 1</td>\n",
        "      <td> 0.002136</td>\n",
        "      <td>-0.008212</td>\n",
        "      <td> 0.009132</td>\n",
        "      <td> 0</td>\n",
        "    </tr>\n",
        "    <tr>\n",
        "      <th>1</th>\n",
        "      <td> 1</td>\n",
        "      <td> 0.000901</td>\n",
        "      <td>-0.008723</td>\n",
        "      <td> 0.007897</td>\n",
        "      <td> 0</td>\n",
        "    </tr>\n",
        "    <tr>\n",
        "      <th>2</th>\n",
        "      <td> 0</td>\n",
        "      <td>-0.000335</td>\n",
        "      <td>-0.008212</td>\n",
        "      <td> 0.006662</td>\n",
        "      <td> 0</td>\n",
        "    </tr>\n",
        "    <tr>\n",
        "      <th>3</th>\n",
        "      <td> 0</td>\n",
        "      <td>-0.000335</td>\n",
        "      <td>-0.005741</td>\n",
        "      <td> 0.006662</td>\n",
        "      <td> 0</td>\n",
        "    </tr>\n",
        "    <tr>\n",
        "      <th>4</th>\n",
        "      <td> 0</td>\n",
        "      <td>-0.000354</td>\n",
        "      <td>-0.003122</td>\n",
        "      <td> 0.006643</td>\n",
        "      <td> 0</td>\n",
        "    </tr>\n",
        "  </tbody>\n",
        "</table>\n",
        "</div>"
       ],
       "metadata": {},
       "output_type": "pyout",
       "prompt_number": 85,
       "text": [
        "   this      that        Px        Py  Pz\n",
        "0     1  0.002136 -0.008212  0.009132   0\n",
        "1     1  0.000901 -0.008723  0.007897   0\n",
        "2     0 -0.000335 -0.008212  0.006662   0\n",
        "3     0 -0.000335 -0.005741  0.006662   0\n",
        "4     0 -0.000354 -0.003122  0.006643   0"
       ]
      }
     ],
     "prompt_number": 85
    },
    {
     "cell_type": "code",
     "collapsed": false,
     "input": [
      "pp=zip(shape.Px,shape.Py)\n",
      "# compute centroid\n",
      "cent=(sum([p[0] for p in pp])/len(pp),sum([p[1] for p in pp])/len(pp))\n",
      "# sort by polar angle\n",
      "pp.sort(key=lambda p: math.atan2(p[1]-cent[1],p[0]-cent[0]))\n",
      "# plot points\n",
      "pylab.scatter([p[0] for p in pp],[p[1] for p in pp])\n",
      "# plot polyline\n",
      "pylab.gca().add_patch(patches.Polygon(pp,closed=False,fill=False))\n",
      "pylab.grid()\n",
      "pylab.show()"
     ],
     "language": "python",
     "metadata": {},
     "outputs": [
      {
       "metadata": {},
       "output_type": "display_data",
       "png": "[encoded data removed]",
       "text": [
        "<matplotlib.figure.Figure at 0x42e9a90>"
       ]
      }
     ],
     "prompt_number": 87
    },
    {
     "cell_type": "code",
     "collapsed": false,
     "input": [
      "shape.Py.min()"
     ],
     "language": "python",
     "metadata": {},
     "outputs": [
      {
       "metadata": {},
       "output_type": "pyout",
       "prompt_number": 92,
       "text": [
        "0.0058104999999999997"
       ]
      }
     ],
     "prompt_number": 92
    },
    {
     "cell_type": "markdown",
     "metadata": {},
     "source": [
      "##Below are the parameters for the density experiments\n",
      "I should be able to reuse the code with minos modifications, mainly in the directory names"
     ]
    },
    {
     "cell_type": "code",
     "collapsed": false,
     "input": [
      "A1=np.arange(0.8,4.,0.6)\n",
      "A2=np.arange(5.4,11.0,0.6)\n",
      "A = np.append(A1,A2)\n",
      "print A\n",
      "# And for each one, five values of density ratios where studied:\n",
      "rhos=np.append(np.array([1.0]),np.arange(2.0,4.0,0.5))\n",
      "print rhos"
     ],
     "language": "python",
     "metadata": {},
     "outputs": []
    }
   ],
   "metadata": {}
  }
 ]
}