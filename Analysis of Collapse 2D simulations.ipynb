{
 "metadata": {
  "name": ""
 },
 "nbformat": 3,
 "nbformat_minor": 0,
 "worksheets": [
  {
   "cells": [
    {
     "cell_type": "code",
     "collapsed": false,
     "input": [
      "# cd /Users/horacio/Dropbox/simulations/columnDensityWaves\n",
      "import numpy as np\n",
      "import os, sys, cPickle, re\n",
      "# sys.path.append('/usr/lib/python2.7/dist-packages/')\n",
      "# import vtk\n",
      "# from paraview.simple import *\n",
      "sys.path.append('/home/htapia/projects/liggghts/LPP/src/')\n",
      "# %load /home/htapia/projects/liggghts/LPP/src/lpp.py\n",
      "# %load /home/htapia/projects/liggghts/LPP/src/dump.py"
     ],
     "language": "python",
     "metadata": {},
     "outputs": [],
     "prompt_number": 541
    },
    {
     "cell_type": "markdown",
     "metadata": {},
     "source": [
      "We first need to move into the directory containing the data"
     ]
    },
    {
     "cell_type": "code",
     "collapsed": false,
     "input": [
      "cd /home/htapia/projects/liggghts/column2D"
     ],
     "language": "python",
     "metadata": {},
     "outputs": [
      {
       "output_type": "stream",
       "stream": "stdout",
       "text": [
        "/home/htapia/projects/liggghts/column2D\n"
       ]
      }
     ],
     "prompt_number": 6
    },
    {
     "cell_type": "code",
     "collapsed": false,
     "input": [
      "ls"
     ],
     "language": "python",
     "metadata": {},
     "outputs": [
      {
       "output_type": "stream",
       "stream": "stdout",
       "text": [
        "\u001b[0m\u001b[01;34mA_0.4_grav_0.1_mu_0.5\u001b[0m/      log.liggghts\r\n",
        "\u001b[01;34mA_0.4_grav_0.1_mu_0.6\u001b[0m/      log_run_liggghts_collapseColumn_DEM_a0.4_g_0.1_mu_0.5\r\n",
        "\u001b[01;34mA_0.4_grav_0.1_mu_0.7\u001b[0m/      log_run_liggghts_collapseColumn_DEM_a0.4_g_0.1_mu_0.6\r\n",
        "\u001b[01;34mA_0.4_grav_0.1_mu_0.8\u001b[0m/      log_run_liggghts_collapseColumn_DEM_a0.4_g_0.1_mu_0.7\r\n",
        "\u001b[01;34mA_0.4_grav_0.1_mu_0.9\u001b[0m/      log_run_liggghts_collapseColumn_DEM_a0.4_g_0.1_mu_0.8\r\n",
        "\u001b[01;34mA_0.4_grav_0.2_mu_0.5\u001b[0m/      log_run_liggghts_collapseColumn_DEM_a0.4_g_0.1_mu_0.9\r\n",
        "\u001b[01;34mA_0.4_grav_0.2_mu_0.6\u001b[0m/      log_run_liggghts_collapseColumn_DEM_a0.4_g_0.2_mu_0.5\r\n",
        "\u001b[01;34mA_0.4_grav_0.2_mu_0.7\u001b[0m/      log_run_liggghts_collapseColumn_DEM_a0.4_g_0.2_mu_0.6\r\n",
        "\u001b[01;34mA_0.4_grav_0.2_mu_0.8\u001b[0m/      log_run_liggghts_collapseColumn_DEM_a0.4_g_0.2_mu_0.7\r\n",
        "\u001b[01;34mA_0.4_grav_0.2_mu_0.9\u001b[0m/      log_run_liggghts_collapseColumn_DEM_a0.4_g_0.2_mu_0.8\r\n",
        "\u001b[01;34mA_0.4_grav_0.5_mu_0.5\u001b[0m/      log_run_liggghts_collapseColumn_DEM_a0.4_g_0.2_mu_0.9\r\n",
        "\u001b[01;34mA_0.4_grav_0.5_mu_0.6\u001b[0m/      log_run_liggghts_collapseColumn_DEM_a0.4_g_0.5_mu_0.5\r\n",
        "\u001b[01;34mA_0.4_grav_0.5_mu_0.7\u001b[0m/      log_run_liggghts_collapseColumn_DEM_a0.4_g_0.5_mu_0.6\r\n",
        "\u001b[01;34mA_0.4_grav_0.5_mu_0.8\u001b[0m/      log_run_liggghts_collapseColumn_DEM_a0.4_g_0.5_mu_0.7\r\n",
        "\u001b[01;34mA_0.4_grav_0.5_mu_0.9\u001b[0m/      log_run_liggghts_collapseColumn_DEM_a0.4_g_0.5_mu_0.8\r\n",
        "\u001b[01;34mA_0.4_grav_10.0_mu_0.5\u001b[0m/     log_run_liggghts_collapseColumn_DEM_a0.4_g_0.5_mu_0.9\r\n",
        "\u001b[01;34mA_0.4_grav_10.0_mu_0.6\u001b[0m/     log_run_liggghts_collapseColumn_DEM_a0.4_g_10.0_mu_0.5\r\n",
        "\u001b[01;34mA_0.4_grav_10.0_mu_0.7\u001b[0m/     log_run_liggghts_collapseColumn_DEM_a0.4_g_10.0_mu_0.6\r\n",
        "\u001b[01;34mA_0.4_grav_10.0_mu_0.8\u001b[0m/     log_run_liggghts_collapseColumn_DEM_a0.4_g_10.0_mu_0.7\r\n",
        "\u001b[01;34mA_0.4_grav_10.0_mu_0.9\u001b[0m/     log_run_liggghts_collapseColumn_DEM_a0.4_g_10.0_mu_0.8\r\n",
        "\u001b[01;34mA_0.4_grav_1.0_mu_0.5\u001b[0m/      log_run_liggghts_collapseColumn_DEM_a0.4_g_10.0_mu_0.9\r\n",
        "\u001b[01;34mA_0.4_grav_1.0_mu_0.6\u001b[0m/      log_run_liggghts_collapseColumn_DEM_a0.4_g_1.0_mu_0.5\r\n",
        "\u001b[01;34mA_0.4_grav_1.0_mu_0.7\u001b[0m/      log_run_liggghts_collapseColumn_DEM_a0.4_g_1.0_mu_0.6\r\n",
        "\u001b[01;34mA_0.4_grav_1.0_mu_0.8\u001b[0m/      log_run_liggghts_collapseColumn_DEM_a0.4_g_1.0_mu_0.7\r\n",
        "\u001b[01;34mA_0.4_grav_1.0_mu_0.9\u001b[0m/      log_run_liggghts_collapseColumn_DEM_a0.4_g_1.0_mu_0.8\r\n",
        "\u001b[01;34mA_0.8_grav_0.1_mu_0.5\u001b[0m/      log_run_liggghts_collapseColumn_DEM_a0.4_g_1.0_mu_0.9\r\n",
        "\u001b[01;34mA_0.8_grav_0.1_mu_0.6\u001b[0m/      log_run_liggghts_collapseColumn_DEM_a0.8_g_0.1_mu_0.5\r\n",
        "\u001b[01;34mA_0.8_grav_0.1_mu_0.7\u001b[0m/      log_run_liggghts_collapseColumn_DEM_a0.8_g_0.1_mu_0.6\r\n",
        "\u001b[01;34mA_0.8_grav_0.1_mu_0.8\u001b[0m/      log_run_liggghts_collapseColumn_DEM_a0.8_g_0.1_mu_0.7\r\n",
        "\u001b[01;34mA_0.8_grav_0.1_mu_0.9\u001b[0m/      log_run_liggghts_collapseColumn_DEM_a0.8_g_0.1_mu_0.8\r\n",
        "\u001b[01;34mA_0.8_grav_0.2_mu_0.5\u001b[0m/      log_run_liggghts_collapseColumn_DEM_a0.8_g_0.1_mu_0.9\r\n",
        "\u001b[01;34mA_0.8_grav_0.2_mu_0.6\u001b[0m/      log_run_liggghts_collapseColumn_DEM_a0.8_g_0.2_mu_0.5\r\n",
        "\u001b[01;34mA_0.8_grav_0.2_mu_0.7\u001b[0m/      log_run_liggghts_collapseColumn_DEM_a0.8_g_0.2_mu_0.6\r\n",
        "\u001b[01;34mA_0.8_grav_0.2_mu_0.8\u001b[0m/      log_run_liggghts_collapseColumn_DEM_a0.8_g_0.2_mu_0.7\r\n",
        "\u001b[01;34mA_0.8_grav_0.2_mu_0.9\u001b[0m/      log_run_liggghts_collapseColumn_DEM_a0.8_g_0.2_mu_0.8\r\n",
        "\u001b[01;34mA_0.8_grav_0.5_mu_0.5\u001b[0m/      log_run_liggghts_collapseColumn_DEM_a0.8_g_0.2_mu_0.9\r\n",
        "\u001b[01;34mA_0.8_grav_0.5_mu_0.6\u001b[0m/      log_run_liggghts_collapseColumn_DEM_a0.8_g_0.5_mu_0.5\r\n",
        "\u001b[01;34mA_0.8_grav_0.5_mu_0.7\u001b[0m/      log_run_liggghts_collapseColumn_DEM_a0.8_g_0.5_mu_0.6\r\n",
        "\u001b[01;34mA_0.8_grav_0.5_mu_0.8\u001b[0m/      log_run_liggghts_collapseColumn_DEM_a0.8_g_0.5_mu_0.7\r\n",
        "\u001b[01;34mA_0.8_grav_0.5_mu_0.9\u001b[0m/      log_run_liggghts_collapseColumn_DEM_a0.8_g_0.5_mu_0.8\r\n",
        "\u001b[01;34mA_0.8_grav_1.0_mu_0.5\u001b[0m/      log_run_liggghts_collapseColumn_DEM_a0.8_g_0.5_mu_0.9\r\n",
        "\u001b[01;34mA_0.8_grav_1.0_mu_0.6\u001b[0m/      log_run_liggghts_collapseColumn_DEM_a0.8_g_1.0_mu_0.5\r\n",
        "\u001b[01;34mA_0.8_grav_1.0_mu_0.7\u001b[0m/      log_run_liggghts_collapseColumn_DEM_a0.8_g_1.0_mu_0.6\r\n",
        "\u001b[01;34mA_0.8_grav_1.0_mu_0.8\u001b[0m/      log_run_liggghts_collapseColumn_DEM_a0.8_g_1.0_mu_0.7\r\n",
        "\u001b[01;34mA_0.8_grav_1.0_mu_0.9\u001b[0m/      log_run_liggghts_collapseColumn_DEM_a0.8_g_1.0_mu_0.8\r\n",
        "\u001b[01;34mA_1.4_grav_0.1_mu_0.5\u001b[0m/      log_run_liggghts_collapseColumn_DEM_a0.8_g_1.0_mu_0.9\r\n",
        "\u001b[01;34mA_1.4_grav_0.1_mu_0.6\u001b[0m/      log_run_liggghts_collapseColumn_DEM_a1.4_g_0.1_mu_0.5\r\n",
        "\u001b[01;34mA_1.4_grav_0.1_mu_0.7\u001b[0m/      log_run_liggghts_collapseColumn_DEM_a1.4_g_0.1_mu_0.6\r\n",
        "\u001b[01;34mA_1.4_grav_0.1_mu_0.8\u001b[0m/      log_run_liggghts_collapseColumn_DEM_a1.4_g_0.1_mu_0.7\r\n",
        "\u001b[01;34mA_1.4_grav_0.1_mu_0.9\u001b[0m/      log_run_liggghts_collapseColumn_DEM_a1.4_g_0.1_mu_0.8\r\n",
        "\u001b[01;34mA_1.4_grav_0.2_mu_0.5\u001b[0m/      log_run_liggghts_collapseColumn_DEM_a1.4_g_0.1_mu_0.9\r\n",
        "\u001b[01;34mA_1.4_grav_0.2_mu_0.6\u001b[0m/      log_run_liggghts_collapseColumn_DEM_a1.4_g_0.2_mu_0.5\r\n",
        "\u001b[01;34mA_1.4_grav_0.2_mu_0.7\u001b[0m/      log_run_liggghts_collapseColumn_DEM_a1.4_g_0.2_mu_0.6\r\n",
        "\u001b[01;34mA_1.4_grav_0.2_mu_0.8\u001b[0m/      log_run_liggghts_collapseColumn_DEM_a1.4_g_0.2_mu_0.7\r\n",
        "\u001b[01;34mA_1.4_grav_0.2_mu_0.9\u001b[0m/      log_run_liggghts_collapseColumn_DEM_a1.4_g_0.2_mu_0.8\r\n",
        "\u001b[01;34mA_1.4_grav_0.5_mu_0.5\u001b[0m/      log_run_liggghts_collapseColumn_DEM_a1.4_g_0.2_mu_0.9\r\n",
        "\u001b[01;34mA_1.4_grav_0.5_mu_0.6\u001b[0m/      log_run_liggghts_collapseColumn_DEM_a1.4_g_0.5_mu_0.5\r\n",
        "\u001b[01;34mA_1.4_grav_0.5_mu_0.7\u001b[0m/      log_run_liggghts_collapseColumn_DEM_a1.4_g_0.5_mu_0.6\r\n",
        "\u001b[01;34mA_1.4_grav_0.5_mu_0.8\u001b[0m/      log_run_liggghts_collapseColumn_DEM_a1.4_g_0.5_mu_0.7\r\n",
        "\u001b[01;34mA_1.4_grav_0.5_mu_0.9\u001b[0m/      log_run_liggghts_collapseColumn_DEM_a1.4_g_0.5_mu_0.8\r\n",
        "\u001b[01;34mA_1.4_grav_10.0_mu_0.5\u001b[0m/     log_run_liggghts_collapseColumn_DEM_a1.4_g_0.5_mu_0.9\r\n",
        "\u001b[01;34mA_1.4_grav_10.0_mu_0.6\u001b[0m/     log_run_liggghts_collapseColumn_DEM_a1.4_g_10.0_mu_0.5\r\n",
        "\u001b[01;34mA_1.4_grav_10.0_mu_0.7\u001b[0m/     log_run_liggghts_collapseColumn_DEM_a1.4_g_10.0_mu_0.6\r\n",
        "\u001b[01;34mA_1.4_grav_10.0_mu_0.8\u001b[0m/     log_run_liggghts_collapseColumn_DEM_a1.4_g_10.0_mu_0.7\r\n",
        "\u001b[01;34mA_1.4_grav_10.0_mu_0.9\u001b[0m/     log_run_liggghts_collapseColumn_DEM_a1.4_g_10.0_mu_0.8\r\n",
        "\u001b[01;34mA_1.4_grav_1.0_mu_0.5\u001b[0m/      log_run_liggghts_collapseColumn_DEM_a1.4_g_10.0_mu_0.9\r\n",
        "\u001b[01;34mA_1.4_grav_1.0_mu_0.6\u001b[0m/      log_run_liggghts_collapseColumn_DEM_a1.4_g_1.0_mu_0.5\r\n",
        "\u001b[01;34mA_1.4_grav_1.0_mu_0.7\u001b[0m/      log_run_liggghts_collapseColumn_DEM_a1.4_g_1.0_mu_0.6\r\n",
        "\u001b[01;34mA_1.4_grav_1.0_mu_0.8\u001b[0m/      log_run_liggghts_collapseColumn_DEM_a1.4_g_1.0_mu_0.7\r\n",
        "\u001b[01;34mA_1.4_grav_1.0_mu_0.9\u001b[0m/      log_run_liggghts_collapseColumn_DEM_a1.4_g_1.0_mu_0.8\r\n",
        "\u001b[01;34mA_2.0_grav_0.1_mu_0.5\u001b[0m/      log_run_liggghts_collapseColumn_DEM_a1.4_g_1.0_mu_0.9\r\n",
        "\u001b[01;34mA_2.0_grav_0.1_mu_0.6\u001b[0m/      log_run_liggghts_collapseColumn_DEM_a2.0_g_0.1_mu_0.5\r\n",
        "\u001b[01;34mA_2.0_grav_0.1_mu_0.7\u001b[0m/      log_run_liggghts_collapseColumn_DEM_a2.0_g_0.1_mu_0.6\r\n",
        "\u001b[01;34mA_2.0_grav_0.1_mu_0.8\u001b[0m/      log_run_liggghts_collapseColumn_DEM_a2.0_g_0.1_mu_0.7\r\n",
        "\u001b[01;34mA_2.0_grav_0.1_mu_0.9\u001b[0m/      log_run_liggghts_collapseColumn_DEM_a2.0_g_0.1_mu_0.8\r\n",
        "\u001b[01;34mA_2.0_grav_0.2_mu_0.5\u001b[0m/      log_run_liggghts_collapseColumn_DEM_a2.0_g_0.1_mu_0.9\r\n",
        "\u001b[01;34mA_2.0_grav_0.2_mu_0.6\u001b[0m/      log_run_liggghts_collapseColumn_DEM_a2.0_g_0.2_mu_0.5\r\n",
        "\u001b[01;34mA_2.0_grav_0.2_mu_0.7\u001b[0m/      log_run_liggghts_collapseColumn_DEM_a2.0_g_0.2_mu_0.6\r\n",
        "\u001b[01;34mA_2.0_grav_0.2_mu_0.8\u001b[0m/      log_run_liggghts_collapseColumn_DEM_a2.0_g_0.2_mu_0.7\r\n",
        "\u001b[01;34mA_2.0_grav_0.2_mu_0.9\u001b[0m/      log_run_liggghts_collapseColumn_DEM_a2.0_g_0.2_mu_0.8\r\n",
        "\u001b[01;34mA_2.0_grav_0.5_mu_0.5\u001b[0m/      log_run_liggghts_collapseColumn_DEM_a2.0_g_0.2_mu_0.9\r\n",
        "\u001b[01;34mA_2.0_grav_0.5_mu_0.6\u001b[0m/      log_run_liggghts_collapseColumn_DEM_a2.0_g_0.5_mu_0.5\r\n",
        "\u001b[01;34mA_2.0_grav_0.5_mu_0.7\u001b[0m/      log_run_liggghts_collapseColumn_DEM_a2.0_g_0.5_mu_0.6\r\n",
        "\u001b[01;34mA_2.0_grav_0.5_mu_0.8\u001b[0m/      log_run_liggghts_collapseColumn_DEM_a2.0_g_0.5_mu_0.7\r\n",
        "\u001b[01;34mA_2.0_grav_0.5_mu_0.9\u001b[0m/      log_run_liggghts_collapseColumn_DEM_a2.0_g_0.5_mu_0.8\r\n",
        "\u001b[01;34mA_2.0_grav_10.0_mu_0.5\u001b[0m/     log_run_liggghts_collapseColumn_DEM_a2.0_g_0.5_mu_0.9\r\n",
        "\u001b[01;34mA_2.0_grav_10.0_mu_0.6\u001b[0m/     log_run_liggghts_collapseColumn_DEM_a2.0_g_10.0_mu_0.5\r\n",
        "\u001b[01;34mA_2.0_grav_10.0_mu_0.7\u001b[0m/     log_run_liggghts_collapseColumn_DEM_a2.0_g_10.0_mu_0.6\r\n",
        "\u001b[01;34mA_2.0_grav_10.0_mu_0.8\u001b[0m/     log_run_liggghts_collapseColumn_DEM_a2.0_g_10.0_mu_0.7\r\n",
        "\u001b[01;34mA_2.0_grav_10.0_mu_0.9\u001b[0m/     log_run_liggghts_collapseColumn_DEM_a2.0_g_10.0_mu_0.8\r\n",
        "\u001b[01;34mA_2.0_grav_1.0_mu_0.5\u001b[0m/      log_run_liggghts_collapseColumn_DEM_a2.0_g_10.0_mu_0.9\r\n",
        "\u001b[01;34mA_2.0_grav_1.0_mu_0.6\u001b[0m/      log_run_liggghts_collapseColumn_DEM_a2.0_g_1.0_mu_0.5\r\n",
        "\u001b[01;34mA_2.0_grav_1.0_mu_0.7\u001b[0m/      log_run_liggghts_collapseColumn_DEM_a2.0_g_1.0_mu_0.6\r\n",
        "\u001b[01;34mA_2.0_grav_1.0_mu_0.8\u001b[0m/      log_run_liggghts_collapseColumn_DEM_a2.0_g_1.0_mu_0.7\r\n",
        "\u001b[01;34mA_2.0_grav_1.0_mu_0.9\u001b[0m/      log_run_liggghts_collapseColumn_DEM_a2.0_g_1.0_mu_0.8\r\n",
        "\u001b[01;34mA_2.6_grav_0.1_mu_0.5\u001b[0m/      log_run_liggghts_collapseColumn_DEM_a2.0_g_1.0_mu_0.9\r\n",
        "\u001b[01;34mA_2.6_grav_0.1_mu_0.6\u001b[0m/      log_run_liggghts_collapseColumn_DEM_a2.6_g_0.1_mu_0.5\r\n",
        "\u001b[01;34mA_2.6_grav_0.1_mu_0.7\u001b[0m/      log_run_liggghts_collapseColumn_DEM_a2.6_g_0.1_mu_0.6\r\n",
        "\u001b[01;34mA_2.6_grav_0.1_mu_0.8\u001b[0m/      log_run_liggghts_collapseColumn_DEM_a2.6_g_0.1_mu_0.7\r\n",
        "\u001b[01;34mA_2.6_grav_0.1_mu_0.9\u001b[0m/      log_run_liggghts_collapseColumn_DEM_a2.6_g_0.1_mu_0.8\r\n",
        "\u001b[01;34mA_2.6_grav_0.2_mu_0.5\u001b[0m/      log_run_liggghts_collapseColumn_DEM_a2.6_g_0.1_mu_0.9\r\n",
        "\u001b[01;34mA_2.6_grav_0.2_mu_0.6\u001b[0m/      log_run_liggghts_collapseColumn_DEM_a2.6_g_0.2_mu_0.5\r\n",
        "\u001b[01;34mA_2.6_grav_0.2_mu_0.7\u001b[0m/      log_run_liggghts_collapseColumn_DEM_a2.6_g_0.2_mu_0.6\r\n",
        "\u001b[01;34mA_2.6_grav_0.2_mu_0.8\u001b[0m/      log_run_liggghts_collapseColumn_DEM_a2.6_g_0.2_mu_0.7\r\n",
        "\u001b[01;34mA_2.6_grav_0.2_mu_0.9\u001b[0m/      log_run_liggghts_collapseColumn_DEM_a2.6_g_0.2_mu_0.8\r\n",
        "\u001b[01;34mA_2.6_grav_0.5_mu_0.5\u001b[0m/      log_run_liggghts_collapseColumn_DEM_a2.6_g_0.2_mu_0.9\r\n",
        "\u001b[01;34mA_2.6_grav_0.5_mu_0.6\u001b[0m/      log_run_liggghts_collapseColumn_DEM_a2.6_g_0.5_mu_0.5\r\n",
        "\u001b[01;34mA_2.6_grav_0.5_mu_0.7\u001b[0m/      log_run_liggghts_collapseColumn_DEM_a2.6_g_0.5_mu_0.6\r\n",
        "\u001b[01;34mA_2.6_grav_0.5_mu_0.8\u001b[0m/      log_run_liggghts_collapseColumn_DEM_a2.6_g_0.5_mu_0.7\r\n",
        "\u001b[01;34mA_2.6_grav_0.5_mu_0.9\u001b[0m/      log_run_liggghts_collapseColumn_DEM_a2.6_g_0.5_mu_0.8\r\n",
        "\u001b[01;34mA_2.6_grav_10.0_mu_0.5\u001b[0m/     log_run_liggghts_collapseColumn_DEM_a2.6_g_0.5_mu_0.9\r\n",
        "\u001b[01;34mA_2.6_grav_10.0_mu_0.6\u001b[0m/     log_run_liggghts_collapseColumn_DEM_a2.6_g_10.0_mu_0.5\r\n",
        "\u001b[01;34mA_2.6_grav_10.0_mu_0.7\u001b[0m/     log_run_liggghts_collapseColumn_DEM_a2.6_g_10.0_mu_0.6\r\n",
        "\u001b[01;34mA_2.6_grav_10.0_mu_0.8\u001b[0m/     log_run_liggghts_collapseColumn_DEM_a2.6_g_10.0_mu_0.7\r\n",
        "\u001b[01;34mA_2.6_grav_10.0_mu_0.9\u001b[0m/     log_run_liggghts_collapseColumn_DEM_a2.6_g_10.0_mu_0.8\r\n",
        "\u001b[01;34mA_2.6_grav_1.0_mu_0.5\u001b[0m/      log_run_liggghts_collapseColumn_DEM_a2.6_g_10.0_mu_0.9\r\n",
        "\u001b[01;34mA_2.6_grav_1.0_mu_0.6\u001b[0m/      log_run_liggghts_collapseColumn_DEM_a2.6_g_1.0_mu_0.5\r\n",
        "\u001b[01;34mA_2.6_grav_1.0_mu_0.7\u001b[0m/      log_run_liggghts_collapseColumn_DEM_a2.6_g_1.0_mu_0.6\r\n",
        "\u001b[01;34mA_2.6_grav_1.0_mu_0.8\u001b[0m/      log_run_liggghts_collapseColumn_DEM_a2.6_g_1.0_mu_0.7\r\n",
        "\u001b[01;34mA_2.6_grav_1.0_mu_0.9\u001b[0m/      log_run_liggghts_collapseColumn_DEM_a2.6_g_1.0_mu_0.8\r\n",
        "\u001b[01;34mA_3.2_grav_0.1_mu_0.5\u001b[0m/      log_run_liggghts_collapseColumn_DEM_a2.6_g_1.0_mu_0.9\r\n",
        "\u001b[01;34mA_3.2_grav_0.1_mu_0.6\u001b[0m/      log_run_liggghts_collapseColumn_DEM_a3.2_g_0.1_mu_0.5\r\n",
        "\u001b[01;34mA_3.2_grav_0.1_mu_0.7\u001b[0m/      log_run_liggghts_collapseColumn_DEM_a3.2_g_0.1_mu_0.6\r\n",
        "\u001b[01;34mA_3.2_grav_0.1_mu_0.8\u001b[0m/      log_run_liggghts_collapseColumn_DEM_a3.2_g_0.1_mu_0.7\r\n",
        "\u001b[01;34mA_3.2_grav_0.1_mu_0.9\u001b[0m/      log_run_liggghts_collapseColumn_DEM_a3.2_g_0.1_mu_0.8\r\n",
        "\u001b[01;34mA_3.2_grav_0.2_mu_0.5\u001b[0m/      log_run_liggghts_collapseColumn_DEM_a3.2_g_0.1_mu_0.9\r\n",
        "\u001b[01;34mA_3.2_grav_0.2_mu_0.6\u001b[0m/      log_run_liggghts_collapseColumn_DEM_a3.2_g_0.2_mu_0.5\r\n",
        "\u001b[01;34mA_3.2_grav_0.2_mu_0.7\u001b[0m/      log_run_liggghts_collapseColumn_DEM_a3.2_g_0.2_mu_0.6\r\n",
        "\u001b[01;34mA_3.2_grav_0.2_mu_0.8\u001b[0m/      log_run_liggghts_collapseColumn_DEM_a3.2_g_0.2_mu_0.7\r\n",
        "\u001b[01;34mA_3.2_grav_0.2_mu_0.9\u001b[0m/      log_run_liggghts_collapseColumn_DEM_a3.2_g_0.2_mu_0.8\r\n",
        "\u001b[01;34mA_3.2_grav_0.5_mu_0.5\u001b[0m/      log_run_liggghts_collapseColumn_DEM_a3.2_g_0.2_mu_0.9\r\n",
        "\u001b[01;34mA_3.2_grav_0.5_mu_0.6\u001b[0m/      log_run_liggghts_collapseColumn_DEM_a3.2_g_0.5_mu_0.5\r\n",
        "\u001b[01;34mA_3.2_grav_0.5_mu_0.7\u001b[0m/      log_run_liggghts_collapseColumn_DEM_a3.2_g_0.5_mu_0.6\r\n",
        "\u001b[01;34mA_3.2_grav_0.5_mu_0.8\u001b[0m/      log_run_liggghts_collapseColumn_DEM_a3.2_g_0.5_mu_0.7\r\n",
        "\u001b[01;34mA_3.2_grav_0.5_mu_0.9\u001b[0m/      log_run_liggghts_collapseColumn_DEM_a3.2_g_0.5_mu_0.8\r\n",
        "\u001b[01;34mA_3.2_grav_10.0_mu_0.5\u001b[0m/     log_run_liggghts_collapseColumn_DEM_a3.2_g_0.5_mu_0.9\r\n",
        "\u001b[01;34mA_3.2_grav_10.0_mu_0.6\u001b[0m/     log_run_liggghts_collapseColumn_DEM_a3.2_g_10.0_mu_0.5\r\n",
        "\u001b[01;34mA_3.2_grav_10.0_mu_0.7\u001b[0m/     log_run_liggghts_collapseColumn_DEM_a3.2_g_10.0_mu_0.6\r\n",
        "\u001b[01;34mA_3.2_grav_10.0_mu_0.8\u001b[0m/     log_run_liggghts_collapseColumn_DEM_a3.2_g_10.0_mu_0.7\r\n",
        "\u001b[01;34mA_3.2_grav_10.0_mu_0.9\u001b[0m/     log_run_liggghts_collapseColumn_DEM_a3.2_g_10.0_mu_0.8\r\n",
        "\u001b[01;34mA_3.2_grav_1.0_mu_0.5\u001b[0m/      log_run_liggghts_collapseColumn_DEM_a3.2_g_10.0_mu_0.9\r\n",
        "\u001b[01;34mA_3.2_grav_1.0_mu_0.6\u001b[0m/      log_run_liggghts_collapseColumn_DEM_a3.2_g_1.0_mu_0.5\r\n",
        "\u001b[01;34mA_3.2_grav_1.0_mu_0.7\u001b[0m/      log_run_liggghts_collapseColumn_DEM_a3.2_g_1.0_mu_0.6\r\n",
        "\u001b[01;34mA_3.2_grav_1.0_mu_0.8\u001b[0m/      log_run_liggghts_collapseColumn_DEM_a3.2_g_1.0_mu_0.7\r\n",
        "\u001b[01;34mA_3.2_grav_1.0_mu_0.9\u001b[0m/      log_run_liggghts_collapseColumn_DEM_a3.2_g_1.0_mu_0.8\r\n",
        "\u001b[01;34mA_3.8_grav_0.1_mu_0.5\u001b[0m/      log_run_liggghts_collapseColumn_DEM_a3.2_g_1.0_mu_0.9\r\n",
        "\u001b[01;34mA_3.8_grav_0.1_mu_0.6\u001b[0m/      log_run_liggghts_collapseColumn_DEM_a3.8_g_0.1_mu_0.5\r\n",
        "\u001b[01;34mA_3.8_grav_0.1_mu_0.7\u001b[0m/      log_run_liggghts_collapseColumn_DEM_a3.8_g_0.1_mu_0.6\r\n",
        "\u001b[01;34mA_3.8_grav_0.1_mu_0.8\u001b[0m/      log_run_liggghts_collapseColumn_DEM_a3.8_g_0.1_mu_0.7\r\n",
        "\u001b[01;34mA_3.8_grav_0.1_mu_0.9\u001b[0m/      log_run_liggghts_collapseColumn_DEM_a3.8_g_0.1_mu_0.8\r\n",
        "\u001b[01;34mA_3.8_grav_0.2_mu_0.5\u001b[0m/      log_run_liggghts_collapseColumn_DEM_a3.8_g_0.1_mu_0.9\r\n",
        "\u001b[01;34mA_3.8_grav_0.2_mu_0.6\u001b[0m/      log_run_liggghts_collapseColumn_DEM_a3.8_g_0.2_mu_0.5\r\n",
        "\u001b[01;34mA_3.8_grav_0.2_mu_0.7\u001b[0m/      log_run_liggghts_collapseColumn_DEM_a3.8_g_0.2_mu_0.6\r\n",
        "\u001b[01;34mA_3.8_grav_0.2_mu_0.8\u001b[0m/      log_run_liggghts_collapseColumn_DEM_a3.8_g_0.2_mu_0.7\r\n",
        "\u001b[01;34mA_3.8_grav_0.2_mu_0.9\u001b[0m/      log_run_liggghts_collapseColumn_DEM_a3.8_g_0.2_mu_0.8\r\n",
        "\u001b[01;34mA_3.8_grav_0.5_mu_0.5\u001b[0m/      log_run_liggghts_collapseColumn_DEM_a3.8_g_0.2_mu_0.9\r\n",
        "\u001b[01;34mA_3.8_grav_0.5_mu_0.6\u001b[0m/      log_run_liggghts_collapseColumn_DEM_a3.8_g_0.5_mu_0.5\r\n",
        "\u001b[01;34mA_3.8_grav_0.5_mu_0.7\u001b[0m/      log_run_liggghts_collapseColumn_DEM_a3.8_g_0.5_mu_0.6\r\n",
        "\u001b[01;34mA_3.8_grav_0.5_mu_0.8\u001b[0m/      log_run_liggghts_collapseColumn_DEM_a3.8_g_0.5_mu_0.7\r\n",
        "\u001b[01;34mA_3.8_grav_0.5_mu_0.9\u001b[0m/      log_run_liggghts_collapseColumn_DEM_a3.8_g_0.5_mu_0.8\r\n",
        "\u001b[01;34mA_3.8_grav_10.0_mu_0.5\u001b[0m/     log_run_liggghts_collapseColumn_DEM_a3.8_g_0.5_mu_0.9\r\n",
        "\u001b[01;34mA_3.8_grav_10.0_mu_0.6\u001b[0m/     log_run_liggghts_collapseColumn_DEM_a3.8_g_10.0_mu_0.5\r\n",
        "\u001b[01;34mA_3.8_grav_10.0_mu_0.7\u001b[0m/     log_run_liggghts_collapseColumn_DEM_a3.8_g_10.0_mu_0.6\r\n",
        "\u001b[01;34mA_3.8_grav_10.0_mu_0.8\u001b[0m/     log_run_liggghts_collapseColumn_DEM_a3.8_g_10.0_mu_0.7\r\n",
        "\u001b[01;34mA_3.8_grav_10.0_mu_0.9\u001b[0m/     log_run_liggghts_collapseColumn_DEM_a3.8_g_10.0_mu_0.8\r\n",
        "\u001b[01;34mA_3.8_grav_1.0_mu_0.5\u001b[0m/      log_run_liggghts_collapseColumn_DEM_a3.8_g_10.0_mu_0.9\r\n",
        "\u001b[01;34mA_3.8_grav_1.0_mu_0.6\u001b[0m/      log_run_liggghts_collapseColumn_DEM_a3.8_g_1.0_mu_0.5\r\n",
        "\u001b[01;34mA_3.8_grav_1.0_mu_0.7\u001b[0m/      log_run_liggghts_collapseColumn_DEM_a3.8_g_1.0_mu_0.6\r\n",
        "\u001b[01;34mA_3.8_grav_1.0_mu_0.8\u001b[0m/      log_run_liggghts_collapseColumn_DEM_a3.8_g_1.0_mu_0.7\r\n",
        "\u001b[01;34mA_3.8_grav_1.0_mu_0.9\u001b[0m/      log_run_liggghts_collapseColumn_DEM_a3.8_g_1.0_mu_0.8\r\n",
        "\u001b[01;34mA_4.4_grav_0.1_mu_0.5\u001b[0m/      log_run_liggghts_collapseColumn_DEM_a3.8_g_1.0_mu_0.9\r\n",
        "\u001b[01;34mA_4.4_grav_0.1_mu_0.6\u001b[0m/      log_run_liggghts_collapseColumn_DEM_a4.4_g_0.1_mu_0.5\r\n",
        "\u001b[01;34mA_4.4_grav_0.1_mu_0.7\u001b[0m/      log_run_liggghts_collapseColumn_DEM_a4.4_g_0.1_mu_0.6\r\n",
        "\u001b[01;34mA_4.4_grav_0.1_mu_0.8\u001b[0m/      log_run_liggghts_collapseColumn_DEM_a4.4_g_0.1_mu_0.7\r\n",
        "\u001b[01;34mA_4.4_grav_0.1_mu_0.9\u001b[0m/      log_run_liggghts_collapseColumn_DEM_a4.4_g_0.1_mu_0.8\r\n",
        "\u001b[01;34mA_4.4_grav_0.2_mu_0.5\u001b[0m/      log_run_liggghts_collapseColumn_DEM_a4.4_g_0.1_mu_0.9\r\n",
        "\u001b[01;34mA_4.4_grav_0.2_mu_0.6\u001b[0m/      log_run_liggghts_collapseColumn_DEM_a4.4_g_0.2_mu_0.5\r\n",
        "\u001b[01;34mA_4.4_grav_0.2_mu_0.7\u001b[0m/      log_run_liggghts_collapseColumn_DEM_a4.4_g_0.2_mu_0.6\r\n",
        "\u001b[01;34mA_4.4_grav_0.2_mu_0.8\u001b[0m/      log_run_liggghts_collapseColumn_DEM_a4.4_g_0.2_mu_0.7\r\n",
        "\u001b[01;34mA_4.4_grav_0.2_mu_0.9\u001b[0m/      log_run_liggghts_collapseColumn_DEM_a4.4_g_0.2_mu_0.8\r\n",
        "\u001b[01;34mA_4.4_grav_0.5_mu_0.5\u001b[0m/      log_run_liggghts_collapseColumn_DEM_a4.4_g_0.2_mu_0.9\r\n",
        "\u001b[01;34mA_4.4_grav_0.5_mu_0.6\u001b[0m/      log_run_liggghts_collapseColumn_DEM_a4.4_g_0.5_mu_0.5\r\n",
        "\u001b[01;34mA_4.4_grav_0.5_mu_0.7\u001b[0m/      log_run_liggghts_collapseColumn_DEM_a4.4_g_0.5_mu_0.6\r\n",
        "\u001b[01;34mA_4.4_grav_0.5_mu_0.8\u001b[0m/      log_run_liggghts_collapseColumn_DEM_a4.4_g_0.5_mu_0.7\r\n",
        "\u001b[01;34mA_4.4_grav_0.5_mu_0.9\u001b[0m/      log_run_liggghts_collapseColumn_DEM_a4.4_g_0.5_mu_0.8\r\n",
        "\u001b[01;34mA_4.4_grav_10.0_mu_0.5\u001b[0m/     log_run_liggghts_collapseColumn_DEM_a4.4_g_0.5_mu_0.9\r\n",
        "\u001b[01;34mA_4.4_grav_10.0_mu_0.6\u001b[0m/     log_run_liggghts_collapseColumn_DEM_a4.4_g_10.0_mu_0.5\r\n",
        "\u001b[01;34mA_4.4_grav_10.0_mu_0.7\u001b[0m/     log_run_liggghts_collapseColumn_DEM_a4.4_g_10.0_mu_0.6\r\n",
        "\u001b[01;34mA_4.4_grav_10.0_mu_0.8\u001b[0m/     log_run_liggghts_collapseColumn_DEM_a4.4_g_10.0_mu_0.7\r\n",
        "\u001b[01;34mA_4.4_grav_10.0_mu_0.9\u001b[0m/     log_run_liggghts_collapseColumn_DEM_a4.4_g_10.0_mu_0.8\r\n",
        "\u001b[01;34mA_4.4_grav_1.0_mu_0.5\u001b[0m/      log_run_liggghts_collapseColumn_DEM_a4.4_g_10.0_mu_0.9\r\n",
        "\u001b[01;34mA_4.4_grav_1.0_mu_0.6\u001b[0m/      log_run_liggghts_collapseColumn_DEM_a4.4_g_1.0_mu_0.5\r\n",
        "\u001b[01;34mA_4.4_grav_1.0_mu_0.7\u001b[0m/      log_run_liggghts_collapseColumn_DEM_a4.4_g_1.0_mu_0.6\r\n",
        "\u001b[01;34mA_4.4_grav_1.0_mu_0.8\u001b[0m/      log_run_liggghts_collapseColumn_DEM_a4.4_g_1.0_mu_0.7\r\n",
        "\u001b[01;34mA_4.4_grav_1.0_mu_0.9\u001b[0m/      log_run_liggghts_collapseColumn_DEM_a4.4_g_1.0_mu_0.8\r\n",
        "\u001b[01;34mA_5.0_grav_0.1_mu_0.5\u001b[0m/      log_run_liggghts_collapseColumn_DEM_a4.4_g_1.0_mu_0.9\r\n",
        "\u001b[01;34mA_5.0_grav_0.1_mu_0.6\u001b[0m/      log_run_liggghts_collapseColumn_DEM_a5.0_g_0.1_mu_0.5\r\n",
        "\u001b[01;34mA_5.0_grav_0.1_mu_0.7\u001b[0m/      log_run_liggghts_collapseColumn_DEM_a5.0_g_0.1_mu_0.6\r\n",
        "\u001b[01;34mA_5.0_grav_0.1_mu_0.8\u001b[0m/      log_run_liggghts_collapseColumn_DEM_a5.0_g_0.1_mu_0.7\r\n",
        "\u001b[01;34mA_5.0_grav_0.1_mu_0.9\u001b[0m/      log_run_liggghts_collapseColumn_DEM_a5.0_g_0.1_mu_0.8\r\n",
        "\u001b[01;34mA_5.0_grav_0.2_mu_0.5\u001b[0m/      log_run_liggghts_collapseColumn_DEM_a5.0_g_0.1_mu_0.9\r\n",
        "\u001b[01;34mA_5.0_grav_0.2_mu_0.6\u001b[0m/      log_run_liggghts_collapseColumn_DEM_a5.0_g_0.2_mu_0.5\r\n",
        "\u001b[01;34mA_5.0_grav_0.2_mu_0.7\u001b[0m/      log_run_liggghts_collapseColumn_DEM_a5.0_g_0.2_mu_0.6\r\n",
        "\u001b[01;34mA_5.0_grav_0.2_mu_0.8\u001b[0m/      log_run_liggghts_collapseColumn_DEM_a5.0_g_0.2_mu_0.7\r\n",
        "\u001b[01;34mA_5.0_grav_0.2_mu_0.9\u001b[0m/      log_run_liggghts_collapseColumn_DEM_a5.0_g_0.2_mu_0.8\r\n",
        "\u001b[01;34mA_5.0_grav_0.5_mu_0.5\u001b[0m/      log_run_liggghts_collapseColumn_DEM_a5.0_g_0.2_mu_0.9\r\n",
        "\u001b[01;34mA_5.0_grav_0.5_mu_0.6\u001b[0m/      log_run_liggghts_collapseColumn_DEM_a5.0_g_0.5_mu_0.5\r\n",
        "\u001b[01;34mA_5.0_grav_0.5_mu_0.7\u001b[0m/      log_run_liggghts_collapseColumn_DEM_a5.0_g_0.5_mu_0.6\r\n",
        "\u001b[01;34mA_5.0_grav_0.5_mu_0.8\u001b[0m/      log_run_liggghts_collapseColumn_DEM_a5.0_g_0.5_mu_0.7\r\n",
        "\u001b[01;34mA_5.0_grav_0.5_mu_0.9\u001b[0m/      log_run_liggghts_collapseColumn_DEM_a5.0_g_0.5_mu_0.8\r\n",
        "\u001b[01;34mA_5.0_grav_10.0_mu_0.5\u001b[0m/     log_run_liggghts_collapseColumn_DEM_a5.0_g_0.5_mu_0.9\r\n",
        "\u001b[01;34mA_5.0_grav_10.0_mu_0.6\u001b[0m/     log_run_liggghts_collapseColumn_DEM_a5.0_g_10.0_mu_0.5\r\n",
        "\u001b[01;34mA_5.0_grav_10.0_mu_0.7\u001b[0m/     log_run_liggghts_collapseColumn_DEM_a5.0_g_10.0_mu_0.6\r\n",
        "\u001b[01;34mA_5.0_grav_10.0_mu_0.8\u001b[0m/     log_run_liggghts_collapseColumn_DEM_a5.0_g_10.0_mu_0.7\r\n",
        "\u001b[01;34mA_5.0_grav_10.0_mu_0.9\u001b[0m/     log_run_liggghts_collapseColumn_DEM_a5.0_g_10.0_mu_0.8\r\n",
        "\u001b[01;34mA_5.0_grav_1.0_mu_0.5\u001b[0m/      log_run_liggghts_collapseColumn_DEM_a5.0_g_10.0_mu_0.9\r\n",
        "\u001b[01;34mA_5.0_grav_1.0_mu_0.6\u001b[0m/      log_run_liggghts_collapseColumn_DEM_a5.0_g_1.0_mu_0.5\r\n",
        "\u001b[01;34mA_5.0_grav_1.0_mu_0.7\u001b[0m/      log_run_liggghts_collapseColumn_DEM_a5.0_g_1.0_mu_0.6\r\n",
        "\u001b[01;34mA_5.0_grav_1.0_mu_0.8\u001b[0m/      log_run_liggghts_collapseColumn_DEM_a5.0_g_1.0_mu_0.7\r\n",
        "\u001b[01;34mA_5.0_grav_1.0_mu_0.9\u001b[0m/      log_run_liggghts_collapseColumn_DEM_a5.0_g_1.0_mu_0.8\r\n",
        "\u001b[01;34mA_5.4_grav_0.1_mu_0.5\u001b[0m/      log_run_liggghts_collapseColumn_DEM_a5.0_g_1.0_mu_0.9\r\n",
        "\u001b[01;34mA_5.4_grav_0.1_mu_0.6\u001b[0m/      log_run_liggghts_collapseColumn_DEM_a5.4_g_0.1_mu_0.5\r\n",
        "\u001b[01;34mA_5.4_grav_0.1_mu_0.7\u001b[0m/      log_run_liggghts_collapseColumn_DEM_a5.4_g_0.1_mu_0.6\r\n",
        "\u001b[01;34mA_5.4_grav_0.1_mu_0.8\u001b[0m/      log_run_liggghts_collapseColumn_DEM_a5.4_g_0.1_mu_0.7\r\n",
        "\u001b[01;34mA_5.4_grav_0.1_mu_0.9\u001b[0m/      log_run_liggghts_collapseColumn_DEM_a5.4_g_0.1_mu_0.8\r\n",
        "\u001b[01;34mA_5.4_grav_0.2_mu_0.5\u001b[0m/      log_run_liggghts_collapseColumn_DEM_a5.4_g_0.1_mu_0.9\r\n",
        "\u001b[01;34mA_5.4_grav_0.2_mu_0.6\u001b[0m/      log_run_liggghts_collapseColumn_DEM_a5.4_g_0.2_mu_0.5\r\n",
        "\u001b[01;34mA_5.4_grav_0.2_mu_0.7\u001b[0m/      log_run_liggghts_collapseColumn_DEM_a5.4_g_0.2_mu_0.6\r\n",
        "\u001b[01;34mA_5.4_grav_0.2_mu_0.8\u001b[0m/      log_run_liggghts_collapseColumn_DEM_a5.4_g_0.2_mu_0.7\r\n",
        "\u001b[01;34mA_5.4_grav_0.2_mu_0.9\u001b[0m/      log_run_liggghts_collapseColumn_DEM_a5.4_g_0.2_mu_0.8\r\n",
        "\u001b[01;34mA_5.4_grav_0.5_mu_0.5\u001b[0m/      log_run_liggghts_collapseColumn_DEM_a5.4_g_0.2_mu_0.9\r\n",
        "\u001b[01;34mA_5.4_grav_0.5_mu_0.6\u001b[0m/      log_run_liggghts_collapseColumn_DEM_a5.4_g_0.5_mu_0.5\r\n",
        "\u001b[01;34mA_5.4_grav_0.5_mu_0.7\u001b[0m/      log_run_liggghts_collapseColumn_DEM_a5.4_g_0.5_mu_0.6\r\n",
        "\u001b[01;34mA_5.4_grav_0.5_mu_0.8\u001b[0m/      log_run_liggghts_collapseColumn_DEM_a5.4_g_0.5_mu_0.7\r\n",
        "\u001b[01;34mA_5.4_grav_0.5_mu_0.9\u001b[0m/      log_run_liggghts_collapseColumn_DEM_a5.4_g_0.5_mu_0.8\r\n",
        "\u001b[01;34mA_5.4_grav_10.0_mu_0.5\u001b[0m/     log_run_liggghts_collapseColumn_DEM_a5.4_g_0.5_mu_0.9\r\n",
        "\u001b[01;34mA_5.4_grav_10.0_mu_0.6\u001b[0m/     log_run_liggghts_collapseColumn_DEM_a5.4_g_10.0_mu_0.5\r\n",
        "\u001b[01;34mA_5.4_grav_10.0_mu_0.7\u001b[0m/     log_run_liggghts_collapseColumn_DEM_a5.4_g_10.0_mu_0.6\r\n",
        "\u001b[01;34mA_5.4_grav_10.0_mu_0.8\u001b[0m/     log_run_liggghts_collapseColumn_DEM_a5.4_g_10.0_mu_0.7\r\n",
        "\u001b[01;34mA_5.4_grav_10.0_mu_0.9\u001b[0m/     log_run_liggghts_collapseColumn_DEM_a5.4_g_10.0_mu_0.8\r\n",
        "\u001b[01;34mA_5.4_grav_1.0_mu_0.5\u001b[0m/      log_run_liggghts_collapseColumn_DEM_a5.4_g_10.0_mu_0.9\r\n",
        "\u001b[01;34mA_5.4_grav_1.0_mu_0.6\u001b[0m/      log_run_liggghts_collapseColumn_DEM_a5.4_g_1.0_mu_0.5\r\n",
        "\u001b[01;34mA_5.4_grav_1.0_mu_0.7\u001b[0m/      log_run_liggghts_collapseColumn_DEM_a5.4_g_1.0_mu_0.6\r\n",
        "\u001b[01;34mA_5.4_grav_1.0_mu_0.8\u001b[0m/      log_run_liggghts_collapseColumn_DEM_a5.4_g_1.0_mu_0.7\r\n",
        "\u001b[01;34mA_5.4_grav_1.0_mu_0.9\u001b[0m/      log_run_liggghts_collapseColumn_DEM_a5.4_g_1.0_mu_0.8\r\n",
        "\u001b[01;34mA_6.0_grav_0.1_mu_0.5\u001b[0m/      log_run_liggghts_collapseColumn_DEM_a5.4_g_1.0_mu_0.9\r\n",
        "\u001b[01;34mA_6.0_grav_0.1_mu_0.6\u001b[0m/      log_run_liggghts_collapseColumn_DEM_a6.0_g_0.1_mu_0.5\r\n",
        "\u001b[01;34mA_6.0_grav_0.1_mu_0.7\u001b[0m/      log_run_liggghts_collapseColumn_DEM_a6.0_g_0.1_mu_0.6\r\n",
        "\u001b[01;34mA_6.0_grav_0.1_mu_0.8\u001b[0m/      log_run_liggghts_collapseColumn_DEM_a6.0_g_0.1_mu_0.7\r\n",
        "\u001b[01;34mA_6.0_grav_0.1_mu_0.9\u001b[0m/      log_run_liggghts_collapseColumn_DEM_a6.0_g_0.1_mu_0.8\r\n",
        "\u001b[01;34mA_6.0_grav_0.2_mu_0.5\u001b[0m/      log_run_liggghts_collapseColumn_DEM_a6.0_g_0.1_mu_0.9\r\n",
        "\u001b[01;34mA_6.0_grav_1.0_mu_0.5\u001b[0m/      log_run_liggghts_collapseColumn_DEM_a6.0_g_0.2_mu_0.5\r\n",
        "\u001b[01;34mA_6.0_grav_1.0_mu_0.6\u001b[0m/      log_run_liggghts_collapseColumn_DEM_a6.0_g_1.0_mu_0.5\r\n",
        "\u001b[01;34mA_6.0_grav_1.0_mu_0.7\u001b[0m/      log_run_liggghts_collapseColumn_DEM_a6.0_g_1.0_mu_0.6\r\n",
        "\u001b[01;34mA_6.0_grav_1.0_mu_0.8\u001b[0m/      log_run_liggghts_collapseColumn_DEM_a6.0_g_1.0_mu_0.7\r\n",
        "\u001b[01;34mA_6.0_grav_1.0_mu_0.9\u001b[0m/      log_run_liggghts_collapseColumn_DEM_a6.0_g_1.0_mu_0.8\r\n",
        "\u001b[01;32mAllrun.sh\u001b[0m*                  log_run_liggghts_collapseColumn_DEM_a6.0_g_1.0_mu_0.9\r\n",
        "\u001b[01;32min.column\u001b[0m*                  \u001b[01;34mpost\u001b[0m/\r\n",
        "\u001b[01;32min.column~\u001b[0m*                 simJournal.txt\r\n",
        "in.fill2DColumnAndCollapse\r\n"
       ]
      }
     ],
     "prompt_number": 7
    },
    {
     "cell_type": "markdown",
     "metadata": {},
     "source": [
      "Each simulation should have a log file and a corresponding directory containing the data. This are named in a generic way as shown above:\n",
      "    \n",
      "* A_#1_grav_#2_mu_#3/\n",
      "\n",
      "* log_run_liggghts_collapseColumn_DEM_a#1_g_#2_mu_#3\n",
      "\n",
      "where each number represents the parameters used in the simulation: \n",
      "\n",
      "* \\#1 is the value of the initial aspect ratio, parameter $a=\\frac{H_0}{L_0}$;\n",
      "\n",
      "* \\#2 the multiple of the value of the acceleration of gravity on Earth used;\n",
      "\n",
      "* \\#3 the friction coefficient between interacting grains (and walls).\n",
      "    \n",
      "Information that we need to extract from the log file is the (fixed) time step $dt$ used in the simulation and the number of steps at which each dump file is generated (named dump_step below).\n",
      "\n",
      "Start by choosing the combination of parameters you want to process from the list of used values:"
     ]
    },
    {
     "cell_type": "code",
     "collapsed": false,
     "input": [
      "# A1 = np.arange(0.8,4.,0.6)\n",
      "# A2 = np.arange(5.4,11.0,0.6)\n",
      "# A = np.append(A1,A2)\n",
      "# rhos=np.append(np.array([1.0]),np.arange(2.0,4.0,0.5))\n",
      "As = np.array([1.4, 2.0, 2.6, 3.2, 3.8, 4.4, 5.0, 5.4, 6.0, 6.6, 7.2,\n",
      "               7.8, 8.4, 8.5, 9.1, 9.0, 9.6, 9.7, 10.2, 10.3, 10.8])\n",
      "mus = np.arange(0.5,1.0,0.1)\n",
      "gis = np.array([0.1, 0.2, 0.5, 1.0, 10.0])\n",
      "print \"The values of initial aspect ratio are [As]:\"\n",
      "print As\n",
      "print \"\\nThe values of gravity multiples of g are [gis]:\"\n",
      "print gis\n",
      "print \"\\nThe values of particle friction are [mus]:\"\n",
      "print mus"
     ],
     "language": "python",
     "metadata": {},
     "outputs": [
      {
       "output_type": "stream",
       "stream": "stdout",
       "text": [
        "The values of initial aspect ratio are [As]:\n",
        "[  1.4   2.    2.6   3.2   3.8   4.4   5.    5.4   6.    6.6   7.2   7.8\n",
        "   8.4   8.5   9.1   9.    9.6   9.7  10.2  10.3  10.8]\n",
        "\n",
        "The values of gravity multiples of g are [gis]:\n",
        "[  0.1   0.2   0.5   1.   10. ]\n",
        "\n",
        "The values of particle friction are [mus]:\n",
        "[ 0.5  0.6  0.7  0.8  0.9]\n"
       ]
      }
     ],
     "prompt_number": 18
    },
    {
     "cell_type": "code",
     "collapsed": false,
     "input": [
      "simulation_dir_l=(lambda x: 'A_%s_grav_%s_mu_%s/' %(x[0], x[1], x[2]))\n",
      "log_str='log_run_liggghts_collapseColumn_DEM_'\n",
      "simulation_log_l=(lambda x: log_str+'a%s_g_%s_mu_%s' %(x[0], x[1], x[2]))\n",
      "A = As[0]\n",
      "gi = gis[0]\n",
      "mu = mus[0]\n",
      "simulation_dir = simulation_dir_l(np.array([A,gi,mu]))\n",
      "if os.path.isdir(simulation_dir): simulation_log = simulation_log_l(np.array([A,gi,mu]))\n",
      "print simulation_log"
     ],
     "language": "python",
     "metadata": {},
     "outputs": [
      {
       "output_type": "stream",
       "stream": "stdout",
       "text": [
        "log_run_liggghts_collapseColumn_DEM_a1.4_g_0.1_mu_0.5\n"
       ]
      }
     ],
     "prompt_number": 35
    },
    {
     "cell_type": "code",
     "collapsed": false,
     "input": [
      "cat simulation_dir_l(np.array([A,gi,mu]))"
     ],
     "language": "python",
     "metadata": {},
     "outputs": [
      {
       "output_type": "stream",
       "stream": "stdout",
       "text": [
        "/bin/sh: 1: Syntax error: \"(\" unexpected\r\n"
       ]
      }
     ],
     "prompt_number": 32
    },
    {
     "cell_type": "code",
     "collapsed": false,
     "input": [
      "import os"
     ],
     "language": "python",
     "metadata": {},
     "outputs": [],
     "prompt_number": 27
    },
    {
     "cell_type": "code",
     "collapsed": false,
     "input": [
      "os.path.isdir(simulation_dir_l(np.array([A,gi,mu])))"
     ],
     "language": "python",
     "metadata": {},
     "outputs": [
      {
       "metadata": {},
       "output_type": "pyout",
       "prompt_number": 28,
       "text": [
        "True"
       ]
      }
     ],
     "prompt_number": 28
    },
    {
     "cell_type": "code",
     "collapsed": false,
     "input": [
      "dt=0.00001\n",
      "dump_step=5000\n",
      "dump_time=dump_step*dt"
     ],
     "language": "python",
     "metadata": {},
     "outputs": [],
     "prompt_number": 543
    },
    {
     "cell_type": "code",
     "collapsed": false,
     "input": [
      "dumps =  !ls dump* | sort -k2 -t _ -n\n",
      "steps_re = re.compile(r'\\d+')\n",
      "steps = np.array([steps_re.findall(f)[0] for f in dumps]).astype(float32)\n",
      "darray=np.array(dumps)\n",
      "si = steps.argsort()\n",
      "dumps = darray[si]"
     ],
     "language": "python",
     "metadata": {},
     "outputs": [],
     "prompt_number": 544
    },
    {
     "cell_type": "markdown",
     "metadata": {},
     "source": [
      "We can determine which of these steps correspond to a preparation or to the collapse, because in the simulation the data was dumped at different time steps:"
     ]
    },
    {
     "cell_type": "code",
     "collapsed": false,
     "input": [
      "index_collapse = np.insert(np.diff(np.sort(steps))==5000,1,False)"
     ],
     "language": "python",
     "metadata": {},
     "outputs": [],
     "prompt_number": 545
    },
    {
     "cell_type": "markdown",
     "metadata": {},
     "source": [
      "Then we determine the number of dumps before the collapse begins:"
     ]
    },
    {
     "cell_type": "code",
     "collapsed": false,
     "input": [
      "num_of_dumps_bef_collapse=index_collapse.size-np.count_nonzero(index_collapse)-1\n",
      "collapse_steps=steps[index_collapse]"
     ],
     "language": "python",
     "metadata": {},
     "outputs": [],
     "prompt_number": 546
    },
    {
     "cell_type": "markdown",
     "metadata": {},
     "source": [
      "And the step at which the collapse is completed:"
     ]
    },
    {
     "cell_type": "code",
     "collapsed": false,
     "input": [
      "fill_step=steps[num_of_dumps_bef_collapse]-dump_step"
     ],
     "language": "python",
     "metadata": {},
     "outputs": [],
     "prompt_number": 547
    },
    {
     "cell_type": "markdown",
     "metadata": {},
     "source": [
      "We then subtract the filling steps from the whole set of steps to get the steps corresponding to the collapse phase:"
     ]
    },
    {
     "cell_type": "code",
     "collapsed": false,
     "input": [
      "tmp = steps-fill_step\n",
      "steps_collapse_array = tmp[tmp>0]\n",
      "dump_time=dump_step*dt\n",
      "time_collapse_array = steps_collapse_array*dt\n",
      "\n",
      "t0 = num_of_dumps_bef_collapse-1\n",
      "ts = 1\n",
      "preshift=-t0\n",
      "postshift=0\n",
      "scale=dump_time\n",
      "\n",
      "print \"Collapse starts from dump number: \", num_of_dumps_bef_collapse\n",
      "print \"PreShift: \",preshift\n",
      "print \"PostShift: \",postshift\n",
      "print \"Scale: \", dump_time\n"
     ],
     "language": "python",
     "metadata": {},
     "outputs": [
      {
       "output_type": "stream",
       "stream": "stdout",
       "text": [
        "Collapse starts from dump number:  15\n",
        "PreShift:  -14\n",
        "PostShift:  0\n",
        "Scale:  0.05\n"
       ]
      }
     ],
     "prompt_number": 548
    },
    {
     "cell_type": "markdown",
     "metadata": {},
     "source": [
      "Now we call dump on each of the collapse files and process them. Notice that we don't really need to call paraview as we only used it to work on the vtk files, but that implied an extra step of processing. First we get completely familiar with dump and extract the information we need:"
     ]
    },
    {
     "cell_type": "code",
     "collapsed": false,
     "input": [
      "from dump import dump\n",
      "d = dump(dumps[t0])"
     ],
     "language": "python",
     "metadata": {},
     "outputs": [
      {
       "output_type": "stream",
       "stream": "stdout",
       "text": [
        "reading dump file...\n",
        "225000"
       ]
      },
      {
       "output_type": "stream",
       "stream": "stdout",
       "text": [
        "\n",
        "1 snapshots selected out of 1\n",
        "assigned columns: id type x y z ix iy iz vx vy vz fx fy fz omegax omegay omegaz radius \n",
        "dump is already unscaled\n"
       ]
      }
     ],
     "prompt_number": 549
    },
    {
     "cell_type": "markdown",
     "metadata": {},
     "source": [
      "For the moment we need the particle dynamic information, we can get that quickly using the vecs method:"
     ]
    },
    {
     "cell_type": "code",
     "collapsed": false,
     "input": [
      "time = d.time()[0]\n",
      "x,y,vx,vy,rad,mass = d.vecs(time,\"x\",\"y\",\"vx\",\"vy\",\"radius\",\"mass\")"
     ],
     "language": "python",
     "metadata": {},
     "outputs": [],
     "prompt_number": 550
    },
    {
     "cell_type": "markdown",
     "metadata": {},
     "source": [
      "We convert the output to numpy arrays so that we can easily manipulate it:"
     ]
    },
    {
     "cell_type": "code",
     "collapsed": false,
     "input": [
      "x = numpy.array(x)\n",
      "y = np.array(y)\n",
      "vx = np.array(vx)\n",
      "vy = np.array(vy)\n",
      "rad = np.array(rad)\n",
      "mass = np.array(mass)"
     ],
     "language": "python",
     "metadata": {},
     "outputs": [],
     "prompt_number": 551
    },
    {
     "cell_type": "markdown",
     "metadata": {},
     "source": [
      "Since this is the first step, we calculate the initial aspect ratio, parameter $a=\\frac{H_0}{L_0}$, of the column:"
     ]
    },
    {
     "cell_type": "code",
     "collapsed": false,
     "input": [
      "# this sould only be calculted for the first time steps\n",
      "L0 = (x.max()+rad[x.argmax()]) - (x.min()-rad[x.argmin()])\n",
      "H0 = (y.max()+rad[y.argmax()]) - (y.min()-rad[y.argmin()])\n",
      "aParam = H0/L0\n",
      "print \"The column's height is ~: %f\" % H0\n",
      "print \"The column's width is ~: %f\" % L0\n",
      "print \"The initial aspect ratio for this column is: %f\" % aParam"
     ],
     "language": "python",
     "metadata": {},
     "outputs": [
      {
       "output_type": "stream",
       "stream": "stdout",
       "text": [
        "The column's height is ~: 0.867045\n",
        "The column's width is ~: 0.133131\n",
        "The initial aspect ratio for this column is: 6.512710\n"
       ]
      }
     ],
     "prompt_number": 552
    },
    {
     "cell_type": "code",
     "collapsed": false,
     "input": [
      "plt.scatter(x, y);"
     ],
     "language": "python",
     "metadata": {},
     "outputs": [
      {
       "metadata": {},
       "output_type": "display_data",
       "png": "[encoded data removed]",
       "text": [
        "<matplotlib.figure.Figure at 0x5c90dd0>"
       ]
      }
     ],
     "prompt_number": 553
    },
    {
     "cell_type": "markdown",
     "metadata": {},
     "source": [
      "We can, for example, get the kinetic energy of each grain in the system:"
     ]
    },
    {
     "cell_type": "code",
     "collapsed": false,
     "input": [
      "vel2 = np.multiply(vel,vel)\n",
      "ke = 0.5*mass*vel2.sum(axis=0)"
     ],
     "language": "python",
     "metadata": {},
     "outputs": [],
     "prompt_number": 554
    },
    {
     "cell_type": "markdown",
     "metadata": {},
     "source": [
      "And the average kinetic energy of the system, which in this case should be very close to zero since this is the first time step, right before the collapse starts:"
     ]
    },
    {
     "cell_type": "code",
     "collapsed": false,
     "input": [
      "KE = ke.mean()"
     ],
     "language": "python",
     "metadata": {},
     "outputs": [],
     "prompt_number": 555
    },
    {
     "cell_type": "markdown",
     "metadata": {},
     "source": [
      "Looks good. Now we can get the potential energy of the column:"
     ]
    },
    {
     "cell_type": "code",
     "collapsed": false,
     "input": [
      "y = pos[1,:]\n",
      "g = 9.81\n",
      "pe = mass*y*g\n",
      "pe.mean()"
     ],
     "language": "python",
     "metadata": {},
     "outputs": [
      {
       "metadata": {},
       "output_type": "pyout",
       "prompt_number": 556,
       "text": [
        "0.00023785598629044009"
       ]
      }
     ],
     "prompt_number": 556
    },
    {
     "cell_type": "code",
     "collapsed": false,
     "input": [
      "atoms = d.snaps[0].atoms\n",
      "names = d.names\n",
      "atom = atoms[0]\n",
      "# id type x y z ix iy iz vx vy vz fx fy fz omegax omegay omegaz radius\n",
      "atom"
     ],
     "language": "python",
     "metadata": {},
     "outputs": [
      {
       "metadata": {},
       "output_type": "pyout",
       "prompt_number": 557,
       "text": [
        "array([  1.50000000e+03,   1.00000000e+00,   1.68554000e-03,\n",
        "         8.35771000e-03,   0.00000000e+00,   0.00000000e+00,\n",
        "         0.00000000e+00,   0.00000000e+00,   6.95250000e-07,\n",
        "         6.66305000e-07,   0.00000000e+00,   1.20337000e-08,\n",
        "         3.48415000e-09,   0.00000000e+00,   0.00000000e+00,\n",
        "         0.00000000e+00,   3.23504000e-05,   1.70600000e-03,\n",
        "         5.20078000e-05])"
       ]
      }
     ],
     "prompt_number": 557
    },
    {
     "cell_type": "markdown",
     "metadata": {},
     "source": [
      "Then we can postprocess using lpp script provided by liggghts. For this we call an external bash script that runs in the background, passing the value of $t0$ to select only the dumps of the collapse."
     ]
    },
    {
     "cell_type": "code",
     "collapsed": false,
     "input": [
      "%%bash --bg -s \"$t0\"\n",
      "dumps2lpp=$(ls dump_* | sort -n -t _ -k 2 | sed 1,$1d)\n",
      "lpp='python /home/htapia/projects/liggghts/LPP/src/lpp.py'\n",
      "$lpp $dumps2lpp"
     ],
     "language": "python",
     "metadata": {},
     "outputs": [
      {
       "output_type": "stream",
       "stream": "stdout",
       "text": [
        "Starting job # 6 in a separate thread.\n"
       ]
      }
     ],
     "prompt_number": 558
    },
    {
     "cell_type": "markdown",
     "metadata": {},
     "source": [
      "Now sort the files to have them in the correct step order (just as we did at the beginning with the dump files):"
     ]
    },
    {
     "cell_type": "code",
     "collapsed": false,
     "input": [
      "egy_files = !ls *egys.txt \n",
      "steps = np.array([steps_re.findall(f)[0] for f in egy_files]).astype(float32)\n",
      "earray=np.array(egy_files)\n",
      "si = steps.argsort()\n",
      "egy_files = earray[si]"
     ],
     "language": "python",
     "metadata": {},
     "outputs": [],
     "prompt_number": 559
    },
    {
     "cell_type": "code",
     "collapsed": false,
     "input": [
      "e"
     ],
     "language": "python",
     "metadata": {},
     "outputs": []
    },
    {
     "cell_type": "code",
     "collapsed": false,
     "input": [
      "ave_ke = []\n",
      "ave_pe = []\n",
      "for (count, fn) in enumerate(egy_files):\n",
      "    egys = np.genfromtxt(fn, skip_header=3)\n",
      "    ke_ave = egys[:,0].mean()\n",
      "    pe_ave = egys[:,1].mean()\n",
      "    ave_ke = np.append(ave_ke, ke_ave)\n",
      "    ave_pe = np.append(ave_pe, pe_ave)\n",
      "    if (count > 1 and ke_ave < 2.0e-08): break"
     ],
     "language": "python",
     "metadata": {},
     "outputs": [],
     "prompt_number": 561
    },
    {
     "cell_type": "code",
     "collapsed": false,
     "input": [
      "ave_pe = g*ave_pe\n",
      "KE = ave_ke/ave_pe[0]\n",
      "PE = ave_pe/ave_pe[0]\n",
      "Time = time_collapse_array[0:count+1]"
     ],
     "language": "python",
     "metadata": {},
     "outputs": [],
     "prompt_number": 562
    },
    {
     "cell_type": "code",
     "collapsed": false,
     "input": [
      "plot(Time,KE,'r.-',Time,PE,'b.-');"
     ],
     "language": "python",
     "metadata": {},
     "outputs": [
      {
       "metadata": {},
       "output_type": "display_data",
       "png": "[encoded data removed]",
       "text": [
        "<matplotlib.figure.Figure at 0x9350450>"
       ]
      }
     ],
     "prompt_number": 563
    },
    {
     "cell_type": "markdown",
     "metadata": {},
     "source": [
      "Each data directory is named \"A_\\$1_rho_\\$2\" where \\$1 refers to the value of parameter $a$ and \\$2 to the ratio of densities. A whole run would process all data dirs but in this case I am interested in studying results for each value of $a$. Then I can generalize.\n",
      "\n",
      "For reference, the values of $a$ studied where:"
     ]
    },
    {
     "cell_type": "code",
     "collapsed": false,
     "input": [
      "A1=np.arange(0.8,4.,0.6)\n",
      "A2=np.arange(5.4,11.0,0.6)\n",
      "A = np.append(A1,A2)\n",
      "print A"
     ],
     "language": "python",
     "metadata": {},
     "outputs": []
    },
    {
     "cell_type": "markdown",
     "metadata": {},
     "source": [
      "And for each one, five values of density ratios where studied:"
     ]
    },
    {
     "cell_type": "code",
     "collapsed": false,
     "input": [
      "rhos=np.append(np.array([1.0]),np.arange(2.0,4.0,0.5))\n",
      "print rhos"
     ],
     "language": "python",
     "metadata": {},
     "outputs": []
    },
    {
     "cell_type": "markdown",
     "metadata": {},
     "source": [
      "We assume all \\*.vtk files exist in the data directory and process them using pvpython. The code uses as an input argument the value of parameter $a$ and works the rest, returning an object containig the process data. Because today I have the resulting structure, I will work on this notebook on the task of plotting and getting the information from the structure."
     ]
    },
    {
     "cell_type": "code",
     "collapsed": false,
     "input": [],
     "language": "python",
     "metadata": {},
     "outputs": []
    },
    {
     "cell_type": "code",
     "collapsed": false,
     "input": [
      "%%bash --bg -s \"$htm_projects_liggghts_lpp\" \"$htm_projects_liggghts_column2D_dumps\" --out lpp_lines\n",
      "\n",
      "python $1 $2"
     ],
     "language": "python",
     "metadata": {},
     "outputs": []
    }
   ],
   "metadata": {}
  }
 ]
}